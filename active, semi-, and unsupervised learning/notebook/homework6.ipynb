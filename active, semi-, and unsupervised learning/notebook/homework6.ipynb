{
 "cells": [
  {
   "cell_type": "code",
   "execution_count": 376,
   "metadata": {},
   "outputs": [],
   "source": [
    "import pandas as pd\n",
    "import numpy as np\n",
    "from sklearn.model_selection import train_test_split\n",
    "from sklearn.svm import LinearSVC\n",
    "from sklearn.model_selection import GridSearchCV\n",
    "from sklearn.pipeline import Pipeline\n",
    "from sklearn.preprocessing import MinMaxScaler\n",
    "from sklearn.preprocessing import StandardScaler\n",
    "import sklearn.metrics as skm\n",
    "import matplotlib.pyplot as plt\n",
    "from sklearn.cluster import KMeans\n",
    "from scipy.spatial.distance import cdist\n",
    "from scipy.stats import mode\n",
    "from sklearn.cluster import SpectralClustering\n",
    "from sklearn.neighbors import KNeighborsClassifier\n",
    "from collections import Counter\n",
    "import warnings\n",
    "warnings.filterwarnings('ignore')"
   ]
  },
  {
   "cell_type": "markdown",
   "metadata": {},
   "source": [
    "# 1. Supervised, Semi-Supervised, and Unsupervised Learning\n",
    "\n",
    "## b) Monte-Carlo Simulation\n",
    "For each method, I will be repeating the procedure 30 times and use randomly selected train and test data\n",
    "\n",
    "### i. Supervised Learning (L1-Penalized SVM)"
   ]
  },
  {
   "cell_type": "code",
   "execution_count": 459,
   "metadata": {},
   "outputs": [],
   "source": [
    "def print_metrics(y, pred, pred_prob, roc):\n",
    "    accuracy = skm.accuracy_score(y, pred)\n",
    "    precision = skm.precision_score(y, pred)\n",
    "    recall = skm.recall_score(y, pred)\n",
    "    f1 = skm.f1_score(y, pred)\n",
    "    \n",
    "    fpr, tpr, _ = skm.roc_curve(y, pred_prob)\n",
    "    \n",
    "    if roc:\n",
    "        print(\"Confusion Matrix: \")\n",
    "        print(skm.confusion_matrix(y, pred))\n",
    "        \n",
    "        plt.plot(fpr, tpr)\n",
    "        plt.xlabel('False Positive Rate')\n",
    "        plt.ylabel('True Positive Rate')\n",
    "        plt.plot([0, 1], [0, 1], 'k--')\n",
    "        plt.xlim([-0.02, 1.0])\n",
    "        plt.ylim([0.0, 1.02])\n",
    "        plt.title(\"ROC Curve\")\n",
    "        plt.show()\n",
    "        \n",
    "    auc = skm.auc(fpr, tpr)\n",
    "    \n",
    "    return [accuracy, precision, recall, f1, auc]\n",
    "    \n",
    "    \n",
    "def svm_l1(c, train_X, test_X, train_y, test_y, roc):\n",
    "    metrics = []\n",
    "    svm_l1 = LinearSVC(C=c, max_iter=1000, penalty='l1', dual=False)\n",
    "    svm_l1.fit(train_X, train_y)\n",
    "    \n",
    "    predict_test = svm_l1.predict(test_X)\n",
    "    predict_train = svm_l1.predict(train_X)\n",
    "    predict_prob_test = svm_l1.decision_function(test_X)\n",
    "    predict_prob_train = svm_l1.decision_function(train_X)\n",
    "    \n",
    "    if roc:\n",
    "        print(\"Test ROC + Confusion Matrix\")\n",
    "    test_metrics = print_metrics(test_y, predict_test, predict_prob_test, roc)\n",
    "    if roc:\n",
    "        print(\"Train ROC + Confusion Matrix\")\n",
    "    train_metrics = print_metrics(train_y, predict_train, predict_prob_train, roc)\n",
    "    \n",
    "    return test_metrics, train_metrics\n",
    "    \n",
    "    \n",
    "def svm_l1_cv(params, train_X, trainy):\n",
    "    pipe = Pipeline([('scaler', StandardScaler()), \n",
    "                         ('svc', LinearSVC(max_iter=1000, penalty='l1', dual=False))])\n",
    "    svm_l1_cv = GridSearchCV(estimator=pipe, param_grid=params, n_jobs=-1, cv=5)\n",
    "    svm_l1_cv.fit(train_X, trainy)\n",
    "    \n",
    "    # Extract ideal parameters from cross-validation\n",
    "    ideal_C = svm_l1_cv.best_params_['svc__C']\n",
    "    \n",
    "    return ideal_C"
   ]
  },
  {
   "cell_type": "code",
   "execution_count": 429,
   "metadata": {},
   "outputs": [],
   "source": [
    "df = pd.read_table('../data/wdbc.data', sep=',', header=None).iloc[:, 1:]\n",
    "X = df.iloc[:, 1:]\n",
    "y = df.iloc[:, 0].replace({'M': 1, 'B': 0}) # we convert malignant to 1 (meaning positive) and 0 otherwise"
   ]
  },
  {
   "cell_type": "markdown",
   "metadata": {},
   "source": [
    "#### We execute the SVM learner once to tune the lower and upper bounds for lambda, and also to display the ROC Curve and confusion matrix"
   ]
  },
  {
   "cell_type": "code",
   "execution_count": 439,
   "metadata": {},
   "outputs": [],
   "source": [
    "train_X, test_X, train_y, test_y = train_test_split(X, y, test_size=0.2, random_state=0, stratify=y)"
   ]
  },
  {
   "cell_type": "markdown",
   "metadata": {},
   "source": [
    "I am only normalizing to pass through the tuned model. Notice how, in the cross-validation function, I pipelined th StandardScaler() to normalize each fold"
   ]
  },
  {
   "cell_type": "code",
   "execution_count": 440,
   "metadata": {},
   "outputs": [],
   "source": [
    "standardize = StandardScaler()\n",
    "train_X_std = standardize.fit_transform(train_X)\n",
    "test_X_std = standardize.fit_transform(test_X)"
   ]
  },
  {
   "cell_type": "markdown",
   "metadata": {},
   "source": [
    "Deciding the upper and lower bounds for lambda"
   ]
  },
  {
   "cell_type": "code",
   "execution_count": 441,
   "metadata": {},
   "outputs": [
    {
     "name": "stdout",
     "output_type": "stream",
     "text": [
      "lb\n",
      "ub\n"
     ]
    },
    {
     "data": {
      "text/plain": [
       "([0.631578947368421, 0.0, 0.0, 0.0, 0.5],\n",
       " [0.6263736263736264, 0.0, 0.0, 0.0, 0.5])"
      ]
     },
     "execution_count": 441,
     "metadata": {},
     "output_type": "execute_result"
    }
   ],
   "source": [
    "lamb_lb = 1e-3\n",
    "lamb_ub = 1e6\n",
    "\n",
    "print(\"lb\")\n",
    "svm_l1(1/lamb_lb, train_X_std, test_X_std, train_y, test_y, False)\n",
    "\n",
    "print(\"ub\")\n",
    "svm_l1(1/lamb_ub, train_X_std, test_X_std, train_y, test_y, False)"
   ]
  },
  {
   "cell_type": "code",
   "execution_count": 442,
   "metadata": {},
   "outputs": [
    {
     "name": "stdout",
     "output_type": "stream",
     "text": [
      "Test ROC + Confusion Matrix\n",
      "Confusion Matrix: \n",
      "[[70  2]\n",
      " [ 4 38]]\n"
     ]
    },
    {
     "data": {
      "image/png": "[encoded data removed]",
      "text/plain": [
       "<Figure size 432x288 with 1 Axes>"
      ]
     },
     "metadata": {
      "needs_background": "light"
     },
     "output_type": "display_data"
    },
    {
     "name": "stdout",
     "output_type": "stream",
     "text": [
      "Train ROC + Confusion Matrix\n",
      "Confusion Matrix: \n",
      "[[285   0]\n",
      " [  3 167]]\n"
     ]
    },
    {
     "data": {
      "image/png": "[encoded data removed]",
      "text/plain": [
       "<Figure size 432x288 with 1 Axes>"
      ]
     },
     "metadata": {
      "needs_background": "light"
     },
     "output_type": "display_data"
    }
   ],
   "source": [
    "params = {\"svc__C\": 1/np.logspace(-3, 6, 20)}\n",
    "\n",
    "ideal_C = svm_l1_cv(params, train_X, train_y)\n",
    "test_metrics, train_metrics = svm_l1(ideal_C, train_X_std, test_X_std, train_y, test_y, True)"
   ]
  },
  {
   "cell_type": "markdown",
   "metadata": {},
   "source": [
    "#### Do the same process 29 more times, then find the average"
   ]
  },
  {
   "cell_type": "code",
   "execution_count": 443,
   "metadata": {},
   "outputs": [],
   "source": [
    "test_list = [test_metrics]\n",
    "train_list = [train_metrics]\n",
    "for i in range(29):\n",
    "    train_X, test_X, train_y, test_y = train_test_split(X, y, test_size=0.2, stratify=y)\n",
    "    standardize = StandardScaler()\n",
    "    train_X_std = standardize.fit_transform(train_X)\n",
    "    test_X_std = standardize.fit_transform(test_X)\n",
    "\n",
    "    ideal_C = svm_l1_cv(params, train_X, train_y)\n",
    "    test, train = svm_l1(ideal_C, train_X_std, test_X_std, train_y, test_y, False)\n",
    "    test_list.append(test)\n",
    "    train_list.append(train)"
   ]
  },
  {
   "cell_type": "code",
   "execution_count": 444,
   "metadata": {},
   "outputs": [
    {
     "name": "stdout",
     "output_type": "stream",
     "text": [
      "Test Set Summary: \n",
      "Accuracy     0.957895\n",
      "Precision    0.944882\n",
      "Recall       0.942063\n",
      "F1           0.942925\n",
      "AUC          0.987302\n",
      "dtype: float64\n",
      "\n",
      "Train Set Summary: \n",
      "Accuracy     0.991502\n",
      "Precision    0.995044\n",
      "Recall       0.982157\n",
      "F1           0.988547\n",
      "AUC          0.999044\n",
      "dtype: float64\n"
     ]
    }
   ],
   "source": [
    "summary_test = pd.DataFrame(test_list, columns =['Accuracy', 'Precision', 'Recall', 'F1', 'AUC'])\n",
    "print(\"Test Set Summary: \")\n",
    "print(summary_test.mean())\n",
    "\n",
    "summary_train = pd.DataFrame(train_list, columns =['Accuracy', 'Precision', 'Recall', 'F1', 'AUC'])\n",
    "print(\"\\nTrain Set Summary: \")\n",
    "print(summary_train.mean())"
   ]
  },
  {
   "cell_type": "markdown",
   "metadata": {},
   "source": [
    "## ii. Semi-Supervised/Self-Training\n",
    "\n",
    "1. Start with 50% of positive and negative class as labeled data. The rest are unlabeled.\n",
    "2. Train the labelled data with L1 penalized SVM using 5-fold CV\n",
    "3. Pick the unlabeled data point that is farthest to the decision boundary\n",
    "    a) Label it, then train the SVM again with that datapoint\n",
    "    b) Repeat 3 until all the unlabelled data is classified\n",
    "4. Train the final SVM and print the same metrics\n",
    "\n",
    "#### We start, again, by doing this process once. We also display the ROC and Confusion matrix for this run"
   ]
  },
  {
   "cell_type": "code",
   "execution_count": 445,
   "metadata": {},
   "outputs": [],
   "source": [
    "def svm_l1_selftrain(c, train_X, unlabeled_X, train_y):\n",
    "    svm_l1 = LinearSVC(C=c, max_iter=1000, penalty='l1', dual=False)\n",
    "    svm_l1.fit(train_X, train_y)\n",
    "    predict_prob = svm_l1.decision_function(unlabeled_X)\n",
    "    #w_norm = np.linalg.norm(svm_l1.coef_)\n",
    "    #dist = predict_prob/w_norm\n",
    "\n",
    "    predict = svm_l1.predict(unlabeled_X)\n",
    "\n",
    "    farthest = np.argmax(np.absolute(predict_prob))\n",
    "    \n",
    "    return farthest, predict[farthest]"
   ]
  },
  {
   "cell_type": "markdown",
   "metadata": {},
   "source": [
    "Before everything, I'm roughly narrowing the bounds to cross-validate with"
   ]
  },
  {
   "cell_type": "code",
   "execution_count": 446,
   "metadata": {},
   "outputs": [],
   "source": [
    "train_X, test_X, train_y, test_y = train_test_split(X, y, test_size=0.2, stratify=y)\n",
    "train_labeled_X, train_unlabeled_X, train_labeled_y, train_unlabeled_y = train_test_split(train_X, \n",
    "                                                train_y, test_size = 0.5, random_state=3, stratify=train_y)\n",
    "\n",
    "train_unlabeled_X = train_unlabeled_X.reset_index().drop(columns=['index'])\n",
    "train_labeled_X = train_labeled_X.reset_index().drop(columns=['index'])\n",
    "train_labeled_y = list(train_labeled_y.ravel())"
   ]
  },
  {
   "cell_type": "code",
   "execution_count": 447,
   "metadata": {},
   "outputs": [],
   "source": [
    "standardize = StandardScaler()\n",
    "train_X_std = standardize.fit_transform(train_labeled_X)\n",
    "test_X_std = standardize.fit_transform(test_X)"
   ]
  },
  {
   "cell_type": "code",
   "execution_count": 448,
   "metadata": {},
   "outputs": [
    {
     "name": "stdout",
     "output_type": "stream",
     "text": [
      "lb\n",
      "ub\n"
     ]
    },
    {
     "data": {
      "text/plain": [
       "([0.631578947368421, 0.0, 0.0, 0.0, 0.5],\n",
       " [0.6255506607929515, 0.0, 0.0, 0.0, 0.5])"
      ]
     },
     "execution_count": 448,
     "metadata": {},
     "output_type": "execute_result"
    }
   ],
   "source": [
    "lamb_lb = 1e-4\n",
    "lamb_ub = 1e6\n",
    "\n",
    "print(\"lb\")\n",
    "svm_l1(1/lamb_lb, train_X_std, test_X_std, train_labeled_y, test_y, False)\n",
    "\n",
    "print(\"ub\")\n",
    "svm_l1(1/lamb_ub, train_X_std, test_X_std, train_labeled_y, test_y, False)"
   ]
  },
  {
   "cell_type": "markdown",
   "metadata": {},
   "source": [
    "#### A. Train L1-Penalized SVM"
   ]
  },
  {
   "cell_type": "code",
   "execution_count": 449,
   "metadata": {},
   "outputs": [],
   "source": [
    "params = {\"svc__C\": 1/np.logspace(-4, 6, 20)}\n",
    "\n",
    "ideal_C = svm_l1_cv(params, train_labeled_X, train_labeled_y)"
   ]
  },
  {
   "cell_type": "markdown",
   "metadata": {},
   "source": [
    "#### B. Constantly Retrain SVM by Including One Unlabeled Datapoint to Labeled"
   ]
  },
  {
   "cell_type": "code",
   "execution_count": 450,
   "metadata": {},
   "outputs": [
    {
     "name": "stdout",
     "output_type": "stream",
     "text": [
      "Test ROC + Confusion Matrix\n",
      "Confusion Matrix: \n",
      "[[66  6]\n",
      " [ 4 38]]\n"
     ]
    },
    {
     "data": {
      "image/png": "[encoded data removed]",
      "text/plain": [
       "<Figure size 432x288 with 1 Axes>"
      ]
     },
     "metadata": {
      "needs_background": "light"
     },
     "output_type": "display_data"
    },
    {
     "name": "stdout",
     "output_type": "stream",
     "text": [
      "Train ROC + Confusion Matrix\n",
      "Confusion Matrix: \n",
      "[[291   0]\n",
      " [  0 164]]\n"
     ]
    },
    {
     "data": {
      "image/png": "[encoded data removed]",
      "text/plain": [
       "<Figure size 432x288 with 1 Axes>"
      ]
     },
     "metadata": {
      "needs_background": "light"
     },
     "output_type": "display_data"
    }
   ],
   "source": [
    "train_X_std = standardize.fit_transform(train_labeled_X)\n",
    "train_unlabeled_X_std = standardize.fit_transform(train_unlabeled_X)\n",
    "\n",
    "while len(train_unlabeled_X_std) > 0:\n",
    "    # Find the farthest point of the SVM and its predicted label\n",
    "    farthest, label = svm_l1_selftrain(ideal_C, train_X_std, train_unlabeled_X_std, train_labeled_y)\n",
    "    \n",
    "    # Isolate row from the unlabeled set\n",
    "    buffer_row = train_unlabeled_X_std[farthest]\n",
    "    train_unlabeled_X_std = np.delete(train_unlabeled_X_std, farthest, axis=0)\n",
    "\n",
    "    # add the row to labeled set\n",
    "    train_X_std = np.append(train_X_std, [buffer_row], axis=0)\n",
    "    train_labeled_y.append(label)\n",
    "\n",
    "# finally, train the last one\n",
    "#ideal_C = svm_l1_cv(params, train_labeled_X, train_labeled_y)\n",
    "#train_X_std = standardize.fit_transform(train_labeled_X)\n",
    "test_metrics, train_metrics = svm_l1(ideal_C, train_X_std, test_X_std, train_labeled_y, test_y, True)"
   ]
  },
  {
   "cell_type": "markdown",
   "metadata": {},
   "source": [
    "#### Repeat 29 more times, then take the mean"
   ]
  },
  {
   "cell_type": "code",
   "execution_count": 451,
   "metadata": {},
   "outputs": [],
   "source": [
    "params = {\"svc__C\": 1/np.logspace(-4, 6, 20)}\n",
    "test_list = [test_metrics]\n",
    "train_list = [train_metrics]\n",
    "for i in range(29):\n",
    "    train_X, test_X, train_y, test_y = train_test_split(X, y, test_size=0.2, stratify=y)\n",
    "    train_labeled_X, train_unlabeled_X, train_labeled_y, train_unlabeled_y = train_test_split(train_X, \n",
    "                                                    train_y, test_size = 0.5, stratify=train_y)\n",
    "\n",
    "    train_unlabeled_X = train_unlabeled_X.reset_index().drop(columns=['index'])\n",
    "    train_labeled_X = train_labeled_X.reset_index().drop(columns=['index'])\n",
    "    train_labeled_y = list(train_labeled_y.ravel())\n",
    "    \n",
    "    \n",
    "    # --- PART A. Train an L1-Penalized SVM with CV = 5 ---\n",
    "    ideal_C = svm_l1_cv(params, train_labeled_X, train_labeled_y)\n",
    "    \n",
    "    # Normalizing all datasets first\n",
    "    test_X_std = standardize.fit_transform(test_X)  \n",
    "    train_X_std = standardize.fit_transform(train_labeled_X)\n",
    "    train_unlabeled_X_std = standardize.fit_transform(train_unlabeled_X)\n",
    "\n",
    "    # --- PART B ---\n",
    "    while len(train_unlabeled_X_std) > 0:\n",
    "        # Find the farthest point of the SVM and its predicted label\n",
    "        farthest, label = svm_l1_selftrain(ideal_C, train_X_std, train_unlabeled_X_std, train_labeled_y)\n",
    "\n",
    "        # Isolate row from the unlabeled set\n",
    "        buffer_row = train_unlabeled_X_std[farthest]\n",
    "        train_unlabeled_X_std = np.delete(train_unlabeled_X_std, farthest, axis=0)\n",
    "\n",
    "        # add the row to labeled set\n",
    "        train_X_std = np.append(train_X_std, [buffer_row], axis=0)\n",
    "        train_labeled_y.append(label)\n",
    "    \n",
    "    test, train = svm_l1(ideal_C, train_X_std, test_X_std, train_labeled_y, test_y, False)\n",
    "    test_list.append(test)\n",
    "    train_list.append(train)"
   ]
  },
  {
   "cell_type": "code",
   "execution_count": 452,
   "metadata": {},
   "outputs": [
    {
     "name": "stdout",
     "output_type": "stream",
     "text": [
      "Test Set Summary: \n",
      "Accuracy     0.954971\n",
      "Precision    0.936753\n",
      "Recall       0.945238\n",
      "F1           0.939982\n",
      "AUC          0.988183\n",
      "dtype: float64\n",
      "\n",
      "Train Set Summary: \n",
      "Accuracy     0.997363\n",
      "Precision    0.999401\n",
      "Recall       0.993467\n",
      "F1           0.996413\n",
      "AUC          0.999765\n",
      "dtype: float64\n"
     ]
    }
   ],
   "source": [
    "summary_test_b = pd.DataFrame(test_list, columns =['Accuracy', 'Precision', 'Recall', 'F1', 'AUC'])\n",
    "print(\"Test Set Summary: \")\n",
    "print(summary_test_b.mean())\n",
    "\n",
    "summary_train_b = pd.DataFrame(train_list, columns =['Accuracy', 'Precision', 'Recall', 'F1', 'AUC'])\n",
    "print(\"\\nTrain Set Summary: \")\n",
    "print(summary_train_b.mean())"
   ]
  },
  {
   "cell_type": "markdown",
   "metadata": {},
   "source": [
    "### iii. Unsupervised Learning (K-Means)\n",
    "We assume that k = 2 instead of looking at the labels of the data\n",
    "\n",
    "#### We first run the KMeans algorithm once, and display ROC & Confusion Matrix\n",
    "#### A) \n",
    "- Run k-means multiple times to make sure that the algorithm is not trapped in a local minimum\n",
    "\n",
    "**How to avoid local minima**: Notice that I iterated KMeans 1,000 times, and initialized the points randomly (as opposed to using kmeans++). I'm doing this in order to minimize the chances that my algorithm is trapped in a local minimum. Of course, there is no guarantee, but repeating it 1,000 times may be sufficient to find the optimal solution"
   ]
  },
  {
   "cell_type": "code",
   "execution_count": 454,
   "metadata": {},
   "outputs": [],
   "source": [
    "train_X, test_X, train_y, test_y = train_test_split(X, y, test_size=0.2, random_state=0, stratify=y)\n",
    "train_X = train_X.reset_index().drop(columns=['index'])\n",
    "train_y = train_y.reset_index().drop(columns=['index'])\n",
    "test_X = test_X.reset_index().drop(columns=['index'])\n",
    "\n",
    "train_X_std = standardize.fit_transform(train_X)\n",
    "test_X_std = standardize.fit_transform(test_X)\n",
    "km = KMeans(n_clusters=2, init='random', n_init=1000).fit(train_X_std)"
   ]
  },
  {
   "cell_type": "markdown",
   "metadata": {},
   "source": [
    "#### B)\n",
    "- Find centers of the 2 clusters and find closest 30 data points to each other.\n",
    "- Find true labels of those 30 data points and take majority poll. That poll becomes the label predicted by kmeans of each cluster\n",
    "\n",
    "**Note on ROC and AUC**: I passed the distances of the data point to the cluster center through a softmax function to calculate probabilities. While this is a proxy, it might not be the best point of reference to compare with other methods"
   ]
  },
  {
   "cell_type": "code",
   "execution_count": 455,
   "metadata": {},
   "outputs": [
    {
     "name": "stdout",
     "output_type": "stream",
     "text": [
      "Confusion Matrix: \n",
      "[[277   8]\n",
      " [ 33 137]]\n"
     ]
    },
    {
     "data": {
      "image/png": "[encoded data removed]",
      "text/plain": [
       "<Figure size 432x288 with 1 Axes>"
      ]
     },
     "metadata": {
      "needs_background": "light"
     },
     "output_type": "display_data"
    }
   ],
   "source": [
    "centers = km.cluster_centers_\n",
    "pred_cluster = km.labels_\n",
    "distances = cdist(train_X_std, centers, 'euclidean')\n",
    "cluster1 = np.array([i[0] for i in distances])\n",
    "cluster2 = np.array([i[1] for i in distances])\n",
    "min_30_1 = cluster1.argsort()[:30]\n",
    "min_30_2 = cluster2.argsort()[:30]\n",
    "min1 = train_y.iloc[min_30_1, :].to_numpy().flatten()\n",
    "min2 = train_y.iloc[min_30_2, :].to_numpy().flatten()\n",
    "\n",
    "replace = {0: mode(min1)[0][0], 1: mode(min2)[0][0]}\n",
    "\n",
    "pred_class = [replace[i] for i in pred_cluster]\n",
    "\n",
    "dist = []\n",
    "for i, j in enumerate(pred_cluster):\n",
    "    centroid = centers[j]\n",
    "    datapoint = train_X_std[i]\n",
    "    dist.append(np.linalg.norm(centroid-datapoint))\n",
    "\n",
    "probabilities = np.exp(dist) / np.sum(np.exp(dist)) # pass through a softmax function\n",
    "\n",
    "train1 = print_metrics(train_y, pred_class, probabilities, True)"
   ]
  },
  {
   "cell_type": "markdown",
   "metadata": {},
   "source": [
    "#### C) Classify Test data"
   ]
  },
  {
   "cell_type": "code",
   "execution_count": 456,
   "metadata": {},
   "outputs": [
    {
     "name": "stdout",
     "output_type": "stream",
     "text": [
      "Confusion Matrix: \n",
      "[[65  7]\n",
      " [ 7 35]]\n"
     ]
    },
    {
     "data": {
      "image/png": "[encoded data removed]",
      "text/plain": [
       "<Figure size 432x288 with 1 Axes>"
      ]
     },
     "metadata": {
      "needs_background": "light"
     },
     "output_type": "display_data"
    }
   ],
   "source": [
    "pred_cluster = km.predict(test_X_std)\n",
    "\n",
    "pred_class = [replace[i] for i in pred_cluster]\n",
    "\n",
    "## Compute distance of each datapoint to respective cluster\n",
    "dist = []\n",
    "for i, j in enumerate(pred_cluster):\n",
    "    centroid = centers[j]\n",
    "    datapoint = test_X_std[i]\n",
    "    dist.append(np.linalg.norm(centroid-datapoint))\n",
    "\n",
    "probabilities = np.exp(dist) / np.sum(np.exp(dist)) # pass through a softmax function\n",
    "\n",
    "test1 = print_metrics(test_y, pred_class, probabilities, True)"
   ]
  },
  {
   "cell_type": "markdown",
   "metadata": {},
   "source": [
    "#### Repeat the process 29 more times"
   ]
  },
  {
   "cell_type": "code",
   "execution_count": 457,
   "metadata": {},
   "outputs": [],
   "source": [
    "test_list = [test1]\n",
    "train_list = [train1]\n",
    "for i in range(29):\n",
    "    train_X, test_X, train_y, test_y = train_test_split(X, y, test_size=0.2, stratify=y)\n",
    "    train_X = train_X.reset_index().drop(columns=['index'])\n",
    "    train_y = train_y.reset_index().drop(columns=['index'])\n",
    "    test_X = test_X.reset_index().drop(columns=['index'])\n",
    "\n",
    "    train_X_std = standardize.fit_transform(train_X)\n",
    "    test_X_std = standardize.fit_transform(test_X)\n",
    "    km = KMeans(n_clusters=2, init='random', n_init=1000).fit(train_X_std, test_X_std)\n",
    "    centers = km.cluster_centers_\n",
    "    \n",
    "    # PART B: Training Set\n",
    "    pred_cluster = km.labels_\n",
    "    distances = cdist(train_X_std, centers, 'euclidean')\n",
    "    cluster1 = np.array([i[0] for i in distances])\n",
    "    cluster2 = np.array([i[1] for i in distances])\n",
    "    min_30_1 = cluster1.argsort()[:30]\n",
    "    min_30_2 = cluster2.argsort()[:30]\n",
    "    min1 = train_y.iloc[min_30_1, :].to_numpy().flatten()\n",
    "    min2 = train_y.iloc[min_30_2, :].to_numpy().flatten()\n",
    "\n",
    "    replace = {0: mode(min1)[0][0], 1: mode(min2)[0][0]}\n",
    "\n",
    "    pred_class = [replace[i] for i in pred_cluster]\n",
    "\n",
    "    ## Compute distance of each datapoint to respective cluster\n",
    "    dist = []\n",
    "    for i, j in enumerate(pred_cluster):\n",
    "        centroid = centers[j]\n",
    "        datapoint = train_X_std[i]\n",
    "        dist.append(np.linalg.norm(centroid-datapoint))\n",
    "\n",
    "    probabilities = np.exp(dist) / np.sum(np.exp(dist)) # pass through a softmax function\n",
    "\n",
    "    train_list.append(print_metrics(train_y, pred_class, probabilities, False))\n",
    "    \n",
    "    # PART C: Test Set\n",
    "    pred_cluster = km.predict(test_X_std)\n",
    "\n",
    "    pred_class = [replace[i] for i in pred_cluster]\n",
    "\n",
    "    ## Compute distance of each datapoint to respective cluster\n",
    "    dist = []\n",
    "    for i, j in enumerate(pred_cluster):\n",
    "        centroid = centers[j]\n",
    "        datapoint = test_X_std[i]\n",
    "        dist.append(np.linalg.norm(centroid-datapoint))\n",
    "\n",
    "    probabilities = np.exp(dist) / np.sum(np.exp(dist)) # pass through a softmax function\n",
    "\n",
    "    test_list.append(print_metrics(test_y, pred_class, probabilities, False))"
   ]
  },
  {
   "cell_type": "code",
   "execution_count": 458,
   "metadata": {},
   "outputs": [
    {
     "name": "stdout",
     "output_type": "stream",
     "text": [
      "Test Set Summary: \n",
      "Accuracy     0.909064\n",
      "Precision    0.923591\n",
      "Recall       0.822222\n",
      "F1           0.869315\n",
      "AUC          0.741590\n",
      "dtype: float64\n",
      "\n",
      "Train Set Summary: \n",
      "Accuracy     0.912015\n",
      "Precision    0.928485\n",
      "Recall       0.828824\n",
      "F1           0.875640\n",
      "AUC          0.737332\n",
      "dtype: float64\n"
     ]
    }
   ],
   "source": [
    "summary_test_c = pd.DataFrame(test_list, columns =['Accuracy', 'Precision', 'Recall', 'F1', 'AUC'])\n",
    "print(\"Test Set Summary: \")\n",
    "print(summary_test_c.mean())\n",
    "\n",
    "summary_train_c = pd.DataFrame(train_list, columns =['Accuracy', 'Precision', 'Recall', 'F1', 'AUC'])\n",
    "print(\"\\nTrain Set Summary: \")\n",
    "print(summary_train_c.mean())"
   ]
  },
  {
   "cell_type": "markdown",
   "metadata": {},
   "source": [
    "### iv. Spectral Clustering\n",
    "#### A) Run Spectral Clustring Multiple Times (Same as iii. A)\n",
    "**Note on Normalization/Standardization**: I experimented with doing MinMaxScaler() and StandardScaler(), and it seems like for i-iii., StandardScaler() worked much better. However, Spectral Clustering didn't really like this scaler (it would predict all of it to class 0), so I switched to MinMaxScaler() here."
   ]
  },
  {
   "cell_type": "code",
   "execution_count": 473,
   "metadata": {},
   "outputs": [],
   "source": [
    "train_X, test_X, train_y, test_y = train_test_split(X, y, test_size=0.2, random_state=0, stratify=y)\n",
    "train_X = train_X.reset_index().drop(columns=['index'])\n",
    "train_y = train_y.reset_index().drop(columns=['index'])\n",
    "test_X = test_X.reset_index().drop(columns=['index'])\n",
    "test_y = test_y.reset_index().drop(columns=['index'])\n",
    "standardize = MinMaxScaler()\n",
    "train_X_std = standardize.fit_transform(train_X)\n",
    "test_X_std = standardize.fit_transform(test_X)\n",
    "sc = SpectralClustering(n_clusters=2, gamma=1, affinity='rbf', n_init=1000).fit_predict(train_X_std)"
   ]
  },
  {
   "cell_type": "markdown",
   "metadata": {},
   "source": [
    "#### B) Training Data\n",
    "- Take majority polling to find the assigned label of each cluster"
   ]
  },
  {
   "cell_type": "markdown",
   "metadata": {},
   "source": [
    "#### ASIDE: Defining ROC for Spectral Clustering\n",
    "I varied the thresholds for majority polling to emulate the ROC and AUC. The following is a function that takes the labels for both clusters and plots the ROC. It returns the AUC"
   ]
  },
  {
   "cell_type": "code",
   "execution_count": 462,
   "metadata": {},
   "outputs": [],
   "source": [
    "def spectral_clustering_roc(label0, label1, sc, train_y, display):\n",
    "    thresholds = np.linspace(0, 100, 41)\n",
    "    count0 = Counter(label0)\n",
    "    count1 = Counter(label1)\n",
    "    \n",
    "    for i in count0:\n",
    "        count0[i] /= float(len(label0)) * 0.01\n",
    "    for i in count1:\n",
    "        count1[i] /= float(len(label1)) * 0.01\n",
    "        \n",
    "\n",
    "    # If none of the classes reach a certain threshold, pick 0\n",
    "    # If both of the classes reach a certain threshold, pick 1\n",
    "    def cluster_decide(count, threshold):\n",
    "        pass0 = False\n",
    "        pass1 = False\n",
    "        if count[0] > threshold:\n",
    "            pass0 = True\n",
    "        if count[1] > threshold:\n",
    "            pass1 = True\n",
    "\n",
    "        if pass0 == True and pass1 == True:\n",
    "            pred = 1\n",
    "        elif pass0 == False and pass1 == False:\n",
    "            pred = 0\n",
    "        else:\n",
    "            if pass0 == True:\n",
    "                pred = 0\n",
    "            if pass1 == True:\n",
    "                pred = 1\n",
    "                \n",
    "        return pred\n",
    "        \n",
    "    fpr = []\n",
    "    tpr = []\n",
    "    for threshold in thresholds:\n",
    "        pred0 = cluster_decide(count0, threshold)\n",
    "        pred1 = cluster_decide(count1, threshold)\n",
    "\n",
    "        replace = {0: pred0, 1: pred1}\n",
    "        pred_class = np.array([replace[i] for i in sc])\n",
    "        \n",
    "        tn, fp, fn, tp = skm.confusion_matrix(train_y, pred_class, labels=[0,1]).ravel()\n",
    "        tpr.append(float(tp)/float(tp+fn))\n",
    "        fpr.append(float(fp)/float(fp+tn))\n",
    "        \n",
    "    \n",
    "    # --- ROC PLOT ---\n",
    "    if display:\n",
    "        plt.plot(fpr, tpr)\n",
    "        plt.xlabel('False Positive Rate')\n",
    "        plt.ylabel('True Positive Rate')\n",
    "        plt.plot([0, 1], [0, 1], 'k--')\n",
    "        plt.xlim([-0.02, 1.0])\n",
    "        plt.ylim([0.0, 1.02])\n",
    "        plt.title(\"ROC Curve\")\n",
    "        plt.show()\n",
    "\n",
    "    # --- AUC ---\n",
    "    return skm.auc(fpr, tpr)"
   ]
  },
  {
   "cell_type": "code",
   "execution_count": 463,
   "metadata": {},
   "outputs": [],
   "source": [
    "def print_metrics_iv(y, pred):\n",
    "    accuracy = skm.accuracy_score(y, pred)\n",
    "    precision = skm.precision_score(y, pred)\n",
    "    recall = skm.recall_score(y, pred)\n",
    "    f1 = skm.f1_score(y, pred)\n",
    "    \n",
    "    return [accuracy, precision, recall, f1]"
   ]
  },
  {
   "cell_type": "code",
   "execution_count": 475,
   "metadata": {},
   "outputs": [
    {
     "name": "stdout",
     "output_type": "stream",
     "text": [
      "Confusion Matrix: \n",
      "[[283   2]\n",
      " [ 78  92]]\n"
     ]
    },
    {
     "data": {
      "image/png": "[encoded data removed]",
      "text/plain": [
       "<Figure size 432x288 with 1 Axes>"
      ]
     },
     "metadata": {
      "needs_background": "light"
     },
     "output_type": "display_data"
    }
   ],
   "source": [
    "cluster0 = [i for i, x in enumerate(sc) if x == 0]\n",
    "cluster1 = [i for i, x in enumerate(sc) if x == 1]\n",
    "#cluster0_30 = np.random.choice(cluster0, 30, replace=False)\n",
    "#cluster1_30 = np.random.choice(cluster1, 30, replace=False)\n",
    "\n",
    "# Find out label of both clusters\n",
    "label0 = train_y.iloc[cluster0, :].to_numpy().flatten()\n",
    "label1 = train_y.iloc[cluster1, :].to_numpy().flatten()\n",
    "\n",
    "# {Cluster: Assigned Label}\n",
    "replace = {0: mode(label0)[0][0], 1: mode(label1)[0][0]}\n",
    "pred_class = [replace[i] for i in sc]\n",
    "print(\"Confusion Matrix: \")\n",
    "print(skm.confusion_matrix(train_y, pred_class))\n",
    "\n",
    "auc = spectral_clustering_roc(label0, label1, sc, train_y, True)\n",
    "\n",
    "train_metrics = print_metrics_iv(train_y, pred_class)\n",
    "train_metrics.append(auc)"
   ]
  },
  {
   "cell_type": "markdown",
   "metadata": {},
   "source": [
    "#### C. Test Data\n",
    "The sklearn implementation of spectral clustering doesn't have a predict function, so we have to use a proxy. I implemented a 1NN and used that to predict the test data"
   ]
  },
  {
   "cell_type": "code",
   "execution_count": 476,
   "metadata": {},
   "outputs": [
    {
     "name": "stdout",
     "output_type": "stream",
     "text": [
      "Confusion Matrix: \n",
      "[[72  0]\n",
      " [ 6 36]]\n"
     ]
    },
    {
     "data": {
      "image/png": "[encoded data removed]",
      "text/plain": [
       "<Figure size 432x288 with 1 Axes>"
      ]
     },
     "metadata": {
      "needs_background": "light"
     },
     "output_type": "display_data"
    }
   ],
   "source": [
    "knn = KNeighborsClassifier(n_neighbors=1).fit(train_X_std, sc)\n",
    "\n",
    "# -- Predict the cluster of the test_X sing 1NN as a proxy --\n",
    "predict_cluster = knn.predict(test_X_std)\n",
    "\n",
    "cluster0 = [i for i, x in enumerate(predict_cluster) if x == 0]\n",
    "cluster1 = [i for i, x in enumerate(predict_cluster) if x == 1]\n",
    "\n",
    "# Find out label of both clusters\n",
    "label0 = test_y.iloc[cluster0, :].to_numpy().flatten()\n",
    "label1 = test_y.iloc[cluster1, :].to_numpy().flatten()\n",
    "\n",
    "# {Cluster: Assigned Label}\n",
    "replace = {0: mode(label0)[0][0], 1: mode(label1)[0][0]}\n",
    "\n",
    "predict_class = [replace[i] for i in predict_cluster]\n",
    "print(\"Confusion Matrix: \")\n",
    "print(skm.confusion_matrix(test_y, predict_class))\n",
    "\n",
    "auc = spectral_clustering_roc(label0, label1, predict_cluster, test_y, True)\n",
    "\n",
    "test_metrics = print_metrics_iv(test_y, predict_class)\n",
    "test_metrics.append(auc)"
   ]
  },
  {
   "cell_type": "markdown",
   "metadata": {},
   "source": [
    "#### Repeat 29 Times, then take the average"
   ]
  },
  {
   "cell_type": "code",
   "execution_count": 218,
   "metadata": {},
   "outputs": [],
   "source": [
    "test_list = [test_metrics]\n",
    "train_list = [train_metrics]\n",
    "for i in range(29):\n",
    "    train_X, test_X, train_y, test_y = train_test_split(X, y, test_size=0.2, stratify=y)\n",
    "    train_X = train_X.reset_index().drop(columns=['index'])\n",
    "    train_y = train_y.reset_index().drop(columns=['index'])\n",
    "    test_X = test_X.reset_index().drop(columns=['index'])\n",
    "    test_y = test_y.reset_index().drop(columns=['index'])\n",
    "\n",
    "    train_X_std = standardize.fit_transform(train_X)\n",
    "    test_X_std = standardize.fit_transform(test_X)\n",
    "    sc = SpectralClustering(n_clusters=2, gamma=1, affinity='rbf', n_init=1000).fit_predict(train_X_std)\n",
    "    \n",
    "    # --- B) Training Data ---\n",
    "    cluster0 = [i for i, x in enumerate(sc) if x == 0]\n",
    "    cluster1 = [i for i, x in enumerate(sc) if x == 1]\n",
    "\n",
    "    # Find out label of both clusters\n",
    "    label0 = train_y.iloc[cluster0, :].to_numpy().flatten()\n",
    "    label1 = train_y.iloc[cluster1, :].to_numpy().flatten()\n",
    "\n",
    "    # {Cluster: Assigned Label}\n",
    "    replace = {0: mode(label0)[0][0], 1: mode(label1)[0][0]}\n",
    "    \n",
    "    # Class associated with each cluster\n",
    "    pred_class = [replace[i] for i in sc]\n",
    "    \n",
    "    # Find ROC and AUC by making the threshold of majority polling different\n",
    "    auc = spectral_clustering_roc(label0, label1, sc, train_y, False)\n",
    "\n",
    "    # Get all the metrics\n",
    "    train = print_metrics_iv(train_y, pred_class)\n",
    "    train.append(auc)\n",
    "    \n",
    "    train_list.append(train)\n",
    "    \n",
    "    \n",
    "    # ---- C) TEST DATA ----\n",
    "    knn = KNeighborsClassifier(n_neighbors=1).fit(train_X_std, sc)\n",
    "\n",
    "    # -- Predict the cluster of the test_X using 1NN as a proxy --\n",
    "    predict_cluster = knn.predict(test_X_std)\n",
    "\n",
    "    cluster0 = [i for i, x in enumerate(predict_cluster) if x == 0]\n",
    "    cluster1 = [i for i, x in enumerate(predict_cluster) if x == 1]\n",
    "\n",
    "    # Find out label of both clusters\n",
    "    label0 = test_y.iloc[cluster0, :].to_numpy().flatten()\n",
    "    label1 = test_y.iloc[cluster1, :].to_numpy().flatten()\n",
    "\n",
    "    # {Cluster: Assigned Label}\n",
    "    replace = {0: mode(label0)[0][0], 1: mode(label1)[0][0]}\n",
    "\n",
    "    predict_class = [replace[i] for i in predict_cluster]\n",
    "    \n",
    "    auc = spectral_clustering_roc(label0, label1, predict_cluster, test_y, False)\n",
    "\n",
    "    test = print_metrics_iv(test_y, predict_class)\n",
    "    test.append(auc)\n",
    "    \n",
    "    test_list.append(test)"
   ]
  },
  {
   "cell_type": "code",
   "execution_count": 223,
   "metadata": {},
   "outputs": [
    {
     "name": "stdout",
     "output_type": "stream",
     "text": [
      "Test Set Summary: \n",
      "Accuracy     0.913450\n",
      "Precision    0.952067\n",
      "Recall       0.807143\n",
      "F1           0.871587\n",
      "AUC          0.891303\n",
      "dtype: float64\n",
      "\n",
      "Train Set Summary: \n",
      "Accuracy     0.857949\n",
      "Precision    0.981093\n",
      "Recall       0.632157\n",
      "F1           0.767736\n",
      "AUC          0.812394\n",
      "dtype: float64\n"
     ]
    }
   ],
   "source": [
    "summary_test_d = pd.DataFrame(test_list, columns =['Accuracy', 'Precision', 'Recall', 'F1', 'AUC'])\n",
    "print(\"Test Set Summary: \")\n",
    "print(summary_test_d.mean())\n",
    "\n",
    "summary_train_d = pd.DataFrame(train_list, columns =['Accuracy', 'Precision', 'Recall', 'F1', 'AUC'])\n",
    "print(\"\\nTrain Set Summary: \")\n",
    "print(summary_train_d.mean())"
   ]
  },
  {
   "cell_type": "markdown",
   "metadata": {},
   "source": [
    "## v. Comparison of All Methods\n",
    "\n",
    "**Analysis**: Based on the results, it seems like supervised learning and semi-supervised learning performed equally as well. (Look at the Recall and AUC of test data in particular.) Meanwhile, both unsupervised learning methods performed worse, but not by much. This is expected behavior, although it is strange that in the summary, semi-supervised learning does slightly better on average on the training data (notice that on the test data, supervised learning is best). I believe this is simply random error that not appear if we did more simulations (M->infinity), but it might also be that the error is so small that it's negligible."
   ]
  },
  {
   "cell_type": "code",
   "execution_count": 477,
   "metadata": {},
   "outputs": [
    {
     "name": "stdout",
     "output_type": "stream",
     "text": [
      "Summary for Training Data:\n",
      "                                    Accuracy  Precision    Recall        F1  \\\n",
      "Supervised Learning                 0.991502   0.995044  0.982157  0.988547   \n",
      "Semi-Supervised Learning            0.997363   0.999401  0.993467  0.996413   \n",
      "Unsupervised (k-means)              0.912015   0.928485  0.828824  0.875640   \n",
      "Unsupervised (spectral clustering)  0.857949   0.981093  0.632157  0.767736   \n",
      "\n",
      "                                         AUC  \n",
      "Supervised Learning                 0.999044  \n",
      "Semi-Supervised Learning            0.999765  \n",
      "Unsupervised (k-means)              0.737332  \n",
      "Unsupervised (spectral clustering)  0.812394  \n",
      "\n",
      "Summary for Test Data:\n",
      "                                    Accuracy  Precision    Recall        F1  \\\n",
      "Supervised Learning                 0.957895   0.944882  0.942063  0.942925   \n",
      "Semi-Supervised Learning            0.954971   0.936753  0.945238  0.939982   \n",
      "Unsupervised (k-means)              0.909064   0.923591  0.822222  0.869315   \n",
      "Unsupervised (spectral clustering)  0.913450   0.952067  0.807143  0.871587   \n",
      "\n",
      "                                         AUC  \n",
      "Supervised Learning                 0.987302  \n",
      "Semi-Supervised Learning            0.988183  \n",
      "Unsupervised (k-means)              0.741590  \n",
      "Unsupervised (spectral clustering)  0.891303  \n"
     ]
    }
   ],
   "source": [
    "#summary_test_b = summary_test_b.rename(columns={'Accuray': 'Accuracy'})\n",
    "#summary_test_c = summary_test_c.rename(columns={'Accuray': 'Accuracy'})\n",
    "train_mean = summary_train.mean().to_frame().T\n",
    "train_mean = train_mean.append(summary_train_b.mean().to_frame().T, ignore_index=True).append(\n",
    "    summary_train_c.mean().to_frame().T, ignore_index=True).append(\n",
    "    summary_train_d.mean().to_frame().T, ignore_index=True)\n",
    "train_mean = train_mean.rename({0: 'Supervised Learning', 1: 'Semi-Supervised Learning',\n",
    "                               2: 'Unsupervised (k-means)', 3: 'Unsupervised (spectral clustering)'}, axis='index')\n",
    "\n",
    "print(\"Summary for Training Data:\")\n",
    "print(train_mean)\n",
    "\n",
    "test_mean = summary_test.mean().to_frame().T\n",
    "test_mean = test_mean.append(summary_test_b.mean().to_frame().T, ignore_index=True).append(\n",
    "    summary_test_c.mean().to_frame().T, ignore_index=True).append(\n",
    "    summary_test_d.mean().to_frame().T, ignore_index=True)\n",
    "test_mean = test_mean.rename({0: 'Supervised Learning', 1: 'Semi-Supervised Learning',\n",
    "                               2: 'Unsupervised (k-means)', 3: 'Unsupervised (spectral clustering)'}, axis='index')\n",
    "\n",
    "print(\"\\nSummary for Test Data:\")\n",
    "print(test_mean)"
   ]
  },
  {
   "cell_type": "markdown",
   "metadata": {},
   "source": [
    "# 2. Active Learning using SVM\n",
    "We are using the banknote authentication dataset (https://archive.ics.uci.edu/ml/datasets/banknote+authentication#)\n",
    "\n",
    "## a) Split Training and Test Sets\n",
    "Choose 472 data points randomly as the test set, and remaining as training"
   ]
  },
  {
   "cell_type": "code",
   "execution_count": 383,
   "metadata": {},
   "outputs": [],
   "source": [
    "df1 = pd.read_table('../data/data_banknote_authentication.txt', sep=',', header=None)\n",
    "X = df1.iloc[:, :4]\n",
    "y = df1.iloc[:, -1]\n",
    "\n",
    "train_X, test_X, train_y, test_y = train_test_split(X, y, test_size=0.344, stratify=y)\n",
    "train_X = train_X.reset_index().drop(columns=['index'])\n",
    "\n",
    "standardize = StandardScaler()\n",
    "train_X_std = pd.DataFrame(standardize.fit_transform(train_X))\n",
    "\n",
    "train_y = train_y.reset_index().drop(columns=['index']).to_numpy().flatten()\n",
    "test_X = test_X.reset_index().drop(columns=['index'])\n",
    "test_X_std = pd.DataFrame(standardize.fit_transform(test_X))\n",
    "test_y = test_y.reset_index().drop(columns=['index']).to_numpy().flatten()"
   ]
  },
  {
   "cell_type": "code",
   "execution_count": 374,
   "metadata": {},
   "outputs": [],
   "source": [
    "def random_order():\n",
    "    class1 = [i for i, x in enumerate(train_y) if x == 1]\n",
    "    class0 = [i for i, x in enumerate(train_y) if x == 0]\n",
    "\n",
    "    initial1 = np.random.choice(class1, size=5, replace=False)\n",
    "    initial0 = np.random.choice(class0, size=5, replace=False)\n",
    "    initial = np.append(initial1, initial0)\n",
    "\n",
    "    class1 = [i for i in class1 if i not in initial1]\n",
    "    class0 = [i for i in class0 if i not in initial0]\n",
    "\n",
    "    arr = np.array(class1 + class0)\n",
    "    np.random.shuffle(arr)\n",
    "    \n",
    "    return np.append(initial, arr)"
   ]
  },
  {
   "cell_type": "markdown",
   "metadata": {},
   "source": [
    "## b) Monte Carlo Simulation of Active Learning with SVMs\n",
    "### i. Passive Learning with increments of 10\n",
    "1. Train a SVM with a pool of 10 randomly selected data points (L1 penalty). Select penalty using CV=5\n",
    "2. Repeat process with 10 extra points until you have trained with the entire training set (90 times)\n",
    "    - Each time, find the test errors"
   ]
  },
  {
   "cell_type": "code",
   "execution_count": 375,
   "metadata": {},
   "outputs": [],
   "source": [
    "params = {\"svc__C\": 1/np.logspace(-6, 6, 50)}\n",
    "\n",
    "passive = []\n",
    "for i in range(50):\n",
    "    train_X_copy = train_X_std\n",
    "    train_y_copy = train_y\n",
    "    \n",
    "    arr = random_order()\n",
    "    \n",
    "    max_index = 10\n",
    "    test_error_list = []\n",
    "    while max_index <= 900:\n",
    "        temp_trainX = train_X_copy.iloc[arr[:max_index], :]\n",
    "        temp_trainy = train_y_copy[arr[:max_index]]\n",
    "\n",
    "        ideal_C = svm_l1_cv(params, temp_trainX, temp_trainy)\n",
    "\n",
    "        svm_l1 = LinearSVC(C=ideal_C, max_iter=1000, penalty='l1', dual=False)\n",
    "        svm_l1.fit(temp_trainX, temp_trainy)\n",
    "        test_error_list.append(1-svm_l1.score(test_X_std, test_y))\n",
    "\n",
    "        max_index += 10\n",
    "        \n",
    "    passive.append(test_error_list)"
   ]
  },
  {
   "cell_type": "markdown",
   "metadata": {},
   "source": [
    "### ii. Active Learning with Increments of 10"
   ]
  },
  {
   "cell_type": "code",
   "execution_count": 384,
   "metadata": {},
   "outputs": [],
   "source": [
    "params = {\"svc__C\": 1/np.logspace(-6, 6, 50)}\n",
    "\n",
    "active = []\n",
    "for i in range(50):\n",
    "    test_error_list = []\n",
    "    train_X_copy = train_X_std\n",
    "    train_y_copy = train_y\n",
    "    \n",
    "    # The first 10 should have at least one point from each class\n",
    "    new_10 = np.random.choice(900, 10, replace=False)\n",
    "    check = Counter(new_10)\n",
    "    while len(check) < 2:\n",
    "        new_10 = np.random.choice(900, 10, replace=False)\n",
    "        check = Counter(new_10)\n",
    "\n",
    "    temp_trainX = train_X_copy.iloc[new_10, :]\n",
    "    temp_trainy = train_y_copy[new_10]\n",
    "    train_X_copy = train_X_copy.drop(new_10).reset_index().drop(columns=['index'])\n",
    "    train_y_copy = np.delete(train_y_copy, new_10)\n",
    "\n",
    "    while len(train_X_copy) > 0:\n",
    "        ideal_C = svm_l1_cv(params, temp_trainX, temp_trainy)\n",
    "        svm_l1 = LinearSVC(C=ideal_C, max_iter=1000, penalty='l1', dual=False)\n",
    "        svm_l1.fit(temp_trainX, temp_trainy)\n",
    "        test_error_list.append(1-svm_l1.score(test_X_std, test_y))\n",
    "\n",
    "        # Choose 10 closest data points in training set to the hyperplane of the SVM\n",
    "        distances = np.absolute(svm_l1.decision_function(train_X_copy))\n",
    "        new_10 = distances.argsort()[:10]\n",
    "\n",
    "        # Index those ones from train_X_copy\n",
    "        buffer = train_X_copy.iloc[new_10, :]\n",
    "        # Add to temp_trainX\n",
    "        temp_trainX = temp_trainX.append(buffer, ignore_index=True)\n",
    "        temp_trainy = np.append(temp_trainy, train_y_copy[new_10])\n",
    "\n",
    "        # Delete the buffer from original data\n",
    "        train_X_copy = train_X_copy.drop(new_10).reset_index().drop(columns=['index'])\n",
    "        train_y_copy = np.delete(train_y_copy, new_10)\n",
    "\n",
    "    ideal_C = svm_l1_cv(params, temp_trainX, temp_trainy)\n",
    "    svm_l1 = LinearSVC(C=ideal_C, max_iter=1000, penalty='l1', dual=False)\n",
    "    svm_l1.fit(temp_trainX, temp_trainy)\n",
    "    test_error_list.append(1-svm_l1.score(test_X_std, test_y))\n",
    "    \n",
    "    active.append(test_error_list)"
   ]
  },
  {
   "cell_type": "markdown",
   "metadata": {},
   "source": [
    "## c) Average Test Error vs. Pool Size\n",
    "**Analysis**: As expected, the active learning method performs better than the passive learning method. This is because active learning incrementally improves by adding the datapoints closest to the hyperplane, meaning the results of the SVM will always change minutely to adjust for the points. In contrast, the passive learning method only randomly sees points."
   ]
  },
  {
   "cell_type": "code",
   "execution_count": 478,
   "metadata": {},
   "outputs": [
    {
     "data": {
      "text/plain": [
       "<function matplotlib.pyplot.plot(*args, scalex=True, scaley=True, data=None, **kwargs)>"
      ]
     },
     "execution_count": 478,
     "metadata": {},
     "output_type": "execute_result"
    },
    {
     "data": {
      "image/png": "[encoded data removed]",
      "text/plain": [
       "<Figure size 432x288 with 1 Axes>"
      ]
     },
     "metadata": {
      "needs_background": "light"
     },
     "output_type": "display_data"
    }
   ],
   "source": [
    "pool_size = np.linspace(10, 900, 90)\n",
    "summary_passive = pd.DataFrame(passive).mean()\n",
    "summary_active = pd.DataFrame(active).mean()\n",
    "\n",
    "plt.plot(pool_size, summary_passive, label=\"Passive Learning\")\n",
    "plt.plot(pool_size, summary_active, label=\"Active Learning\")\n",
    "plt.title(\"Learning Curve by Monte-Carlo Simulation\")\n",
    "plt.xlabel(\"Number of training instances\")\n",
    "plt.ylabel(\"Test Error\")\n",
    "plt.legend(loc=\"upper right\")\n",
    "plt.plot"
   ]
  },
  {
   "cell_type": "code",
   "execution_count": null,
   "metadata": {},
   "outputs": [],
   "source": []
  }
 ],
 "metadata": {
  "kernelspec": {
   "display_name": "Python 3",
   "language": "python",
   "name": "python3"
  },
  "language_info": {
   "codemirror_mode": {
    "name": "ipython",
    "version": 3
   },
   "file_extension": ".py",
   "mimetype": "text/x-python",
   "name": "python",
   "nbconvert_exporter": "python",
   "pygments_lexer": "ipython3",
   "version": "3.7.4"
  }
 },
 "nbformat": 4,
 "nbformat_minor": 2
}
