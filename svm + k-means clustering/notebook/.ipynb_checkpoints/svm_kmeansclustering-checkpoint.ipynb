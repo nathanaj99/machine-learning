{
 "cells": [
  {
   "cell_type": "code",
   "execution_count": 82,
   "metadata": {},
   "outputs": [],
   "source": [
    "import numpy as np\n",
    "from sklearn.model_selection import train_test_split\n",
    "import pandas as pd\n",
    "from sklearn.multiclass import OneVsRestClassifier\n",
    "from sklearn.svm import SVC\n",
    "from sklearn.svm import LinearSVC\n",
    "from sklearn.model_selection import GridSearchCV\n",
    "import sklearn.metrics as skm\n",
    "from sklearn.preprocessing import StandardScaler\n",
    "from sklearn.pipeline import Pipeline\n",
    "from imblearn.over_sampling import SMOTE\n",
    "from sklearn import preprocessing\n",
    "import imblearn.pipeline as imb\n",
    "from sklearn.cluster import KMeans\n",
    "from sklearn.cluster import MiniBatchKMeans"
   ]
  },
  {
   "cell_type": "markdown",
   "metadata": {},
   "source": [
    "# 1. Multi-Class and Multi-Label Classification using SVMs\n",
    "Using the Anuran Calls (MFCCs) Data Set\n",
    "\n",
    "## a) Splitting Training and Test Set"
   ]
  },
  {
   "cell_type": "code",
   "execution_count": 2,
   "metadata": {},
   "outputs": [],
   "source": [
    "df = pd.read_csv('../data/Frogs_MFCCs.csv')\n",
    "X = df.iloc[:, :22]\n",
    "y = df.iloc[:, 22:25]"
   ]
  },
  {
   "cell_type": "code",
   "execution_count": 3,
   "metadata": {},
   "outputs": [],
   "source": [
    "train_X, test_X, train_y, test_y = train_test_split(X, y, test_size=0.3, random_state=1)\n",
    "train_y_fam = train_y['Family']\n",
    "test_y_fam = test_y['Family']\n",
    "train_y_genus = train_y['Genus']\n",
    "test_y_genus = test_y['Genus']\n",
    "train_y_species = train_y['Species']\n",
    "test_y_species = test_y['Species']"
   ]
  },
  {
   "cell_type": "markdown",
   "metadata": {},
   "source": [
    "## b) Multi-Class and Multi-Label Learning Problems\n",
    "\n",
    "### i. Exact Match and Hamming Score\n",
    "- **Hamming Loss**: Fraction of labels that are incorrectly predicted\n",
    "    - This takes into account individual labels that are predicted correctly, so the metric can handle partial matched\n",
    "- **Exact Match Ratio**: Percentage of labels that have all their labels classified correctly\n",
    "    - More strict than hamming loss because even if a datapoint is just partially matched, the metric doesn't acknowledge it\n",
    "    \n",
    "### ii. L2-Penalized SVM with Gaussian Kernel\n",
    "**Disclaimer about the term 'Accuracy'**: The approach is to repeat one-vs-all classifiers for each label. Therefore, the \"score\" and \"hamming loss\" are essentially the same things: simply the accuracy of predicting one classifier over the others. In part d), we will be combining the results for each of the labels, and then evaluating the Exact Match Ratio and Hamming Loss.\n",
    "\n",
    "\n",
    "#### a) Family Label\n",
    "#### Exploratory Analysis: I am doing a rough analysis of the bounds for lambda and gamma to narrow down my search space, so that my cross-validation method will not take too long. My threshold will be accuracy above 70%."
   ]
  },
  {
   "cell_type": "code",
   "execution_count": 4,
   "metadata": {},
   "outputs": [],
   "source": [
    "def svm_gaussian(c, gam, trainy, testy, predict):\n",
    "    svm_gaussian = OneVsRestClassifier(SVC(kernel='rbf', C=c, gamma=gam))\n",
    "    svm_gaussian.fit(train_X, trainy)\n",
    "    print('Accuracy: ' + str(svm_gaussian.score(test_X, testy)))\n",
    "    prediction = svm_gaussian.predict(test_X)\n",
    "    \n",
    "    if predict:\n",
    "        return prediction"
   ]
  },
  {
   "cell_type": "code",
   "execution_count": 5,
   "metadata": {},
   "outputs": [],
   "source": [
    "def svm_gaussian_cv(params, trainy, testy):\n",
    "    svm_gaussian = OneVsRestClassifier(SVC(kernel='rbf'))\n",
    "    svm_gaussian_cv = GridSearchCV(estimator=svm_gaussian, param_grid=params, n_jobs=-1, cv=10)\n",
    "    svm_gaussian_cv.fit(train_X, trainy)\n",
    "    \n",
    "    # Extract ideal parameters from cross-validation\n",
    "    ideal_C = svm_gaussian_cv.best_params_['estimator__C']\n",
    "    ideal_gamma = svm_gaussian_cv.best_params_['estimator__gamma']\n",
    "    print(\"Ideal Lambda: \" + str(1/ideal_C))\n",
    "    print(\"Ideal Gamma: \" + str(ideal_gamma))\n",
    "    \n",
    "    return ideal_C, ideal_gamma"
   ]
  },
  {
   "cell_type": "code",
   "execution_count": 6,
   "metadata": {},
   "outputs": [
    {
     "name": "stdout",
     "output_type": "stream",
     "text": [
      "Accuracy: 0.9884205650764243\n"
     ]
    }
   ],
   "source": [
    "# Narrowing down the range of lambda\n",
    "lamb_lb = 1e-4\n",
    "gamma_lb = 0.1\n",
    "\n",
    "lamb_ub = 1e2\n",
    "gamma_ub = 5\n",
    "\n",
    "svm_gaussian(1/lamb_lb, gamma_lb, train_y_fam, test_y_fam, False)"
   ]
  },
  {
   "cell_type": "markdown",
   "metadata": {},
   "source": [
    "**Findings**\n",
    "- It seems like lambda has most of an impact in determining the accuracy of the model. Higher lambdas (beyond 10) actually don't produce great results\n",
    "- Bounds for log(lambda) = {-4, -3, ..., 2}\n",
    "- Bounds for gamma = [0.1, 5]"
   ]
  },
  {
   "cell_type": "code",
   "execution_count": 7,
   "metadata": {},
   "outputs": [
    {
     "name": "stdout",
     "output_type": "stream",
     "text": [
      "Ideal Lambda: 0.01623776739188721\n",
      "Ideal Gamma: 2.421052631578948\n",
      "Accuracy: 0.9916628068550255\n"
     ]
    }
   ],
   "source": [
    "# Parameters to tune\n",
    "params_fam = {\"estimator__C\": 1/np.logspace(-4, 2, 20), \"estimator__gamma\":np.linspace(0.1, 5, 20)}\n",
    "\n",
    "ideal_C_fam, ideal_gamma_fam = svm_gaussian_cv(params_fam, train_y_fam, test_y_fam)\n",
    "prediction_fam = svm_gaussian(ideal_C_fam, ideal_gamma_fam, train_y_fam, test_y_fam, False)"
   ]
  },
  {
   "cell_type": "markdown",
   "metadata": {},
   "source": [
    "#### b) Genus Label"
   ]
  },
  {
   "cell_type": "code",
   "execution_count": 34,
   "metadata": {},
   "outputs": [
    {
     "name": "stdout",
     "output_type": "stream",
     "text": [
      "Both LB\n",
      "Accuracy: 0.9870310328855951\n",
      "Both UB\n",
      "Accuracy: 0.8846688281611857\n",
      "Lamb_lb, Gamma_ub\n",
      "Accuracy: 0.9884205650764243\n",
      "Lamb_ub, Gamma_lb\n",
      "Accuracy: 0.7068087077350625\n"
     ]
    }
   ],
   "source": [
    "lamb_lb = 1e-5\n",
    "gamma_lb = 0.2\n",
    "\n",
    "lamb_ub = 1e2\n",
    "gamma_ub = 5\n",
    "\n",
    "print(\"Both LB\")\n",
    "svm_gaussian(1/lamb_lb, gamma_lb, train_y_genus, test_y_genus, False)\n",
    "\n",
    "print(\"Both UB\")\n",
    "svm_gaussian(1/lamb_ub, gamma_ub, train_y_genus, test_y_genus, False)\n",
    "\n",
    "print(\"Lamb_lb, Gamma_ub\")\n",
    "svm_gaussian(1/lamb_lb, gamma_ub, train_y_genus, test_y_genus, False)\n",
    "\n",
    "print(\"Lamb_ub, Gamma_lb\")\n",
    "svm_gaussian(1/lamb_ub, gamma_lb, train_y_genus, test_y_genus, False)"
   ]
  },
  {
   "cell_type": "markdown",
   "metadata": {},
   "source": [
    "**Findings**\n",
    "- log(lambda) = {-5, -4, ..., 2}\n",
    "- gamma = [0.2, 5]"
   ]
  },
  {
   "cell_type": "code",
   "execution_count": 11,
   "metadata": {},
   "outputs": [
    {
     "name": "stdout",
     "output_type": "stream",
     "text": [
      "Ideal Lambda: 1e-05\n",
      "Ideal Gamma: 2.7263157894736842\n",
      "Exact Match Ratio: 0.9884205650764243\n",
      "Hamming Loss: 0.01157943492357573\n"
     ]
    }
   ],
   "source": [
    "params_genus = {\"estimator__C\": 1/np.logspace(-5, 2, 20), \"estimator__gamma\":np.linspace(0.2, 5, 20)}\n",
    "ideal_C_genus, ideal_gamma_genus = svm_gaussian_cv(params_genus, train_y_genus, test_y_genus)\n",
    "prediction_genus = svm_gaussian(ideal_C_genus, ideal_gamma_genus, train_y_genus, test_y_genus, True)"
   ]
  },
  {
   "cell_type": "code",
   "execution_count": 32,
   "metadata": {},
   "outputs": [
    {
     "name": "stdout",
     "output_type": "stream",
     "text": [
      "Accuracy: 0.9884205650764243\n"
     ]
    }
   ],
   "source": [
    "prediction_genus = svm_gaussian(1/1e-05, 2.7263157894736842, train_y_genus, test_y_genus, True)"
   ]
  },
  {
   "cell_type": "markdown",
   "metadata": {},
   "source": [
    "#### c) Species Label"
   ]
  },
  {
   "cell_type": "code",
   "execution_count": 35,
   "metadata": {},
   "outputs": [
    {
     "name": "stdout",
     "output_type": "stream",
     "text": [
      "Both LB\n",
      "Accuracy: 0.9865678554886521\n",
      "Both UB\n",
      "Accuracy: 0.9059749884205651\n",
      "Lamb_lb, Gamma_ub\n",
      "Accuracy: 0.9870310328855951\n",
      "Lamb_ub, Gamma_lb\n",
      "Accuracy: 0.729504400185271\n"
     ]
    }
   ],
   "source": [
    "lamb_lb = 1e-6\n",
    "gamma_lb = 0.2\n",
    "\n",
    "lamb_ub = 1e2\n",
    "gamma_ub = 6\n",
    "\n",
    "print(\"Both LB\")\n",
    "svm_gaussian(1/lamb_lb, gamma_lb, train_y_species, test_y_species, False)\n",
    "\n",
    "print(\"Both UB\")\n",
    "svm_gaussian(1/lamb_ub, gamma_ub, train_y_species, test_y_species, False)\n",
    "\n",
    "print(\"Lamb_lb, Gamma_ub\")\n",
    "svm_gaussian(1/lamb_lb, gamma_ub, train_y_species, test_y_species, False)\n",
    "\n",
    "print(\"Lamb_ub, Gamma_lb\")\n",
    "svm_gaussian(1/lamb_ub, gamma_lb, train_y_species, test_y_species, False)"
   ]
  },
  {
   "cell_type": "markdown",
   "metadata": {},
   "source": [
    "**Findings**:\n",
    "- log(lambda) = {-6, -5, ..., 2}\n",
    "- gamma = [0.2, 6]"
   ]
  },
  {
   "cell_type": "code",
   "execution_count": 20,
   "metadata": {},
   "outputs": [
    {
     "name": "stdout",
     "output_type": "stream",
     "text": [
      "Ideal Lambda: 0.04281332398719396\n",
      "Ideal Gamma: 2.031578947368421\n",
      "Exact Match Ratio: 0.9902732746641963\n",
      "Hamming Loss: 0.009726725335803613\n"
     ]
    }
   ],
   "source": [
    "params_species = {\"estimator__C\": 1/np.logspace(-6, 2, 20), \"estimator__gamma\":np.linspace(0.2, 6, 20)}\n",
    "svm_gaussian_cv('rbf', params_species, train_y_species, test_y_species)"
   ]
  },
  {
   "cell_type": "code",
   "execution_count": 36,
   "metadata": {},
   "outputs": [
    {
     "name": "stdout",
     "output_type": "stream",
     "text": [
      "Accuracy: 0.9902732746641963\n"
     ]
    }
   ],
   "source": [
    "prediction_species = svm_gaussian(1/0.04281332398719396, 2.031578947368421, train_y_species, test_y_species, True)"
   ]
  },
  {
   "cell_type": "markdown",
   "metadata": {},
   "source": [
    "#### d) Combining Results from All 3 Classes (Multi-label evaluation)\n",
    "\n",
    "### RESULTS:\n",
    "- Hamming Score: 0.990119\n",
    "- Exact Match Ratio: 0.9866"
   ]
  },
  {
   "cell_type": "code",
   "execution_count": 9,
   "metadata": {},
   "outputs": [],
   "source": [
    "def print_metrics(test_y, prediction):\n",
    "    prediction_numpy = prediction.to_numpy()\n",
    "    testy_numpy = test_y.to_numpy()\n",
    "    print(\"Hamming Score: \" + str(np.sum(np.equal(testy_numpy, prediction_numpy))/float(testy_numpy.size)))\n",
    "\n",
    "    def exact_match(row):\n",
    "        if False in row:\n",
    "            return 0\n",
    "        else:\n",
    "            return 1\n",
    "\n",
    "    equal = np.equal(testy_numpy, prediction_numpy)\n",
    "    not_equal = np.not_equal(testy_numpy, prediction_numpy)\n",
    "    print(\"Exact Match Ratio: \" + \n",
    "          str(sum(np.apply_along_axis(exact_match, arr=equal, axis=1))/np.size(testy_numpy, 0)))"
   ]
  },
  {
   "cell_type": "code",
   "execution_count": 79,
   "metadata": {},
   "outputs": [
    {
     "name": "stdout",
     "output_type": "stream",
     "text": [
      "Hamming Score: 0.9901188821985487\n",
      "Exact Match Ratio: 0.9865678554886521\n"
     ]
    }
   ],
   "source": [
    "prediction = pd.DataFrame({})\n",
    "prediction['family'] = prediction_fam\n",
    "prediction['genus'] = prediction_genus\n",
    "prediction['species'] = prediction_species\n",
    "    \n",
    "print_metrics(test_y, prediction)"
   ]
  },
  {
   "cell_type": "markdown",
   "metadata": {},
   "source": [
    "### iii. L1-Penalized SVM\n",
    "**Note on Cross-Validation function**: I scaled each fold through the Pipeline to decide the tuning parameters. However, in training the final model, I used the entire training set that was standardized.\n",
    "\n",
    "#### a) Family Class"
   ]
  },
  {
   "cell_type": "code",
   "execution_count": 65,
   "metadata": {},
   "outputs": [],
   "source": [
    "def svm_l1(c, train_X, test_X, trainy, testy, predict):\n",
    "    svm_l1 = LinearSVC(C=c, max_iter=1000, dual=False)\n",
    "    svm_l1.fit(train_X, trainy)\n",
    "    print('Accuracy: ' + str(svm_l1.score(test_X, testy)))\n",
    "    prediction = svm_l1.predict(test_X)\n",
    "    \n",
    "    if predict:\n",
    "        return prediction\n",
    "    \n",
    "def svm_l1_cv(params, train_X, trainy):\n",
    "    pipe = Pipeline([('scaler', StandardScaler()), \n",
    "                         ('svc', LinearSVC(max_iter=1000, dual=False))])\n",
    "    svm_l1_cv = GridSearchCV(estimator=pipe, param_grid=params, n_jobs=-1, cv=10)\n",
    "    svm_l1_cv.fit(train_X, trainy)\n",
    "    \n",
    "    # Extract ideal parameters from cross-validation\n",
    "    ideal_C = svm_l1_cv.best_params_['svc__C']\n",
    "    print(\"Ideal Lambda: \" + str(1/ideal_C))\n",
    "    \n",
    "    return ideal_C"
   ]
  },
  {
   "cell_type": "code",
   "execution_count": 72,
   "metadata": {},
   "outputs": [],
   "source": [
    "standardize = StandardScaler()\n",
    "train_X_std = standardize.fit_transform(train_X)\n",
    "test_X_std = standardize.fit_transform(test_X)"
   ]
  },
  {
   "cell_type": "code",
   "execution_count": 74,
   "metadata": {},
   "outputs": [
    {
     "name": "stdout",
     "output_type": "stream",
     "text": [
      "lb\n",
      "Accuracy: 0.9328392774432608\n",
      "ub\n",
      "Accuracy: 0.7823066234367763\n"
     ]
    }
   ],
   "source": [
    "lamb_lb = 1e-4\n",
    "lamb_ub = 1e6\n",
    "\n",
    "print(\"lb\")\n",
    "svm_l1(1/lamb_lb, train_X_std, test_X_std, train_y_fam, test_y_fam, False)\n",
    "\n",
    "print(\"ub\")\n",
    "svm_l1(1/lamb_ub, train_X_std, test_X_std, train_y_fam, test_y_fam, False)"
   ]
  },
  {
   "cell_type": "code",
   "execution_count": 75,
   "metadata": {},
   "outputs": [
    {
     "name": "stdout",
     "output_type": "stream",
     "text": [
      "Ideal Lambda: 0.0001\n",
      "Accuracy: 0.9328392774432608\n"
     ]
    }
   ],
   "source": [
    "params_fam = {\"svc__C\": 1/np.logspace(-4, 6, 20)}\n",
    "\n",
    "ideal_C_fam_l1 = svm_l1_cv(params_fam, train_X, train_y_fam)\n",
    "prediction_fam_l1 = svm_l1(ideal_C_fam_l1, train_X_std, test_X_std, train_y_fam, test_y_fam, True)"
   ]
  },
  {
   "cell_type": "markdown",
   "metadata": {},
   "source": [
    "#### b) Genus Class"
   ]
  },
  {
   "cell_type": "code",
   "execution_count": 76,
   "metadata": {},
   "outputs": [
    {
     "name": "stdout",
     "output_type": "stream",
     "text": [
      "lb\n",
      "Accuracy: 0.9458082445576655\n",
      "ub\n",
      "Accuracy: 0.7841593330245484\n"
     ]
    }
   ],
   "source": [
    "lamb_lb = 1e-5\n",
    "lamb_ub = 1e5\n",
    "\n",
    "print(\"lb\")\n",
    "svm_l1(1/lamb_lb, train_X_std, test_X_std, train_y_genus, test_y_genus, False)\n",
    "\n",
    "print(\"ub\")\n",
    "svm_l1(1/lamb_ub, train_X_std, test_X_std, train_y_genus, test_y_genus, False)"
   ]
  },
  {
   "cell_type": "code",
   "execution_count": 77,
   "metadata": {},
   "outputs": [
    {
     "name": "stdout",
     "output_type": "stream",
     "text": [
      "Ideal Lambda: 1e-05\n",
      "Accuracy: 0.9458082445576655\n"
     ]
    }
   ],
   "source": [
    "params_genus = {\"svc__C\": 1/np.logspace(-5, 5, 20)}\n",
    "ideal_C_genus_l1 = svm_l1_cv(params_genus, train_X, train_y_genus)\n",
    "prediction_genus_l1 = svm_l1(ideal_C_genus_l1, train_X_std, test_X_std, train_y_genus, test_y_genus, True)"
   ]
  },
  {
   "cell_type": "markdown",
   "metadata": {},
   "source": [
    "#### c) Species Class"
   ]
  },
  {
   "cell_type": "code",
   "execution_count": 78,
   "metadata": {},
   "outputs": [
    {
     "name": "stdout",
     "output_type": "stream",
     "text": [
      "lb\n",
      "Accuracy: 0.9555349698934692\n",
      "ub\n",
      "Accuracy: 0.8341824918943955\n"
     ]
    }
   ],
   "source": [
    "lamb_lb = 1e-4\n",
    "lamb_ub = 1e6\n",
    "\n",
    "print(\"lb\")\n",
    "svm_l1(1/lamb_lb, train_X_std, test_X_std, train_y_species, test_y_species, False)\n",
    "\n",
    "print(\"ub\")\n",
    "svm_l1(1/lamb_ub, train_X_std, test_X_std, train_y_species, test_y_species, False)"
   ]
  },
  {
   "cell_type": "code",
   "execution_count": 79,
   "metadata": {},
   "outputs": [
    {
     "name": "stdout",
     "output_type": "stream",
     "text": [
      "Ideal Lambda: 1.6237767391887208\n",
      "Accuracy: 0.9550717924965262\n"
     ]
    }
   ],
   "source": [
    "params_species = {\"svc__C\": 1/np.logspace(-4, 6, 20)}\n",
    "ideal_C_species_l1 = svm_l1_cv(params_species, train_X, train_y_species)\n",
    "prediction_species_l1 = svm_l1(ideal_C_species_l1, train_X_std, test_X_std, train_y_species, test_y_species, True)"
   ]
  },
  {
   "cell_type": "markdown",
   "metadata": {},
   "source": [
    "#### d) Combining Results from All 3 Classes (Multi-label evaluation)\n",
    "**RESULTS**:\n",
    "- Hamming Score: 0.9446\n",
    "- Exact Match Ratio: 0.9125"
   ]
  },
  {
   "cell_type": "code",
   "execution_count": 65,
   "metadata": {},
   "outputs": [
    {
     "name": "stdout",
     "output_type": "stream",
     "text": [
      "Hamming Score: 0.9445731048324841\n",
      "Exact Match Ratio: 0.9124594719777674\n"
     ]
    }
   ],
   "source": [
    "prediction_l1 = pd.DataFrame({})\n",
    "prediction_l1['family'] = prediction_fam_l1\n",
    "prediction_l1['genus'] = prediction_genus_l1\n",
    "prediction_l1['species'] = prediction_species_l1\n",
    "    \n",
    "print_metrics(test_y, prediction_l1)"
   ]
  },
  {
   "cell_type": "markdown",
   "metadata": {},
   "source": [
    "### iv. SMOTE\n",
    "Note that in cross-validating to decide the hyperparameters, I baked in SMOTE in the pipeline for better results. However, in the end, I trained the final model with a train dataset that was applied SMOTE directly.\n",
    "\n",
    "#### a) Family Class"
   ]
  },
  {
   "cell_type": "code",
   "execution_count": 90,
   "metadata": {},
   "outputs": [],
   "source": [
    "def svm_l1_cv_smote(params, train_X, trainy):\n",
    "    pipe = imb.Pipeline([('scaler', StandardScaler()), ('smote', SMOTE()),\n",
    "                         ('svc', LinearSVC(max_iter=1000, dual=False))])\n",
    "    svm_l1_cv = GridSearchCV(estimator=pipe, param_grid=params, cv=10)\n",
    "    svm_l1_cv.fit(train_X, trainy)\n",
    "    \n",
    "    # Extract ideal parameters from cross-validation\n",
    "    ideal_C = svm_l1_cv.best_params_['svc__C']\n",
    "    print(\"Ideal Lambda: \" + str(1/ideal_C))\n",
    "    \n",
    "    return ideal_C"
   ]
  },
  {
   "cell_type": "code",
   "execution_count": 84,
   "metadata": {},
   "outputs": [],
   "source": [
    "sm = SMOTE()\n",
    "train_X_smote_fam, train_y_smote_fam = sm.fit_resample(train_X_std, train_y_fam)"
   ]
  },
  {
   "cell_type": "code",
   "execution_count": 85,
   "metadata": {},
   "outputs": [
    {
     "name": "stdout",
     "output_type": "stream",
     "text": [
      "lb\n",
      "Accuracy: 0.9249652616952293\n",
      "ub\n",
      "Accuracy: 0.7693376563223715\n"
     ]
    }
   ],
   "source": [
    "lamb_lb = 1e-6\n",
    "lamb_ub = 1e5\n",
    "\n",
    "print(\"lb\")\n",
    "svm_l1(1/lamb_lb, train_X_smote_fam, test_X_std, train_y_smote_fam, test_y_fam, False)\n",
    "\n",
    "print(\"ub\")\n",
    "svm_l1(1/lamb_ub, train_X_smote_fam, test_X_std, train_y_smote_fam, test_y_fam, False)"
   ]
  },
  {
   "cell_type": "code",
   "execution_count": 91,
   "metadata": {},
   "outputs": [
    {
     "name": "stdout",
     "output_type": "stream",
     "text": [
      "Ideal Lambda: 0.04281332398719396\n",
      "Accuracy: 0.9249652616952293\n"
     ]
    }
   ],
   "source": [
    "params_fam = {\"svc__C\": 1/np.logspace(-6, 5, 20)}\n",
    "\n",
    "# Cross-Validation with SMOTE built in the pipeline\n",
    "ideal_C_fam_l1 = svm_l1_cv_smote(params_fam, train_X, train_y_fam)\n",
    "prediction_fam_l1 = svm_l1(ideal_C_fam_l1, train_X_smote_fam, test_X_std, train_y_smote_fam, test_y_fam, True)"
   ]
  },
  {
   "cell_type": "markdown",
   "metadata": {},
   "source": [
    "#### b) Genus Class"
   ]
  },
  {
   "cell_type": "code",
   "execution_count": 92,
   "metadata": {},
   "outputs": [],
   "source": [
    "sm = SMOTE()\n",
    "train_X_smote_genus, train_y_smote_genus = sm.fit_resample(train_X_std, train_y_genus)"
   ]
  },
  {
   "cell_type": "code",
   "execution_count": 93,
   "metadata": {},
   "outputs": [
    {
     "name": "stdout",
     "output_type": "stream",
     "text": [
      "lb\n",
      "Accuracy: 0.9221861973135711\n",
      "ub\n",
      "Accuracy: 0.7568318666049096\n"
     ]
    }
   ],
   "source": [
    "lamb_lb = 1e-6\n",
    "lamb_ub = 1e5\n",
    "\n",
    "print(\"lb\")\n",
    "svm_l1(1/lamb_lb, train_X_smote_genus, test_X_std, train_y_smote_genus, test_y_genus, False)\n",
    "\n",
    "print(\"ub\")\n",
    "svm_l1(1/lamb_ub, train_X_smote_genus, test_X_std, train_y_smote_genus, test_y_genus, False)"
   ]
  },
  {
   "cell_type": "code",
   "execution_count": 95,
   "metadata": {},
   "outputs": [
    {
     "name": "stdout",
     "output_type": "stream",
     "text": [
      "Ideal Lambda: 0.04281332398719396\n",
      "Accuracy: 0.9231125521074571\n"
     ]
    }
   ],
   "source": [
    "params_genus = {\"svc__C\": 1/np.logspace(-6, 5, 20)}\n",
    "ideal_C_genus_l1 = svm_l1_cv_smote(params_genus, train_X, train_y_genus)\n",
    "prediction_genus_l1 = svm_l1(ideal_C_genus_l1, train_X_smote_genus, test_X_std, \n",
    "                             train_y_smote_genus, test_y_genus, True)"
   ]
  },
  {
   "cell_type": "markdown",
   "metadata": {},
   "source": [
    "#### c) Species Class"
   ]
  },
  {
   "cell_type": "code",
   "execution_count": 96,
   "metadata": {},
   "outputs": [],
   "source": [
    "sm = SMOTE()\n",
    "train_X_smote_species, train_y_smote_species = sm.fit_resample(train_X_std, train_y_species)"
   ]
  },
  {
   "cell_type": "code",
   "execution_count": 97,
   "metadata": {},
   "outputs": [
    {
     "name": "stdout",
     "output_type": "stream",
     "text": [
      "lb\n",
      "Accuracy: 0.9499768411301528\n",
      "ub\n",
      "Accuracy: 0.7684113015284854\n"
     ]
    }
   ],
   "source": [
    "lamb_lb = 1e-6\n",
    "lamb_ub = 1e6\n",
    "\n",
    "print(\"lb\")\n",
    "svm_l1(1/lamb_lb, train_X_smote_species, test_X_std, train_y_smote_species, test_y_species, False)\n",
    "\n",
    "print(\"ub\")\n",
    "svm_l1(1/lamb_ub, train_X_smote_species, test_X_std, train_y_smote_species, test_y_species, False)"
   ]
  },
  {
   "cell_type": "code",
   "execution_count": 98,
   "metadata": {},
   "outputs": [
    {
     "name": "stdout",
     "output_type": "stream",
     "text": [
      "Ideal Lambda: 37.92690190732246\n",
      "Accuracy: 0.953219082908754\n"
     ]
    }
   ],
   "source": [
    "params_species = {\"svc__C\": 1/np.logspace(-6, 6, 20)}\n",
    "ideal_C_species_l1 = svm_l1_cv_smote(params_species, train_X, train_y_species)\n",
    "prediction_species_l1 = svm_l1(ideal_C_species_l1, train_X_smote_species, test_X_std, train_y_smote_species, \n",
    "                               test_y_species, True)"
   ]
  },
  {
   "cell_type": "markdown",
   "metadata": {},
   "source": [
    "#### d) Combining Results from All 3 Classes (Multi-label evaluation)\n",
    "**RESULTS**:\n",
    "- Hamming Score: 0.9348\n",
    "- Exact Match Ratio: 0.8745"
   ]
  },
  {
   "cell_type": "code",
   "execution_count": 99,
   "metadata": {},
   "outputs": [
    {
     "name": "stdout",
     "output_type": "stream",
     "text": [
      "Hamming Score: 0.9337656322371468\n",
      "Exact Match Ratio: 0.87308939323761\n"
     ]
    }
   ],
   "source": [
    "prediction_l1_smote = pd.DataFrame({})\n",
    "prediction_l1_smote['family'] = prediction_fam_l1\n",
    "prediction_l1_smote['genus'] = prediction_genus_l1\n",
    "prediction_l1_smote['species'] = prediction_species_l1\n",
    "\n",
    "print_metrics(test_y, prediction_l1_smote)"
   ]
  },
  {
   "cell_type": "markdown",
   "metadata": {},
   "source": [
    "# 2. K-Means Clustering\n",
    "We perform 50 iterations of k-means clustering on the same Anuran Calls (MFCCs) data set. On each iteration:\n",
    "\n",
    "    a) Choose k in {1, ..., 50} that maximizes the Silhouette Score using a specified seed\n",
    "    b) In each cluster, determine the majority family, genus and species. We treat these majorities as predictions\n",
    "    c) Calculate Hamming distance, score, and loss between the true labels and majority (predicted) labels\n",
    "\n",
    "Then, we evaluate the mean and standard deviation of the Hamming Scores obtained after 50 iterations\n",
    "\n",
    "**Hamming Distance Definition**: There doesn't seem to be a definition for Hamming Distance that suits our particular learning problem. Based off of various sources, they use Hamming distance as a metric in comparing the difference between two bitstrings. So, I am simply doing a comparison of both labels, and counting how many of the individual labels don't match the true label. In this case, then, **Hamming Distance = Hamming Loss * # Data points * # Labels each data point.**\n",
    "\n",
    "**Hamming Distance Results after 50 simulations**:\n",
    "- Mean: 5195.22\n",
    "- Standard Deviation: 804.91"
   ]
  },
  {
   "cell_type": "code",
   "execution_count": 5,
   "metadata": {},
   "outputs": [],
   "source": [
    "X_std = standardize.fit_transform(X)\n",
    "y_fam = y['Family']\n",
    "y_genus = y['Genus']\n",
    "y_species = y['Species']"
   ]
  },
  {
   "cell_type": "code",
   "execution_count": 56,
   "metadata": {},
   "outputs": [],
   "source": [
    "def find_max_clusters(y_label, ideal_k, labels):\n",
    "    count_fam = {}\n",
    "    fam_max = {}\n",
    "    for i in range(ideal_k):\n",
    "        count_fam[i] = []\n",
    "        fam_max[i] = []\n",
    "\n",
    "    # family\n",
    "    for i in range(len(labels)):\n",
    "        count_fam[labels[i]].append(y_label[i])\n",
    "\n",
    "    for i in count_fam:\n",
    "        fam_max[i] = max(count_fam[i],key=count_fam[i].count)\n",
    "\n",
    "    return fam_max\n",
    "\n",
    "def print_metrics_hamming(test_y, prediction):\n",
    "    prediction_numpy = prediction.to_numpy()\n",
    "    testy_numpy = test_y.to_numpy()\n",
    "    print(\"c) Metrics\")\n",
    "    print(\"--> Hamming Score: \" + str(np.sum(np.equal(testy_numpy, prediction_numpy))/float(testy_numpy.size)))\n",
    "    print(\"--> Hamming Loss: \" + str(np.sum(np.not_equal(testy_numpy, prediction_numpy))/float(testy_numpy.size)))\n",
    "    hamming_dist = np.sum(np.not_equal(testy_numpy, prediction_numpy))\n",
    "    print(\"--> Hamming Distance: \" + str(hamming_dist))\n",
    "    return hamming_dist"
   ]
  },
  {
   "cell_type": "code",
   "execution_count": 60,
   "metadata": {},
   "outputs": [
    {
     "name": "stdout",
     "output_type": "stream",
     "text": [
      "----- Simulation #: 1 -----\n",
      "a) Ideal # of Clusters: 3\n",
      "b) Majority Label in Clusters: {0: ['Hylidae', 'Hypsiboas', 'HypsiboasCinerascens'], 1: ['Hylidae', 'Hypsiboas', 'HypsiboasCordobae'], 2: ['Leptodactylidae', 'Adenomera', 'AdenomeraHylaedactylus']}\n",
      "c) Metrics\n",
      "--> Hamming Score: 0.7179986101459347\n",
      "--> Hamming Loss: 0.2820013898540653\n",
      "--> Hamming Distance: 6087\n",
      "\n",
      "\n",
      "----- Simulation #: 2 -----\n",
      "a) Ideal # of Clusters: 3\n",
      "b) Majority Label in Clusters: {0: ['Hylidae', 'Hypsiboas', 'HypsiboasCinerascens'], 1: ['Hylidae', 'Hypsiboas', 'HypsiboasCordobae'], 2: ['Leptodactylidae', 'Adenomera', 'AdenomeraHylaedactylus']}\n",
      "c) Metrics\n",
      "--> Hamming Score: 0.7179986101459347\n",
      "--> Hamming Loss: 0.2820013898540653\n",
      "--> Hamming Distance: 6087\n",
      "\n",
      "\n",
      "----- Simulation #: 3 -----\n",
      "a) Ideal # of Clusters: 5\n",
      "b) Majority Label in Clusters: {0: ['Leptodactylidae', 'Adenomera', 'AdenomeraHylaedactylus'], 1: ['Hylidae', 'Hypsiboas', 'HypsiboasCordobae'], 2: ['Hylidae', 'Hypsiboas', 'HypsiboasCinerascens'], 3: ['Leptodactylidae', 'Adenomera', 'AdenomeraAndre'], 4: ['Leptodactylidae', 'Adenomera', 'AdenomeraAndre']}\n",
      "c) Metrics\n",
      "--> Hamming Score: 0.8033356497567755\n",
      "--> Hamming Loss: 0.19666435024322446\n",
      "--> Hamming Distance: 4245\n",
      "\n",
      "\n",
      "----- Simulation #: 4 -----\n",
      "a) Ideal # of Clusters: 6\n",
      "b) Majority Label in Clusters: {0: ['Leptodactylidae', 'Adenomera', 'AdenomeraHylaedactylus'], 1: ['Leptodactylidae', 'Adenomera', 'AdenomeraAndre'], 2: ['Hylidae', 'Hypsiboas', 'HypsiboasCordobae'], 3: ['Leptodactylidae', 'Adenomera', 'AdenomeraHylaedactylus'], 4: ['Leptodactylidae', 'Adenomera', 'AdenomeraAndre'], 5: ['Hylidae', 'Hypsiboas', 'HypsiboasCinerascens']}\n",
      "c) Metrics\n",
      "--> Hamming Score: 0.8028260365994904\n",
      "--> Hamming Loss: 0.1971739634005096\n",
      "--> Hamming Distance: 4256\n",
      "\n",
      "\n",
      "----- Simulation #: 5 -----\n",
      "a) Ideal # of Clusters: 3\n",
      "b) Majority Label in Clusters: {0: ['Hylidae', 'Hypsiboas', 'HypsiboasCinerascens'], 1: ['Hylidae', 'Hypsiboas', 'HypsiboasCordobae'], 2: ['Leptodactylidae', 'Adenomera', 'AdenomeraHylaedactylus']}\n",
      "c) Metrics\n",
      "--> Hamming Score: 0.7179986101459347\n",
      "--> Hamming Loss: 0.2820013898540653\n",
      "--> Hamming Distance: 6087\n",
      "\n",
      "\n",
      "----- Simulation #: 6 -----\n",
      "a) Ideal # of Clusters: 6\n",
      "b) Majority Label in Clusters: {0: ['Leptodactylidae', 'Adenomera', 'AdenomeraHylaedactylus'], 1: ['Leptodactylidae', 'Adenomera', 'AdenomeraAndre'], 2: ['Hylidae', 'Hypsiboas', 'HypsiboasCordobae'], 3: ['Leptodactylidae', 'Adenomera', 'AdenomeraHylaedactylus'], 4: ['Leptodactylidae', 'Adenomera', 'AdenomeraAndre'], 5: ['Hylidae', 'Hypsiboas', 'HypsiboasCinerascens']}\n",
      "c) Metrics\n",
      "--> Hamming Score: 0.8028260365994904\n",
      "--> Hamming Loss: 0.1971739634005096\n",
      "--> Hamming Distance: 4256\n",
      "\n",
      "\n",
      "----- Simulation #: 7 -----\n",
      "a) Ideal # of Clusters: 4\n",
      "b) Majority Label in Clusters: {0: ['Hylidae', 'Hypsiboas', 'HypsiboasCinerascens'], 1: ['Leptodactylidae', 'Adenomera', 'AdenomeraHylaedactylus'], 2: ['Leptodactylidae', 'Adenomera', 'AdenomeraAndre'], 3: ['Hylidae', 'Hypsiboas', 'HypsiboasCordobae']}\n",
      "c) Metrics\n",
      "--> Hamming Score: 0.7525596479036368\n",
      "--> Hamming Loss: 0.24744035209636323\n",
      "--> Hamming Distance: 5341\n",
      "\n",
      "\n",
      "----- Simulation #: 8 -----\n",
      "a) Ideal # of Clusters: 4\n",
      "b) Majority Label in Clusters: {0: ['Hylidae', 'Hypsiboas', 'HypsiboasCinerascens'], 1: ['Leptodactylidae', 'Adenomera', 'AdenomeraHylaedactylus'], 2: ['Leptodactylidae', 'Adenomera', 'AdenomeraAndre'], 3: ['Hylidae', 'Hypsiboas', 'HypsiboasCordobae']}\n",
      "c) Metrics\n",
      "--> Hamming Score: 0.7525596479036368\n",
      "--> Hamming Loss: 0.24744035209636323\n",
      "--> Hamming Distance: 5341\n",
      "\n",
      "\n",
      "----- Simulation #: 9 -----\n",
      "a) Ideal # of Clusters: 3\n",
      "b) Majority Label in Clusters: {0: ['Hylidae', 'Hypsiboas', 'HypsiboasCinerascens'], 1: ['Hylidae', 'Hypsiboas', 'HypsiboasCordobae'], 2: ['Leptodactylidae', 'Adenomera', 'AdenomeraHylaedactylus']}\n",
      "c) Metrics\n",
      "--> Hamming Score: 0.7179986101459347\n",
      "--> Hamming Loss: 0.2820013898540653\n",
      "--> Hamming Distance: 6087\n",
      "\n",
      "\n",
      "----- Simulation #: 10 -----\n",
      "a) Ideal # of Clusters: 4\n",
      "b) Majority Label in Clusters: {0: ['Hylidae', 'Hypsiboas', 'HypsiboasCinerascens'], 1: ['Leptodactylidae', 'Adenomera', 'AdenomeraHylaedactylus'], 2: ['Leptodactylidae', 'Adenomera', 'AdenomeraAndre'], 3: ['Hylidae', 'Hypsiboas', 'HypsiboasCordobae']}\n",
      "c) Metrics\n",
      "--> Hamming Score: 0.7525596479036368\n",
      "--> Hamming Loss: 0.24744035209636323\n",
      "--> Hamming Distance: 5341\n",
      "\n",
      "\n",
      "----- Simulation #: 11 -----\n",
      "a) Ideal # of Clusters: 4\n",
      "b) Majority Label in Clusters: {0: ['Hylidae', 'Hypsiboas', 'HypsiboasCinerascens'], 1: ['Leptodactylidae', 'Adenomera', 'AdenomeraHylaedactylus'], 2: ['Leptodactylidae', 'Adenomera', 'AdenomeraAndre'], 3: ['Hylidae', 'Hypsiboas', 'HypsiboasCordobae']}\n",
      "c) Metrics\n",
      "--> Hamming Score: 0.7525596479036368\n",
      "--> Hamming Loss: 0.24744035209636323\n",
      "--> Hamming Distance: 5341\n",
      "\n",
      "\n",
      "----- Simulation #: 12 -----\n",
      "a) Ideal # of Clusters: 4\n",
      "b) Majority Label in Clusters: {0: ['Hylidae', 'Hypsiboas', 'HypsiboasCinerascens'], 1: ['Leptodactylidae', 'Adenomera', 'AdenomeraHylaedactylus'], 2: ['Leptodactylidae', 'Adenomera', 'AdenomeraAndre'], 3: ['Hylidae', 'Hypsiboas', 'HypsiboasCordobae']}\n",
      "c) Metrics\n",
      "--> Hamming Score: 0.7525596479036368\n",
      "--> Hamming Loss: 0.24744035209636323\n",
      "--> Hamming Distance: 5341\n",
      "\n",
      "\n",
      "----- Simulation #: 13 -----\n",
      "a) Ideal # of Clusters: 4\n",
      "b) Majority Label in Clusters: {0: ['Hylidae', 'Hypsiboas', 'HypsiboasCinerascens'], 1: ['Leptodactylidae', 'Adenomera', 'AdenomeraHylaedactylus'], 2: ['Leptodactylidae', 'Adenomera', 'AdenomeraAndre'], 3: ['Hylidae', 'Hypsiboas', 'HypsiboasCordobae']}\n",
      "c) Metrics\n",
      "--> Hamming Score: 0.7525596479036368\n",
      "--> Hamming Loss: 0.24744035209636323\n",
      "--> Hamming Distance: 5341\n",
      "\n",
      "\n",
      "----- Simulation #: 14 -----\n",
      "a) Ideal # of Clusters: 3\n",
      "b) Majority Label in Clusters: {0: ['Hylidae', 'Hypsiboas', 'HypsiboasCinerascens'], 1: ['Hylidae', 'Hypsiboas', 'HypsiboasCordobae'], 2: ['Leptodactylidae', 'Adenomera', 'AdenomeraHylaedactylus']}\n",
      "c) Metrics\n",
      "--> Hamming Score: 0.7179986101459347\n",
      "--> Hamming Loss: 0.2820013898540653\n",
      "--> Hamming Distance: 6087\n",
      "\n",
      "\n",
      "----- Simulation #: 15 -----\n",
      "a) Ideal # of Clusters: 3\n",
      "b) Majority Label in Clusters: {0: ['Hylidae', 'Hypsiboas', 'HypsiboasCinerascens'], 1: ['Hylidae', 'Hypsiboas', 'HypsiboasCordobae'], 2: ['Leptodactylidae', 'Adenomera', 'AdenomeraHylaedactylus']}\n",
      "c) Metrics\n",
      "--> Hamming Score: 0.7179986101459347\n",
      "--> Hamming Loss: 0.2820013898540653\n",
      "--> Hamming Distance: 6087\n",
      "\n",
      "\n",
      "----- Simulation #: 16 -----\n",
      "a) Ideal # of Clusters: 3\n",
      "b) Majority Label in Clusters: {0: ['Hylidae', 'Hypsiboas', 'HypsiboasCinerascens'], 1: ['Hylidae', 'Hypsiboas', 'HypsiboasCordobae'], 2: ['Leptodactylidae', 'Adenomera', 'AdenomeraHylaedactylus']}\n",
      "c) Metrics\n",
      "--> Hamming Score: 0.7179986101459347\n",
      "--> Hamming Loss: 0.2820013898540653\n",
      "--> Hamming Distance: 6087\n",
      "\n",
      "\n",
      "----- Simulation #: 17 -----\n",
      "a) Ideal # of Clusters: 6\n",
      "b) Majority Label in Clusters: {0: ['Leptodactylidae', 'Adenomera', 'AdenomeraHylaedactylus'], 1: ['Leptodactylidae', 'Adenomera', 'AdenomeraAndre'], 2: ['Hylidae', 'Hypsiboas', 'HypsiboasCordobae'], 3: ['Leptodactylidae', 'Adenomera', 'AdenomeraHylaedactylus'], 4: ['Leptodactylidae', 'Adenomera', 'AdenomeraAndre'], 5: ['Hylidae', 'Hypsiboas', 'HypsiboasCinerascens']}\n",
      "c) Metrics\n",
      "--> Hamming Score: 0.8028260365994904\n",
      "--> Hamming Loss: 0.1971739634005096\n",
      "--> Hamming Distance: 4256\n",
      "\n",
      "\n",
      "----- Simulation #: 18 -----\n",
      "a) Ideal # of Clusters: 3\n",
      "b) Majority Label in Clusters: {0: ['Hylidae', 'Hypsiboas', 'HypsiboasCinerascens'], 1: ['Hylidae', 'Hypsiboas', 'HypsiboasCordobae'], 2: ['Leptodactylidae', 'Adenomera', 'AdenomeraHylaedactylus']}\n",
      "c) Metrics\n",
      "--> Hamming Score: 0.7179986101459347\n",
      "--> Hamming Loss: 0.2820013898540653\n",
      "--> Hamming Distance: 6087\n",
      "\n",
      "\n",
      "----- Simulation #: 19 -----\n",
      "a) Ideal # of Clusters: 4\n",
      "b) Majority Label in Clusters: {0: ['Hylidae', 'Hypsiboas', 'HypsiboasCinerascens'], 1: ['Leptodactylidae', 'Adenomera', 'AdenomeraHylaedactylus'], 2: ['Leptodactylidae', 'Adenomera', 'AdenomeraAndre'], 3: ['Hylidae', 'Hypsiboas', 'HypsiboasCordobae']}\n",
      "c) Metrics\n",
      "--> Hamming Score: 0.7525596479036368\n",
      "--> Hamming Loss: 0.24744035209636323\n",
      "--> Hamming Distance: 5341\n",
      "\n",
      "\n",
      "----- Simulation #: 20 -----\n",
      "a) Ideal # of Clusters: 5\n",
      "b) Majority Label in Clusters: {0: ['Leptodactylidae', 'Adenomera', 'AdenomeraHylaedactylus'], 1: ['Hylidae', 'Hypsiboas', 'HypsiboasCordobae'], 2: ['Hylidae', 'Hypsiboas', 'HypsiboasCinerascens'], 3: ['Leptodactylidae', 'Adenomera', 'AdenomeraAndre'], 4: ['Leptodactylidae', 'Adenomera', 'AdenomeraAndre']}\n",
      "c) Metrics\n",
      "--> Hamming Score: 0.8033356497567755\n",
      "--> Hamming Loss: 0.19666435024322446\n",
      "--> Hamming Distance: 4245\n",
      "\n",
      "\n",
      "----- Simulation #: 21 -----\n"
     ]
    },
    {
     "name": "stdout",
     "output_type": "stream",
     "text": [
      "a) Ideal # of Clusters: 4\n",
      "b) Majority Label in Clusters: {0: ['Hylidae', 'Hypsiboas', 'HypsiboasCinerascens'], 1: ['Leptodactylidae', 'Adenomera', 'AdenomeraHylaedactylus'], 2: ['Leptodactylidae', 'Adenomera', 'AdenomeraAndre'], 3: ['Hylidae', 'Hypsiboas', 'HypsiboasCordobae']}\n",
      "c) Metrics\n",
      "--> Hamming Score: 0.7525596479036368\n",
      "--> Hamming Loss: 0.24744035209636323\n",
      "--> Hamming Distance: 5341\n",
      "\n",
      "\n",
      "----- Simulation #: 22 -----\n",
      "a) Ideal # of Clusters: 4\n",
      "b) Majority Label in Clusters: {0: ['Hylidae', 'Hypsiboas', 'HypsiboasCinerascens'], 1: ['Leptodactylidae', 'Adenomera', 'AdenomeraHylaedactylus'], 2: ['Leptodactylidae', 'Adenomera', 'AdenomeraAndre'], 3: ['Hylidae', 'Hypsiboas', 'HypsiboasCordobae']}\n",
      "c) Metrics\n",
      "--> Hamming Score: 0.7525596479036368\n",
      "--> Hamming Loss: 0.24744035209636323\n",
      "--> Hamming Distance: 5341\n",
      "\n",
      "\n",
      "----- Simulation #: 23 -----\n",
      "a) Ideal # of Clusters: 6\n",
      "b) Majority Label in Clusters: {0: ['Leptodactylidae', 'Adenomera', 'AdenomeraHylaedactylus'], 1: ['Leptodactylidae', 'Adenomera', 'AdenomeraAndre'], 2: ['Hylidae', 'Hypsiboas', 'HypsiboasCordobae'], 3: ['Leptodactylidae', 'Adenomera', 'AdenomeraHylaedactylus'], 4: ['Leptodactylidae', 'Adenomera', 'AdenomeraAndre'], 5: ['Hylidae', 'Hypsiboas', 'HypsiboasCinerascens']}\n",
      "c) Metrics\n",
      "--> Hamming Score: 0.8028260365994904\n",
      "--> Hamming Loss: 0.1971739634005096\n",
      "--> Hamming Distance: 4256\n",
      "\n",
      "\n",
      "----- Simulation #: 24 -----\n",
      "a) Ideal # of Clusters: 4\n",
      "b) Majority Label in Clusters: {0: ['Hylidae', 'Hypsiboas', 'HypsiboasCinerascens'], 1: ['Leptodactylidae', 'Adenomera', 'AdenomeraHylaedactylus'], 2: ['Leptodactylidae', 'Adenomera', 'AdenomeraAndre'], 3: ['Hylidae', 'Hypsiboas', 'HypsiboasCordobae']}\n",
      "c) Metrics\n",
      "--> Hamming Score: 0.7525596479036368\n",
      "--> Hamming Loss: 0.24744035209636323\n",
      "--> Hamming Distance: 5341\n",
      "\n",
      "\n",
      "----- Simulation #: 25 -----\n",
      "a) Ideal # of Clusters: 3\n",
      "b) Majority Label in Clusters: {0: ['Hylidae', 'Hypsiboas', 'HypsiboasCinerascens'], 1: ['Hylidae', 'Hypsiboas', 'HypsiboasCordobae'], 2: ['Leptodactylidae', 'Adenomera', 'AdenomeraHylaedactylus']}\n",
      "c) Metrics\n",
      "--> Hamming Score: 0.7179986101459347\n",
      "--> Hamming Loss: 0.2820013898540653\n",
      "--> Hamming Distance: 6087\n",
      "\n",
      "\n",
      "----- Simulation #: 26 -----\n",
      "a) Ideal # of Clusters: 3\n",
      "b) Majority Label in Clusters: {0: ['Hylidae', 'Hypsiboas', 'HypsiboasCinerascens'], 1: ['Hylidae', 'Hypsiboas', 'HypsiboasCordobae'], 2: ['Leptodactylidae', 'Adenomera', 'AdenomeraHylaedactylus']}\n",
      "c) Metrics\n",
      "--> Hamming Score: 0.7179986101459347\n",
      "--> Hamming Loss: 0.2820013898540653\n",
      "--> Hamming Distance: 6087\n",
      "\n",
      "\n",
      "----- Simulation #: 27 -----\n",
      "a) Ideal # of Clusters: 4\n",
      "b) Majority Label in Clusters: {0: ['Hylidae', 'Hypsiboas', 'HypsiboasCinerascens'], 1: ['Leptodactylidae', 'Adenomera', 'AdenomeraHylaedactylus'], 2: ['Leptodactylidae', 'Adenomera', 'AdenomeraAndre'], 3: ['Hylidae', 'Hypsiboas', 'HypsiboasCordobae']}\n",
      "c) Metrics\n",
      "--> Hamming Score: 0.7525596479036368\n",
      "--> Hamming Loss: 0.24744035209636323\n",
      "--> Hamming Distance: 5341\n",
      "\n",
      "\n",
      "----- Simulation #: 28 -----\n",
      "a) Ideal # of Clusters: 7\n",
      "b) Majority Label in Clusters: {0: ['Hylidae', 'Hypsiboas', 'HypsiboasCinerascens'], 1: ['Leptodactylidae', 'Adenomera', 'AdenomeraHylaedactylus'], 2: ['Leptodactylidae', 'Adenomera', 'AdenomeraAndre'], 3: ['Leptodactylidae', 'Adenomera', 'AdenomeraAndre'], 4: ['Leptodactylidae', 'Adenomera', 'AdenomeraHylaedactylus'], 5: ['Hylidae', 'Hypsiboas', 'HypsiboasCordobae'], 6: ['Hylidae', 'Hypsiboas', 'HypsiboasCordobae']}\n",
      "c) Metrics\n",
      "--> Hamming Score: 0.8037526059763724\n",
      "--> Hamming Loss: 0.1962473940236275\n",
      "--> Hamming Distance: 4236\n",
      "\n",
      "\n",
      "----- Simulation #: 29 -----\n",
      "a) Ideal # of Clusters: 6\n",
      "b) Majority Label in Clusters: {0: ['Leptodactylidae', 'Adenomera', 'AdenomeraHylaedactylus'], 1: ['Leptodactylidae', 'Adenomera', 'AdenomeraAndre'], 2: ['Hylidae', 'Hypsiboas', 'HypsiboasCordobae'], 3: ['Leptodactylidae', 'Adenomera', 'AdenomeraHylaedactylus'], 4: ['Leptodactylidae', 'Adenomera', 'AdenomeraAndre'], 5: ['Hylidae', 'Hypsiboas', 'HypsiboasCinerascens']}\n",
      "c) Metrics\n",
      "--> Hamming Score: 0.8028260365994904\n",
      "--> Hamming Loss: 0.1971739634005096\n",
      "--> Hamming Distance: 4256\n",
      "\n",
      "\n",
      "----- Simulation #: 30 -----\n",
      "a) Ideal # of Clusters: 6\n",
      "b) Majority Label in Clusters: {0: ['Leptodactylidae', 'Adenomera', 'AdenomeraHylaedactylus'], 1: ['Leptodactylidae', 'Adenomera', 'AdenomeraAndre'], 2: ['Hylidae', 'Hypsiboas', 'HypsiboasCordobae'], 3: ['Leptodactylidae', 'Adenomera', 'AdenomeraHylaedactylus'], 4: ['Leptodactylidae', 'Adenomera', 'AdenomeraAndre'], 5: ['Hylidae', 'Hypsiboas', 'HypsiboasCinerascens']}\n",
      "c) Metrics\n",
      "--> Hamming Score: 0.8028260365994904\n",
      "--> Hamming Loss: 0.1971739634005096\n",
      "--> Hamming Distance: 4256\n",
      "\n",
      "\n",
      "----- Simulation #: 31 -----\n",
      "a) Ideal # of Clusters: 4\n",
      "b) Majority Label in Clusters: {0: ['Hylidae', 'Hypsiboas', 'HypsiboasCinerascens'], 1: ['Leptodactylidae', 'Adenomera', 'AdenomeraHylaedactylus'], 2: ['Leptodactylidae', 'Adenomera', 'AdenomeraAndre'], 3: ['Hylidae', 'Hypsiboas', 'HypsiboasCordobae']}\n",
      "c) Metrics\n",
      "--> Hamming Score: 0.7525596479036368\n",
      "--> Hamming Loss: 0.24744035209636323\n",
      "--> Hamming Distance: 5341\n",
      "\n",
      "\n",
      "----- Simulation #: 32 -----\n",
      "a) Ideal # of Clusters: 3\n",
      "b) Majority Label in Clusters: {0: ['Hylidae', 'Hypsiboas', 'HypsiboasCinerascens'], 1: ['Hylidae', 'Hypsiboas', 'HypsiboasCordobae'], 2: ['Leptodactylidae', 'Adenomera', 'AdenomeraHylaedactylus']}\n",
      "c) Metrics\n",
      "--> Hamming Score: 0.7179986101459347\n",
      "--> Hamming Loss: 0.2820013898540653\n",
      "--> Hamming Distance: 6087\n",
      "\n",
      "\n",
      "----- Simulation #: 33 -----\n",
      "a) Ideal # of Clusters: 3\n",
      "b) Majority Label in Clusters: {0: ['Hylidae', 'Hypsiboas', 'HypsiboasCinerascens'], 1: ['Hylidae', 'Hypsiboas', 'HypsiboasCordobae'], 2: ['Leptodactylidae', 'Adenomera', 'AdenomeraHylaedactylus']}\n",
      "c) Metrics\n",
      "--> Hamming Score: 0.7179986101459347\n",
      "--> Hamming Loss: 0.2820013898540653\n",
      "--> Hamming Distance: 6087\n",
      "\n",
      "\n",
      "----- Simulation #: 34 -----\n",
      "a) Ideal # of Clusters: 3\n",
      "b) Majority Label in Clusters: {0: ['Hylidae', 'Hypsiboas', 'HypsiboasCinerascens'], 1: ['Hylidae', 'Hypsiboas', 'HypsiboasCordobae'], 2: ['Leptodactylidae', 'Adenomera', 'AdenomeraHylaedactylus']}\n",
      "c) Metrics\n",
      "--> Hamming Score: 0.7179986101459347\n",
      "--> Hamming Loss: 0.2820013898540653\n",
      "--> Hamming Distance: 6087\n",
      "\n",
      "\n",
      "----- Simulation #: 35 -----\n",
      "a) Ideal # of Clusters: 5\n",
      "b) Majority Label in Clusters: {0: ['Leptodactylidae', 'Adenomera', 'AdenomeraHylaedactylus'], 1: ['Hylidae', 'Hypsiboas', 'HypsiboasCordobae'], 2: ['Hylidae', 'Hypsiboas', 'HypsiboasCinerascens'], 3: ['Leptodactylidae', 'Adenomera', 'AdenomeraAndre'], 4: ['Leptodactylidae', 'Adenomera', 'AdenomeraAndre']}\n",
      "c) Metrics\n",
      "--> Hamming Score: 0.8033356497567755\n",
      "--> Hamming Loss: 0.19666435024322446\n",
      "--> Hamming Distance: 4245\n",
      "\n",
      "\n",
      "----- Simulation #: 36 -----\n",
      "a) Ideal # of Clusters: 8\n",
      "b) Majority Label in Clusters: {0: ['Leptodactylidae', 'Adenomera', 'AdenomeraHylaedactylus'], 1: ['Leptodactylidae', 'Adenomera', 'AdenomeraAndre'], 2: ['Leptodactylidae', 'Adenomera', 'AdenomeraHylaedactylus'], 3: ['Dendrobatidae', 'Ameerega', 'Ameeregatrivittata'], 4: ['Leptodactylidae', 'Adenomera', 'AdenomeraAndre'], 5: ['Hylidae', 'Hypsiboas', 'HypsiboasCordobae'], 6: ['Hylidae', 'Hypsiboas', 'HypsiboasCordobae'], 7: ['Hylidae', 'Hypsiboas', 'HypsiboasCinerascens']}\n",
      "c) Metrics\n",
      "--> Hamming Score: 0.8342830669446375\n",
      "--> Hamming Loss: 0.16571693305536253\n",
      "--> Hamming Distance: 3577\n",
      "\n",
      "\n",
      "----- Simulation #: 37 -----\n",
      "a) Ideal # of Clusters: 5\n",
      "b) Majority Label in Clusters: {0: ['Leptodactylidae', 'Adenomera', 'AdenomeraHylaedactylus'], 1: ['Hylidae', 'Hypsiboas', 'HypsiboasCordobae'], 2: ['Hylidae', 'Hypsiboas', 'HypsiboasCinerascens'], 3: ['Leptodactylidae', 'Adenomera', 'AdenomeraAndre'], 4: ['Leptodactylidae', 'Adenomera', 'AdenomeraAndre']}\n",
      "c) Metrics\n",
      "--> Hamming Score: 0.8033356497567755\n",
      "--> Hamming Loss: 0.19666435024322446\n",
      "--> Hamming Distance: 4245\n",
      "\n",
      "\n",
      "----- Simulation #: 38 -----\n",
      "a) Ideal # of Clusters: 4\n",
      "b) Majority Label in Clusters: {0: ['Hylidae', 'Hypsiboas', 'HypsiboasCinerascens'], 1: ['Leptodactylidae', 'Adenomera', 'AdenomeraHylaedactylus'], 2: ['Leptodactylidae', 'Adenomera', 'AdenomeraAndre'], 3: ['Hylidae', 'Hypsiboas', 'HypsiboasCordobae']}\n",
      "c) Metrics\n",
      "--> Hamming Score: 0.7525596479036368\n",
      "--> Hamming Loss: 0.24744035209636323\n",
      "--> Hamming Distance: 5341\n",
      "\n",
      "\n",
      "----- Simulation #: 39 -----\n"
     ]
    },
    {
     "name": "stdout",
     "output_type": "stream",
     "text": [
      "a) Ideal # of Clusters: 5\n",
      "b) Majority Label in Clusters: {0: ['Leptodactylidae', 'Adenomera', 'AdenomeraHylaedactylus'], 1: ['Hylidae', 'Hypsiboas', 'HypsiboasCordobae'], 2: ['Hylidae', 'Hypsiboas', 'HypsiboasCinerascens'], 3: ['Leptodactylidae', 'Adenomera', 'AdenomeraAndre'], 4: ['Leptodactylidae', 'Adenomera', 'AdenomeraAndre']}\n",
      "c) Metrics\n",
      "--> Hamming Score: 0.8033356497567755\n",
      "--> Hamming Loss: 0.19666435024322446\n",
      "--> Hamming Distance: 4245\n",
      "\n",
      "\n",
      "----- Simulation #: 40 -----\n",
      "a) Ideal # of Clusters: 5\n",
      "b) Majority Label in Clusters: {0: ['Leptodactylidae', 'Adenomera', 'AdenomeraHylaedactylus'], 1: ['Hylidae', 'Hypsiboas', 'HypsiboasCordobae'], 2: ['Hylidae', 'Hypsiboas', 'HypsiboasCinerascens'], 3: ['Leptodactylidae', 'Adenomera', 'AdenomeraAndre'], 4: ['Leptodactylidae', 'Adenomera', 'AdenomeraAndre']}\n",
      "c) Metrics\n",
      "--> Hamming Score: 0.8033356497567755\n",
      "--> Hamming Loss: 0.19666435024322446\n",
      "--> Hamming Distance: 4245\n",
      "\n",
      "\n",
      "----- Simulation #: 41 -----\n",
      "a) Ideal # of Clusters: 3\n",
      "b) Majority Label in Clusters: {0: ['Hylidae', 'Hypsiboas', 'HypsiboasCinerascens'], 1: ['Hylidae', 'Hypsiboas', 'HypsiboasCordobae'], 2: ['Leptodactylidae', 'Adenomera', 'AdenomeraHylaedactylus']}\n",
      "c) Metrics\n",
      "--> Hamming Score: 0.7179986101459347\n",
      "--> Hamming Loss: 0.2820013898540653\n",
      "--> Hamming Distance: 6087\n",
      "\n",
      "\n",
      "----- Simulation #: 42 -----\n",
      "a) Ideal # of Clusters: 5\n",
      "b) Majority Label in Clusters: {0: ['Leptodactylidae', 'Adenomera', 'AdenomeraHylaedactylus'], 1: ['Hylidae', 'Hypsiboas', 'HypsiboasCordobae'], 2: ['Hylidae', 'Hypsiboas', 'HypsiboasCinerascens'], 3: ['Leptodactylidae', 'Adenomera', 'AdenomeraAndre'], 4: ['Leptodactylidae', 'Adenomera', 'AdenomeraAndre']}\n",
      "c) Metrics\n",
      "--> Hamming Score: 0.8033356497567755\n",
      "--> Hamming Loss: 0.19666435024322446\n",
      "--> Hamming Distance: 4245\n",
      "\n",
      "\n",
      "----- Simulation #: 43 -----\n",
      "a) Ideal # of Clusters: 6\n",
      "b) Majority Label in Clusters: {0: ['Leptodactylidae', 'Adenomera', 'AdenomeraHylaedactylus'], 1: ['Leptodactylidae', 'Adenomera', 'AdenomeraAndre'], 2: ['Hylidae', 'Hypsiboas', 'HypsiboasCordobae'], 3: ['Leptodactylidae', 'Adenomera', 'AdenomeraHylaedactylus'], 4: ['Leptodactylidae', 'Adenomera', 'AdenomeraAndre'], 5: ['Hylidae', 'Hypsiboas', 'HypsiboasCinerascens']}\n",
      "c) Metrics\n",
      "--> Hamming Score: 0.8028260365994904\n",
      "--> Hamming Loss: 0.1971739634005096\n",
      "--> Hamming Distance: 4256\n",
      "\n",
      "\n",
      "----- Simulation #: 44 -----\n",
      "a) Ideal # of Clusters: 4\n",
      "b) Majority Label in Clusters: {0: ['Hylidae', 'Hypsiboas', 'HypsiboasCinerascens'], 1: ['Leptodactylidae', 'Adenomera', 'AdenomeraHylaedactylus'], 2: ['Leptodactylidae', 'Adenomera', 'AdenomeraAndre'], 3: ['Hylidae', 'Hypsiboas', 'HypsiboasCordobae']}\n",
      "c) Metrics\n",
      "--> Hamming Score: 0.7525596479036368\n",
      "--> Hamming Loss: 0.24744035209636323\n",
      "--> Hamming Distance: 5341\n",
      "\n",
      "\n",
      "----- Simulation #: 45 -----\n",
      "a) Ideal # of Clusters: 5\n",
      "b) Majority Label in Clusters: {0: ['Leptodactylidae', 'Adenomera', 'AdenomeraHylaedactylus'], 1: ['Hylidae', 'Hypsiboas', 'HypsiboasCordobae'], 2: ['Hylidae', 'Hypsiboas', 'HypsiboasCinerascens'], 3: ['Leptodactylidae', 'Adenomera', 'AdenomeraAndre'], 4: ['Leptodactylidae', 'Adenomera', 'AdenomeraAndre']}\n",
      "c) Metrics\n",
      "--> Hamming Score: 0.8033356497567755\n",
      "--> Hamming Loss: 0.19666435024322446\n",
      "--> Hamming Distance: 4245\n",
      "\n",
      "\n",
      "----- Simulation #: 46 -----\n",
      "a) Ideal # of Clusters: 6\n",
      "b) Majority Label in Clusters: {0: ['Leptodactylidae', 'Adenomera', 'AdenomeraHylaedactylus'], 1: ['Leptodactylidae', 'Adenomera', 'AdenomeraAndre'], 2: ['Hylidae', 'Hypsiboas', 'HypsiboasCordobae'], 3: ['Leptodactylidae', 'Adenomera', 'AdenomeraHylaedactylus'], 4: ['Leptodactylidae', 'Adenomera', 'AdenomeraAndre'], 5: ['Hylidae', 'Hypsiboas', 'HypsiboasCinerascens']}\n",
      "c) Metrics\n",
      "--> Hamming Score: 0.8028260365994904\n",
      "--> Hamming Loss: 0.1971739634005096\n",
      "--> Hamming Distance: 4256\n",
      "\n",
      "\n",
      "----- Simulation #: 47 -----\n",
      "a) Ideal # of Clusters: 3\n",
      "b) Majority Label in Clusters: {0: ['Hylidae', 'Hypsiboas', 'HypsiboasCinerascens'], 1: ['Hylidae', 'Hypsiboas', 'HypsiboasCordobae'], 2: ['Leptodactylidae', 'Adenomera', 'AdenomeraHylaedactylus']}\n",
      "c) Metrics\n",
      "--> Hamming Score: 0.7179986101459347\n",
      "--> Hamming Loss: 0.2820013898540653\n",
      "--> Hamming Distance: 6087\n",
      "\n",
      "\n",
      "----- Simulation #: 48 -----\n",
      "a) Ideal # of Clusters: 2\n",
      "b) Majority Label in Clusters: {0: ['Hylidae', 'Hypsiboas', 'HypsiboasCordobae'], 1: ['Leptodactylidae', 'Adenomera', 'AdenomeraHylaedactylus']}\n",
      "c) Metrics\n",
      "--> Hamming Score: 0.7019689599258745\n",
      "--> Hamming Loss: 0.29803104007412556\n",
      "--> Hamming Distance: 6433\n",
      "\n",
      "\n",
      "----- Simulation #: 49 -----\n",
      "a) Ideal # of Clusters: 3\n",
      "b) Majority Label in Clusters: {0: ['Hylidae', 'Hypsiboas', 'HypsiboasCinerascens'], 1: ['Hylidae', 'Hypsiboas', 'HypsiboasCordobae'], 2: ['Leptodactylidae', 'Adenomera', 'AdenomeraHylaedactylus']}\n",
      "c) Metrics\n",
      "--> Hamming Score: 0.7179986101459347\n",
      "--> Hamming Loss: 0.2820013898540653\n",
      "--> Hamming Distance: 6087\n",
      "\n",
      "\n",
      "----- Simulation #: 50 -----\n",
      "a) Ideal # of Clusters: 4\n",
      "b) Majority Label in Clusters: {0: ['Hylidae', 'Hypsiboas', 'HypsiboasCinerascens'], 1: ['Leptodactylidae', 'Adenomera', 'AdenomeraHylaedactylus'], 2: ['Leptodactylidae', 'Adenomera', 'AdenomeraAndre'], 3: ['Hylidae', 'Hypsiboas', 'HypsiboasCordobae']}\n",
      "c) Metrics\n",
      "--> Hamming Score: 0.7525596479036368\n",
      "--> Hamming Loss: 0.24744035209636323\n",
      "--> Hamming Distance: 5341\n",
      "\n",
      "\n"
     ]
    }
   ],
   "source": [
    "hamming_distances = []\n",
    "for iterations in range(50):\n",
    "    print(\"----- Simulation #: \" + str(iterations+1) + \" -----\")\n",
    "    sil_scores = []\n",
    "    for k in range(2, 50):\n",
    "        km = MiniBatchKMeans(n_clusters=k).fit(X_std)\n",
    "        labels = km.labels_\n",
    "        sil_scores.append(skm.silhouette_score(X_std, labels))\n",
    "    \n",
    "    ideal_k = np.argmax(sil_scores)+2\n",
    "    print(\"a) Ideal # of Clusters: \" + str(ideal_k))\n",
    "\n",
    "    km = KMeans(n_clusters=ideal_k, random_state=1).fit(X_std)\n",
    "    labels = km.labels_\n",
    "\n",
    "    fam = find_max_clusters(y_fam, ideal_k, labels)\n",
    "    gen = find_max_clusters(y_genus, ideal_k, labels)\n",
    "    spec = find_max_clusters(y_species, ideal_k, labels)\n",
    "    dic_final = {}\n",
    "    \n",
    "    for i in range(ideal_k):\n",
    "        dic_final[i] = [fam[i], gen[i], spec[i]]\n",
    "    \n",
    "    print(\"b) Majority Label in Clusters: \" + str(dic_final))\n",
    "    prediction = [dic_final[cluster] for cluster in labels]\n",
    "\n",
    "    prediction = pd.DataFrame(data=prediction, columns=['Family', 'Genus', 'Species'])\n",
    "    hamming_distances.append(print_metrics_hamming(y, prediction))\n",
    "    print(\"\\n\")"
   ]
  },
  {
   "cell_type": "code",
   "execution_count": 63,
   "metadata": {},
   "outputs": [
    {
     "name": "stdout",
     "output_type": "stream",
     "text": [
      "Mean Hamming Distance: 5195.22\n",
      "Standard Deviation: 804.91463621927\n"
     ]
    }
   ],
   "source": [
    "print(\"Mean Hamming Distance: \" + str(np.mean(hamming_distances)))\n",
    "print(\"Standard Deviation: \" + str(np.std(hamming_distances)))"
   ]
  },
  {
   "cell_type": "markdown",
   "metadata": {},
   "source": [
    "# 3. ISLR 10.7.2\n",
    "![alt text](3.jpg \"Solutions for 10.7.2\")"
   ]
  },
  {
   "cell_type": "code",
   "execution_count": null,
   "metadata": {},
   "outputs": [],
   "source": []
  }
 ],
 "metadata": {
  "kernelspec": {
   "display_name": "Python 3",
   "language": "python",
   "name": "python3"
  },
  "language_info": {
   "codemirror_mode": {
    "name": "ipython",
    "version": 3
   },
   "file_extension": ".py",
   "mimetype": "text/x-python",
   "name": "python",
   "nbconvert_exporter": "python",
   "pygments_lexer": "ipython3",
   "version": "3.7.4"
  }
 },
 "nbformat": 4,
 "nbformat_minor": 2
}
