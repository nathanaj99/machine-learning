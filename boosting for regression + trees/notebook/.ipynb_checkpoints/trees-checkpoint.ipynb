{
 "cells": [
  {
   "cell_type": "code",
   "execution_count": 1,
   "metadata": {},
   "outputs": [],
   "source": [
    "import pandas as pd\n",
    "import numpy as np\n",
    "from sklearn.impute import SimpleImputer\n",
    "from scipy.stats import variation\n",
    "import seaborn as sns\n",
    "import matplotlib.pyplot as plt\n",
    "from sklearn import linear_model\n",
    "from sklearn.metrics import mean_squared_error\n",
    "from sklearn.feature_selection import SelectFromModel\n",
    "from sklearn import preprocessing\n",
    "from sklearn.decomposition import PCA\n",
    "from sklearn.model_selection import GridSearchCV\n",
    "from sklearn.pipeline import Pipeline\n",
    "import xgboost as xgb\n",
    "from xgboost.sklearn import XGBRegressor\n",
    "import statsmodels.api as sm\n",
    "import sklearn.metrics as skm"
   ]
  },
  {
   "cell_type": "markdown",
   "metadata": {},
   "source": [
    "# 1. LASSO and Boosting for Regression\n",
    "Using the Communities and Crime dataset\n",
    "\n",
    "## b) Data Imputation for Missing Values"
   ]
  },
  {
   "cell_type": "code",
   "execution_count": 13,
   "metadata": {},
   "outputs": [],
   "source": [
    "df = pd.read_table('../data/communities.data', sep=',', header=None)\n",
    "\n",
    "# First 5 features are not predictive\n",
    "df = df.iloc[:, 5:]\n",
    "\n",
    "df = df.replace({'?': np.nan}).astype(float)\n",
    "df = SimpleImputer().fit_transform(df)\n",
    "df = pd.DataFrame(df)"
   ]
  },
  {
   "cell_type": "markdown",
   "metadata": {},
   "source": [
    "## c) Correlation Matrix"
   ]
  },
  {
   "cell_type": "code",
   "execution_count": 31,
   "metadata": {},
   "outputs": [
    {
     "data": {
      "text/html": [
       "<div>\n",
       "<style scoped>\n",
       "    .dataframe tbody tr th:only-of-type {\n",
       "        vertical-align: middle;\n",
       "    }\n",
       "\n",
       "    .dataframe tbody tr th {\n",
       "        vertical-align: top;\n",
       "    }\n",
       "\n",
       "    .dataframe thead th {\n",
       "        text-align: right;\n",
       "    }\n",
       "</style>\n",
       "<table border=\"1\" class=\"dataframe\">\n",
       "  <thead>\n",
       "    <tr style=\"text-align: right;\">\n",
       "      <th></th>\n",
       "      <th>0</th>\n",
       "      <th>1</th>\n",
       "      <th>2</th>\n",
       "      <th>3</th>\n",
       "      <th>4</th>\n",
       "      <th>5</th>\n",
       "      <th>6</th>\n",
       "      <th>7</th>\n",
       "      <th>8</th>\n",
       "      <th>9</th>\n",
       "      <th>...</th>\n",
       "      <th>112</th>\n",
       "      <th>113</th>\n",
       "      <th>114</th>\n",
       "      <th>115</th>\n",
       "      <th>116</th>\n",
       "      <th>117</th>\n",
       "      <th>118</th>\n",
       "      <th>119</th>\n",
       "      <th>120</th>\n",
       "      <th>121</th>\n",
       "    </tr>\n",
       "  </thead>\n",
       "  <tbody>\n",
       "    <tr>\n",
       "      <td>0</td>\n",
       "      <td>1.000000</td>\n",
       "      <td>-0.046148</td>\n",
       "      <td>0.231178</td>\n",
       "      <td>-0.300845</td>\n",
       "      <td>0.181603</td>\n",
       "      <td>0.156218</td>\n",
       "      <td>0.006368</td>\n",
       "      <td>0.130344</td>\n",
       "      <td>0.075596</td>\n",
       "      <td>-0.102006</td>\n",
       "      <td>...</td>\n",
       "      <td>0.116820</td>\n",
       "      <td>0.713652</td>\n",
       "      <td>0.231897</td>\n",
       "      <td>0.270356</td>\n",
       "      <td>0.609147</td>\n",
       "      <td>0.595543</td>\n",
       "      <td>-0.061583</td>\n",
       "      <td>0.076527</td>\n",
       "      <td>0.466352</td>\n",
       "      <td>-0.035576</td>\n",
       "    </tr>\n",
       "    <tr>\n",
       "      <td>1</td>\n",
       "      <td>-0.046148</td>\n",
       "      <td>1.000000</td>\n",
       "      <td>-0.067109</td>\n",
       "      <td>-0.235907</td>\n",
       "      <td>0.201996</td>\n",
       "      <td>0.468659</td>\n",
       "      <td>0.520461</td>\n",
       "      <td>0.367338</td>\n",
       "      <td>0.295225</td>\n",
       "      <td>-0.612666</td>\n",
       "      <td>...</td>\n",
       "      <td>0.034583</td>\n",
       "      <td>-0.015078</td>\n",
       "      <td>-0.004072</td>\n",
       "      <td>-0.051506</td>\n",
       "      <td>-0.032663</td>\n",
       "      <td>-0.007584</td>\n",
       "      <td>-0.006426</td>\n",
       "      <td>-0.000280</td>\n",
       "      <td>-0.094368</td>\n",
       "      <td>-0.054562</td>\n",
       "    </tr>\n",
       "    <tr>\n",
       "      <td>2</td>\n",
       "      <td>0.231178</td>\n",
       "      <td>-0.067109</td>\n",
       "      <td>1.000000</td>\n",
       "      <td>-0.794389</td>\n",
       "      <td>-0.106738</td>\n",
       "      <td>-0.066581</td>\n",
       "      <td>0.122338</td>\n",
       "      <td>0.153475</td>\n",
       "      <td>0.134068</td>\n",
       "      <td>0.052934</td>\n",
       "      <td>...</td>\n",
       "      <td>-0.051876</td>\n",
       "      <td>0.149758</td>\n",
       "      <td>0.095053</td>\n",
       "      <td>0.147023</td>\n",
       "      <td>0.122017</td>\n",
       "      <td>0.083179</td>\n",
       "      <td>-0.082660</td>\n",
       "      <td>0.010987</td>\n",
       "      <td>0.260793</td>\n",
       "      <td>0.022237</td>\n",
       "    </tr>\n",
       "    <tr>\n",
       "      <td>3</td>\n",
       "      <td>-0.300845</td>\n",
       "      <td>-0.235907</td>\n",
       "      <td>-0.794389</td>\n",
       "      <td>1.000000</td>\n",
       "      <td>-0.270266</td>\n",
       "      <td>-0.444166</td>\n",
       "      <td>-0.194015</td>\n",
       "      <td>-0.266852</td>\n",
       "      <td>-0.183804</td>\n",
       "      <td>0.136483</td>\n",
       "      <td>...</td>\n",
       "      <td>-0.026824</td>\n",
       "      <td>-0.131389</td>\n",
       "      <td>-0.337458</td>\n",
       "      <td>-0.215636</td>\n",
       "      <td>-0.109191</td>\n",
       "      <td>-0.114860</td>\n",
       "      <td>0.052940</td>\n",
       "      <td>-0.033209</td>\n",
       "      <td>-0.276234</td>\n",
       "      <td>-0.006323</td>\n",
       "    </tr>\n",
       "    <tr>\n",
       "      <td>4</td>\n",
       "      <td>0.181603</td>\n",
       "      <td>0.201996</td>\n",
       "      <td>-0.106738</td>\n",
       "      <td>-0.270266</td>\n",
       "      <td>1.000000</td>\n",
       "      <td>0.266743</td>\n",
       "      <td>-0.025020</td>\n",
       "      <td>0.100727</td>\n",
       "      <td>0.052761</td>\n",
       "      <td>-0.272020</td>\n",
       "      <td>...</td>\n",
       "      <td>0.133093</td>\n",
       "      <td>-0.001084</td>\n",
       "      <td>0.389944</td>\n",
       "      <td>0.296921</td>\n",
       "      <td>-0.017992</td>\n",
       "      <td>0.067745</td>\n",
       "      <td>0.032389</td>\n",
       "      <td>0.065424</td>\n",
       "      <td>0.101888</td>\n",
       "      <td>-0.011619</td>\n",
       "    </tr>\n",
       "    <tr>\n",
       "      <td>...</td>\n",
       "      <td>...</td>\n",
       "      <td>...</td>\n",
       "      <td>...</td>\n",
       "      <td>...</td>\n",
       "      <td>...</td>\n",
       "      <td>...</td>\n",
       "      <td>...</td>\n",
       "      <td>...</td>\n",
       "      <td>...</td>\n",
       "      <td>...</td>\n",
       "      <td>...</td>\n",
       "      <td>...</td>\n",
       "      <td>...</td>\n",
       "      <td>...</td>\n",
       "      <td>...</td>\n",
       "      <td>...</td>\n",
       "      <td>...</td>\n",
       "      <td>...</td>\n",
       "      <td>...</td>\n",
       "      <td>...</td>\n",
       "      <td>...</td>\n",
       "    </tr>\n",
       "    <tr>\n",
       "      <td>117</td>\n",
       "      <td>0.595543</td>\n",
       "      <td>-0.007584</td>\n",
       "      <td>0.083179</td>\n",
       "      <td>-0.114860</td>\n",
       "      <td>0.067745</td>\n",
       "      <td>0.060263</td>\n",
       "      <td>-0.017679</td>\n",
       "      <td>0.012647</td>\n",
       "      <td>-0.001258</td>\n",
       "      <td>-0.026586</td>\n",
       "      <td>...</td>\n",
       "      <td>0.115837</td>\n",
       "      <td>0.399946</td>\n",
       "      <td>0.131075</td>\n",
       "      <td>0.171587</td>\n",
       "      <td>0.802372</td>\n",
       "      <td>1.000000</td>\n",
       "      <td>-0.089736</td>\n",
       "      <td>0.023349</td>\n",
       "      <td>-0.062677</td>\n",
       "      <td>0.259342</td>\n",
       "    </tr>\n",
       "    <tr>\n",
       "      <td>118</td>\n",
       "      <td>-0.061583</td>\n",
       "      <td>-0.006426</td>\n",
       "      <td>-0.082660</td>\n",
       "      <td>0.052940</td>\n",
       "      <td>0.032389</td>\n",
       "      <td>0.024366</td>\n",
       "      <td>0.000652</td>\n",
       "      <td>0.013327</td>\n",
       "      <td>0.013687</td>\n",
       "      <td>0.005601</td>\n",
       "      <td>...</td>\n",
       "      <td>0.019668</td>\n",
       "      <td>-0.067678</td>\n",
       "      <td>0.055734</td>\n",
       "      <td>0.023457</td>\n",
       "      <td>-0.115349</td>\n",
       "      <td>-0.089736</td>\n",
       "      <td>1.000000</td>\n",
       "      <td>0.007179</td>\n",
       "      <td>0.021153</td>\n",
       "      <td>-0.237240</td>\n",
       "    </tr>\n",
       "    <tr>\n",
       "      <td>119</td>\n",
       "      <td>0.076527</td>\n",
       "      <td>-0.000280</td>\n",
       "      <td>0.010987</td>\n",
       "      <td>-0.033209</td>\n",
       "      <td>0.065424</td>\n",
       "      <td>0.025956</td>\n",
       "      <td>0.011271</td>\n",
       "      <td>0.005145</td>\n",
       "      <td>-0.001001</td>\n",
       "      <td>-0.042756</td>\n",
       "      <td>...</td>\n",
       "      <td>0.110277</td>\n",
       "      <td>0.109830</td>\n",
       "      <td>-0.076634</td>\n",
       "      <td>-0.082946</td>\n",
       "      <td>0.078436</td>\n",
       "      <td>0.023349</td>\n",
       "      <td>0.007179</td>\n",
       "      <td>1.000000</td>\n",
       "      <td>-0.015712</td>\n",
       "      <td>-0.021100</td>\n",
       "    </tr>\n",
       "    <tr>\n",
       "      <td>120</td>\n",
       "      <td>0.466352</td>\n",
       "      <td>-0.094368</td>\n",
       "      <td>0.260793</td>\n",
       "      <td>-0.276234</td>\n",
       "      <td>0.101888</td>\n",
       "      <td>0.125353</td>\n",
       "      <td>0.001301</td>\n",
       "      <td>0.117290</td>\n",
       "      <td>0.083180</td>\n",
       "      <td>-0.010168</td>\n",
       "      <td>...</td>\n",
       "      <td>-0.028096</td>\n",
       "      <td>0.299632</td>\n",
       "      <td>0.228084</td>\n",
       "      <td>0.206644</td>\n",
       "      <td>-0.052426</td>\n",
       "      <td>-0.062677</td>\n",
       "      <td>0.021153</td>\n",
       "      <td>-0.015712</td>\n",
       "      <td>1.000000</td>\n",
       "      <td>0.018649</td>\n",
       "    </tr>\n",
       "    <tr>\n",
       "      <td>121</td>\n",
       "      <td>-0.035576</td>\n",
       "      <td>-0.054562</td>\n",
       "      <td>0.022237</td>\n",
       "      <td>-0.006323</td>\n",
       "      <td>-0.011619</td>\n",
       "      <td>0.002234</td>\n",
       "      <td>-0.076589</td>\n",
       "      <td>-0.068575</td>\n",
       "      <td>-0.049876</td>\n",
       "      <td>0.076586</td>\n",
       "      <td>...</td>\n",
       "      <td>0.044429</td>\n",
       "      <td>-0.113166</td>\n",
       "      <td>0.067199</td>\n",
       "      <td>0.080024</td>\n",
       "      <td>0.245532</td>\n",
       "      <td>0.259342</td>\n",
       "      <td>-0.237240</td>\n",
       "      <td>-0.021100</td>\n",
       "      <td>0.018649</td>\n",
       "      <td>1.000000</td>\n",
       "    </tr>\n",
       "  </tbody>\n",
       "</table>\n",
       "<p>122 rows × 122 columns</p>\n",
       "</div>"
      ],
      "text/plain": [
       "          0         1         2         3         4         5         6    \\\n",
       "0    1.000000 -0.046148  0.231178 -0.300845  0.181603  0.156218  0.006368   \n",
       "1   -0.046148  1.000000 -0.067109 -0.235907  0.201996  0.468659  0.520461   \n",
       "2    0.231178 -0.067109  1.000000 -0.794389 -0.106738 -0.066581  0.122338   \n",
       "3   -0.300845 -0.235907 -0.794389  1.000000 -0.270266 -0.444166 -0.194015   \n",
       "4    0.181603  0.201996 -0.106738 -0.270266  1.000000  0.266743 -0.025020   \n",
       "..        ...       ...       ...       ...       ...       ...       ...   \n",
       "117  0.595543 -0.007584  0.083179 -0.114860  0.067745  0.060263 -0.017679   \n",
       "118 -0.061583 -0.006426 -0.082660  0.052940  0.032389  0.024366  0.000652   \n",
       "119  0.076527 -0.000280  0.010987 -0.033209  0.065424  0.025956  0.011271   \n",
       "120  0.466352 -0.094368  0.260793 -0.276234  0.101888  0.125353  0.001301   \n",
       "121 -0.035576 -0.054562  0.022237 -0.006323 -0.011619  0.002234 -0.076589   \n",
       "\n",
       "          7         8         9    ...       112       113       114  \\\n",
       "0    0.130344  0.075596 -0.102006  ...  0.116820  0.713652  0.231897   \n",
       "1    0.367338  0.295225 -0.612666  ...  0.034583 -0.015078 -0.004072   \n",
       "2    0.153475  0.134068  0.052934  ... -0.051876  0.149758  0.095053   \n",
       "3   -0.266852 -0.183804  0.136483  ... -0.026824 -0.131389 -0.337458   \n",
       "4    0.100727  0.052761 -0.272020  ...  0.133093 -0.001084  0.389944   \n",
       "..        ...       ...       ...  ...       ...       ...       ...   \n",
       "117  0.012647 -0.001258 -0.026586  ...  0.115837  0.399946  0.131075   \n",
       "118  0.013327  0.013687  0.005601  ...  0.019668 -0.067678  0.055734   \n",
       "119  0.005145 -0.001001 -0.042756  ...  0.110277  0.109830 -0.076634   \n",
       "120  0.117290  0.083180 -0.010168  ... -0.028096  0.299632  0.228084   \n",
       "121 -0.068575 -0.049876  0.076586  ...  0.044429 -0.113166  0.067199   \n",
       "\n",
       "          115       116       117       118       119       120       121  \n",
       "0    0.270356  0.609147  0.595543 -0.061583  0.076527  0.466352 -0.035576  \n",
       "1   -0.051506 -0.032663 -0.007584 -0.006426 -0.000280 -0.094368 -0.054562  \n",
       "2    0.147023  0.122017  0.083179 -0.082660  0.010987  0.260793  0.022237  \n",
       "3   -0.215636 -0.109191 -0.114860  0.052940 -0.033209 -0.276234 -0.006323  \n",
       "4    0.296921 -0.017992  0.067745  0.032389  0.065424  0.101888 -0.011619  \n",
       "..        ...       ...       ...       ...       ...       ...       ...  \n",
       "117  0.171587  0.802372  1.000000 -0.089736  0.023349 -0.062677  0.259342  \n",
       "118  0.023457 -0.115349 -0.089736  1.000000  0.007179  0.021153 -0.237240  \n",
       "119 -0.082946  0.078436  0.023349  0.007179  1.000000 -0.015712 -0.021100  \n",
       "120  0.206644 -0.052426 -0.062677  0.021153 -0.015712  1.000000  0.018649  \n",
       "121  0.080024  0.245532  0.259342 -0.237240 -0.021100  0.018649  1.000000  \n",
       "\n",
       "[122 rows x 122 columns]"
      ]
     },
     "execution_count": 31,
     "metadata": {},
     "output_type": "execute_result"
    }
   ],
   "source": [
    "df.iloc[:, :-1].corr()"
   ]
  },
  {
   "cell_type": "markdown",
   "metadata": {},
   "source": [
    "## d) Coefficient of Variation (CV)"
   ]
  },
  {
   "cell_type": "code",
   "execution_count": 32,
   "metadata": {},
   "outputs": [
    {
     "data": {
      "text/html": [
       "<div>\n",
       "<style scoped>\n",
       "    .dataframe tbody tr th:only-of-type {\n",
       "        vertical-align: middle;\n",
       "    }\n",
       "\n",
       "    .dataframe tbody tr th {\n",
       "        vertical-align: top;\n",
       "    }\n",
       "\n",
       "    .dataframe thead th {\n",
       "        text-align: right;\n",
       "    }\n",
       "</style>\n",
       "<table border=\"1\" class=\"dataframe\">\n",
       "  <thead>\n",
       "    <tr style=\"text-align: right;\">\n",
       "      <th></th>\n",
       "      <th>0</th>\n",
       "      <th>1</th>\n",
       "      <th>2</th>\n",
       "      <th>3</th>\n",
       "      <th>4</th>\n",
       "      <th>5</th>\n",
       "      <th>6</th>\n",
       "      <th>7</th>\n",
       "      <th>8</th>\n",
       "      <th>9</th>\n",
       "      <th>...</th>\n",
       "      <th>112</th>\n",
       "      <th>113</th>\n",
       "      <th>114</th>\n",
       "      <th>115</th>\n",
       "      <th>116</th>\n",
       "      <th>117</th>\n",
       "      <th>118</th>\n",
       "      <th>119</th>\n",
       "      <th>120</th>\n",
       "      <th>121</th>\n",
       "    </tr>\n",
       "  </thead>\n",
       "  <tbody>\n",
       "    <tr>\n",
       "      <td>0</td>\n",
       "      <td>2.20295</td>\n",
       "      <td>0.35321</td>\n",
       "      <td>1.410567</td>\n",
       "      <td>0.3237</td>\n",
       "      <td>1.358821</td>\n",
       "      <td>1.613873</td>\n",
       "      <td>0.365748</td>\n",
       "      <td>0.29062</td>\n",
       "      <td>0.495036</td>\n",
       "      <td>0.423336</td>\n",
       "      <td>...</td>\n",
       "      <td>0.296109</td>\n",
       "      <td>1.677611</td>\n",
       "      <td>0.871968</td>\n",
       "      <td>1.416317</td>\n",
       "      <td>0.525869</td>\n",
       "      <td>0.729924</td>\n",
       "      <td>0.122301</td>\n",
       "      <td>0.367948</td>\n",
       "      <td>2.554625</td>\n",
       "      <td>0.337196</td>\n",
       "    </tr>\n",
       "  </tbody>\n",
       "</table>\n",
       "<p>1 rows × 122 columns</p>\n",
       "</div>"
      ],
      "text/plain": [
       "       0        1         2       3         4         5         6        7    \\\n",
       "0  2.20295  0.35321  1.410567  0.3237  1.358821  1.613873  0.365748  0.29062   \n",
       "\n",
       "        8         9    ...       112       113       114       115       116  \\\n",
       "0  0.495036  0.423336  ...  0.296109  1.677611  0.871968  1.416317  0.525869   \n",
       "\n",
       "        117       118       119       120       121  \n",
       "0  0.729924  0.122301  0.367948  2.554625  0.337196  \n",
       "\n",
       "[1 rows x 122 columns]"
      ]
     },
     "execution_count": 32,
     "metadata": {},
     "output_type": "execute_result"
    }
   ],
   "source": [
    "cv = df.iloc[:, :-1].apply(lambda x: np.std(x) / np.mean(x))\n",
    "cv = pd.DataFrame(cv).T\n",
    "cv"
   ]
  },
  {
   "cell_type": "markdown",
   "metadata": {},
   "source": [
    "## e) Boxplots of 11 Features with Highest CV\n",
    "**Analysis**: The features with the highest variation skew toward 0 (because the middle of the box plots represent the middle quartiles. Perhaps this means that these features are not important in determining the output."
   ]
  },
  {
   "cell_type": "code",
   "execution_count": 30,
   "metadata": {},
   "outputs": [
    {
     "data": {
      "image/png": "[encoded data removed]",
      "text/plain": [
       "<Figure size 432x288 with 1 Axes>"
      ]
     },
     "metadata": {
      "needs_background": "light"
     },
     "output_type": "display_data"
    },
    {
     "data": {
      "image/png": "[encoded data removed]",
      "text/plain": [
       "<Figure size 432x288 with 1 Axes>"
      ]
     },
     "metadata": {
      "needs_background": "light"
     },
     "output_type": "display_data"
    },
    {
     "data": {
      "image/png": "[encoded data removed]",
      "text/plain": [
       "<Figure size 432x288 with 1 Axes>"
      ]
     },
     "metadata": {
      "needs_background": "light"
     },
     "output_type": "display_data"
    },
    {
     "data": {
      "image/png": "[encoded data removed]",
      "text/plain": [
       "<Figure size 432x288 with 1 Axes>"
      ]
     },
     "metadata": {
      "needs_background": "light"
     },
     "output_type": "display_data"
    },
    {
     "data": {
      "image/png": "[encoded data removed]",
      "text/plain": [
       "<Figure size 432x288 with 1 Axes>"
      ]
     },
     "metadata": {
      "needs_background": "light"
     },
     "output_type": "display_data"
    },
    {
     "data": {
      "image/png": "[encoded data removed]",
      "text/plain": [
       "<Figure size 432x288 with 1 Axes>"
      ]
     },
     "metadata": {
      "needs_background": "light"
     },
     "output_type": "display_data"
    },
    {
     "data": {
      "image/png": "[encoded data removed]",
      "text/plain": [
       "<Figure size 432x288 with 1 Axes>"
      ]
     },
     "metadata": {
      "needs_background": "light"
     },
     "output_type": "display_data"
    },
    {
     "data": {
      "image/png": "[encoded data removed]",
      "text/plain": [
       "<Figure size 432x288 with 1 Axes>"
      ]
     },
     "metadata": {
      "needs_background": "light"
     },
     "output_type": "display_data"
    },
    {
     "data": {
      "image/png": "[encoded data removed]",
      "text/plain": [
       "<Figure size 432x288 with 1 Axes>"
      ]
     },
     "metadata": {
      "needs_background": "light"
     },
     "output_type": "display_data"
    },
    {
     "data": {
      "image/png": "[encoded data removed]",
      "text/plain": [
       "<Figure size 432x288 with 1 Axes>"
      ]
     },
     "metadata": {
      "needs_background": "light"
     },
     "output_type": "display_data"
    },
    {
     "data": {
      "image/png": "[encoded data removed]",
      "text/plain": [
       "<Figure size 432x288 with 1 Axes>"
      ]
     },
     "metadata": {
      "needs_background": "light"
     },
     "output_type": "display_data"
    }
   ],
   "source": [
    "array = np.array(cv.iloc[0, :])\n",
    "highest_cv = array.argsort()[-11:][::-1]\n",
    "for i in highest_cv:\n",
    "    plt.figure()\n",
    "    sns.boxplot(df.iloc[:, i])\n"
   ]
  },
  {
   "cell_type": "markdown",
   "metadata": {},
   "source": [
    "## f) Vanilla Linear Model\n",
    "\n",
    "**Notice the highly negative R^2 from the model**. This means that the model does not fit the data at all. Upon further investigation, it turns out that there is a variable LemasSwFTPerPop that completely disrupts the model.\n",
    "\n",
    "This probably means it's a good idea to do penalized regression (as has been done in g and h)"
   ]
  },
  {
   "cell_type": "code",
   "execution_count": 14,
   "metadata": {},
   "outputs": [],
   "source": [
    "# Splitting train and test\n",
    "train_set = df.loc[:1494]\n",
    "test_set = df.loc[1495:]\n",
    "\n",
    "train_X = train_set.iloc[:, :-1]\n",
    "train_y = train_set.iloc[:, -1]\n",
    "test_X = test_set.iloc[:, :-1]\n",
    "test_y = test_set.iloc[:, -1]"
   ]
  },
  {
   "cell_type": "code",
   "execution_count": 15,
   "metadata": {},
   "outputs": [
    {
     "name": "stdout",
     "output_type": "stream",
     "text": [
      "R^2 score: -15.606466950754836\n",
      "MSE: 0.7897255274336176\n"
     ]
    }
   ],
   "source": [
    "vanilla = linear_model.LinearRegression().fit(train_X, train_y)\n",
    "prediction = vanilla.predict(test_X)\n",
    "print('R^2 score: ' + str(vanilla.score(test_X, test_y)))\n",
    "print('MSE: ' + str(mean_squared_error(test_y, prediction)))"
   ]
  },
  {
   "cell_type": "markdown",
   "metadata": {},
   "source": [
    "## g) Ridge Regression Model"
   ]
  },
  {
   "cell_type": "code",
   "execution_count": 50,
   "metadata": {},
   "outputs": [
    {
     "name": "stdout",
     "output_type": "stream",
     "text": [
      "R^2 score: 0.6301602314652566\n",
      "MSE: 0.017587841359522374\n"
     ]
    }
   ],
   "source": [
    "alpha = np.logspace(-4, 4, 50)\n",
    "ridge = linear_model.RidgeCV(alphas=alpha, cv=5).fit(train_X, train_y)\n",
    "\n",
    "prediction = ridge.predict(test_X)\n",
    "print('R^2 score: ' + str(ridge.score(test_X, test_y)))\n",
    "print('MSE: ' + str(mean_squared_error(test_y, prediction)))"
   ]
  },
  {
   "cell_type": "markdown",
   "metadata": {},
   "source": [
    "## h) Lasso Model\n",
    "**Comparison of Unstandardized and Standardized features**: It seems like both of them have very similar R^2 scores and MSE. The unstandardized features do slighly better, though it's almost negligible, and perhaps could be attributed to the specific search space. If the possible list of alphas were expanded, the results could have been different.\n",
    "\n",
    "### i. Unstandardized features\n",
    "**Note on Important Variables List**: This list corresponds to the column indices in the dataframe"
   ]
  },
  {
   "cell_type": "code",
   "execution_count": 53,
   "metadata": {},
   "outputs": [
    {
     "name": "stdout",
     "output_type": "stream",
     "text": [
      "R^2 score: 0.6259053074097357\n",
      "MSE: 0.017790185551932514\n"
     ]
    }
   ],
   "source": [
    "lasso = linear_model.LassoCV(alphas=alpha, cv=5).fit(train_X, train_y)\n",
    "\n",
    "prediction = lasso.predict(test_X)\n",
    "print('R^2 score: ' + str(lasso.score(test_X, test_y)))\n",
    "#print('R^2 score: ' + str(skm.r2_score(test_y, prediction)))\n",
    "print('MSE: ' + str(mean_squared_error(test_y, prediction)))"
   ]
  },
  {
   "cell_type": "code",
   "execution_count": 57,
   "metadata": {},
   "outputs": [
    {
     "name": "stdout",
     "output_type": "stream",
     "text": [
      "Important Variables: [2, 4, 6, 7, 9, 11, 13, 14, 15, 16, 17, 18, 21, 22, 23, 24, 25, 26, 28, 29, 31, 33, 34, 36, 38, 39, 40, 44, 45, 46, 48, 49, 50, 51, 55, 59, 61, 63, 64, 67, 68, 69, 70, 71, 72, 74, 75, 76, 77, 78, 79, 82, 85, 86, 87, 88, 89, 90, 91, 94, 99, 100, 102, 104, 105, 106, 107, 108, 110, 111, 112, 113, 114, 115, 116, 118, 119, 120]\n"
     ]
    }
   ],
   "source": [
    "# Feature Selection\n",
    "important_features = SelectFromModel(estimator=linear_model.LassoCV(alphas=alpha, cv=5)).fit(train_X, train_y)\n",
    "variables = important_features.get_support()\n",
    "variables = [i for i, j in enumerate(variables) if j == True]\n",
    "print('Important Variables: ' + str(variables))"
   ]
  },
  {
   "cell_type": "markdown",
   "metadata": {},
   "source": [
    "### ii. Standardized Features"
   ]
  },
  {
   "cell_type": "code",
   "execution_count": 51,
   "metadata": {},
   "outputs": [
    {
     "name": "stdout",
     "output_type": "stream",
     "text": [
      "R^2 score: 0.6234954153131211\n",
      "MSE: 0.01790478869495509\n"
     ]
    }
   ],
   "source": [
    "# We only standardize the predictors (X)\n",
    "scaler = preprocessing.StandardScaler()\n",
    "train_X_std = scaler.fit_transform(train_X)\n",
    "test_X_std = scaler.fit_transform(test_X)\n",
    "\n",
    "# lasso with standardized features did not converge, so I raised the tolerance\n",
    "lasso = linear_model.LassoCV(alphas=alpha, cv=5, tol=0.1).fit(train_X_std, train_y)\n",
    "\n",
    "prediction = lasso.predict(test_X_std)\n",
    "print('R^2 score: ' + str(lasso.score(test_X_std, test_y)))\n",
    "print('MSE: ' + str(mean_squared_error(test_y, prediction)))"
   ]
  },
  {
   "cell_type": "code",
   "execution_count": 67,
   "metadata": {},
   "outputs": [
    {
     "name": "stdout",
     "output_type": "stream",
     "text": [
      "Important Variables: [0, 2, 4, 5, 6, 7, 8, 9, 10, 11, 12, 13, 14, 15, 16, 18, 19, 20, 21, 22, 23, 24, 25, 26, 28, 29, 30, 31, 33, 34, 35, 36, 38, 39, 40, 42, 43, 44, 45, 46, 47, 48, 49, 50, 51, 54, 55, 56, 58, 59, 60, 61, 62, 63, 64, 65, 66, 67, 68, 69, 70, 71, 72, 73, 74, 75, 76, 77, 78, 79, 82, 83, 84, 85, 86, 87, 88, 89, 90, 94, 97, 99, 100, 102, 103, 104, 105, 106, 108, 110, 111, 112, 113, 114, 115, 116, 117, 118, 119, 121]\n"
     ]
    }
   ],
   "source": [
    "# Feature Selection\n",
    "important_features = SelectFromModel(estimator=linear_model.LassoCV(alphas=alpha, cv=5, tol=0.1)).fit(train_X_std, train_y)\n",
    "variables = important_features.get_support()\n",
    "variables = [i for i, j in enumerate(variables) if j == True]\n",
    "print('Important Variables: ' + str(variables))"
   ]
  },
  {
   "cell_type": "markdown",
   "metadata": {},
   "source": [
    "## i) PCR\n",
    "\n",
    "Chosen M: 96"
   ]
  },
  {
   "cell_type": "code",
   "execution_count": 27,
   "metadata": {},
   "outputs": [
    {
     "name": "stdout",
     "output_type": "stream",
     "text": [
      "M # of components: 96\n",
      "R^2 score: 0.6114024460405183\n",
      "MSE: 0.01847987348363199\n"
     ]
    }
   ],
   "source": [
    "M = [int(i) for i in np.linspace(1, 122, 122)]\n",
    "parameters = {'pca__n_components':M}\n",
    "\n",
    "pca = PCA()\n",
    "lr = linear_model.LinearRegression()\n",
    "\n",
    "pipe = Pipeline(steps=[('pca', pca), ('lr', lr)])\n",
    "\n",
    "pcr_cv = GridSearchCV(estimator=pipe, param_grid=parameters, n_jobs=-1, cv=5)\n",
    "pcr_cv.fit(train_X, train_y)\n",
    "print('M # of components: ' + str(pcr_cv.best_params_['pca__n_components']))\n",
    "print('R^2 score: ' + str(pcr_cv.score(test_X, test_y)))\n",
    "prediction = pcr_cv.predict(test_X)\n",
    "print('MSE: ' + str(mean_squared_error(test_y, prediction)))"
   ]
  },
  {
   "cell_type": "markdown",
   "metadata": {},
   "source": [
    "## j) XGBoost to Fit a Boosting Tree"
   ]
  },
  {
   "cell_type": "code",
   "execution_count": 16,
   "metadata": {},
   "outputs": [
    {
     "name": "stdout",
     "output_type": "stream",
     "text": [
      "Chosen alpha: 3.727593720314938\n",
      "R^2 score: 0.621526025640849\n",
      "MSE: 0.017998443612781346\n"
     ]
    }
   ],
   "source": [
    "tree_regressor = XGBRegressor(reg_lambda=0)\n",
    "parameters = {'reg_alpha': np.logspace(-4, 4, 50)}\n",
    "\n",
    "xgb_cv = GridSearchCV(estimator=tree_regressor, param_grid=parameters, cv=5, n_jobs=-1)\n",
    "\n",
    "xgb_cv.fit(train_X, train_y)\n",
    "print('Chosen alpha: ' + str(xgb_cv.best_params_['reg_alpha']))\n",
    "print('R^2 score: ' + str(xgb_cv.score(test_X, test_y)))\n",
    "prediction = xgb_cv.predict(test_X)\n",
    "print('MSE: ' + str(mean_squared_error(test_y, prediction)))"
   ]
  },
  {
   "cell_type": "markdown",
   "metadata": {},
   "source": [
    "# 2. Tree-Based Methods\n",
    "\n",
    "Using the APS Failure Data"
   ]
  },
  {
   "cell_type": "code",
   "execution_count": 23,
   "metadata": {},
   "outputs": [
    {
     "name": "stderr",
     "output_type": "stream",
     "text": [
      "Using TensorFlow backend.\n"
     ]
    }
   ],
   "source": [
    "from sklearn.ensemble import RandomForestClassifier\n",
    "from imblearn.ensemble import BalancedRandomForestClassifier\n",
    "import random"
   ]
  },
  {
   "cell_type": "code",
   "execution_count": 56,
   "metadata": {},
   "outputs": [],
   "source": [
    "test_set = pd.read_csv('../data/aps_failure_test_set.csv')\n",
    "train_set = pd.read_csv('../data/aps_failure_training_set.csv')"
   ]
  },
  {
   "cell_type": "markdown",
   "metadata": {},
   "source": [
    "## b) Data Preparation\n",
    "\n",
    "### i. Techniques for Data Imputation\n",
    "- Using the mean and median from the known values\n",
    "- Using mode (most frequent value)\n",
    "- Using kNN based on other features\n",
    "- Using Hot-deck imputation: randomly choosing missing value from a set of similar variables\n",
    "- Using Cold-deck imputation: systematically choosing missing value from a set of similar variables\n",
    "- Using Interpolation and extrapolation: An estimated value from other observations of the same individual\n",
    "- Using Stochastic regression imputation: predict missing values by regressing it from other related variables\n",
    "\n",
    "**I will be doing mean imputation**"
   ]
  },
  {
   "cell_type": "code",
   "execution_count": 14,
   "metadata": {},
   "outputs": [],
   "source": [
    "buffer = pd.concat([test_set, train_set], ignore_index=True)\n",
    "buffer = buffer.replace({'na': np.nan})\n",
    "buffer.iloc[:, 1:] = SimpleImputer().fit_transform(buffer.iloc[:, 1:])\n",
    "buffer = pd.DataFrame(buffer)"
   ]
  },
  {
   "cell_type": "code",
   "execution_count": 15,
   "metadata": {},
   "outputs": [],
   "source": [
    "# split back to train and test sets\n",
    "test_set = buffer[:16000]\n",
    "train_set = buffer[16000:].reset_index().drop(columns=['index'])"
   ]
  },
  {
   "cell_type": "markdown",
   "metadata": {},
   "source": [
    "## ASIDE: Balanced Subsampling function\n",
    "The following is a balanced subsampling method I created to sample the same ratio of majority to minority class. This will be used in the WEKA Wrapper section because passing in the entire dataset takes too much time"
   ]
  },
  {
   "cell_type": "code",
   "execution_count": 40,
   "metadata": {},
   "outputs": [
    {
     "name": "stderr",
     "output_type": "stream",
     "text": [
      "/opt/anaconda3/lib/python3.7/site-packages/ipykernel_launcher.py:8: FutureWarning: \n",
      ".ix is deprecated. Please use\n",
      ".loc for label based indexing or\n",
      ".iloc for positional indexing\n",
      "\n",
      "See the documentation here:\n",
      "http://pandas.pydata.org/pandas-docs/stable/user_guide/indexing.html#ix-indexer-is-deprecated\n",
      "  \n",
      "/opt/anaconda3/lib/python3.7/site-packages/ipykernel_launcher.py:9: FutureWarning: \n",
      ".ix is deprecated. Please use\n",
      ".loc for label based indexing or\n",
      ".iloc for positional indexing\n",
      "\n",
      "See the documentation here:\n",
      "http://pandas.pydata.org/pandas-docs/stable/user_guide/indexing.html#ix-indexer-is-deprecated\n",
      "  if __name__ == '__main__':\n"
     ]
    }
   ],
   "source": [
    "def subsample_balanced(pct, train_set):\n",
    "    neg_class = train_set[train_set['class'] == 'neg'].reset_index().drop(columns=['index'])\n",
    "    pos_class = train_set[train_set['class'] == 'pos'].reset_index().drop(columns=['index'])\n",
    "\n",
    "    neg_indices = random.sample(range(1, len(neg_class)), int(np.floor(float(pct) * len(neg_class))))\n",
    "    pos_indices = random.sample(range(1, len(pos_class)), int(np.floor(float(pct) * len(pos_class))))\n",
    "\n",
    "    neg_class = neg_class.ix[neg_indices]\n",
    "    pos_class = pos_class.ix[pos_indices]\n",
    "\n",
    "    sub_train = pd.concat([neg_class, pos_class])\n",
    "    \n",
    "    return sub_train\n",
    "\n",
    "\"\"\" PREPROCESSING CODE FOR WEKA\n",
    "sub_train = subsample_balanced(0.15, train_set)\n",
    "sub_test = subsample_balanced(0.15, test_set)\n",
    "\n",
    "sub_train.to_csv('../data/weka_subsample_train.csv', index=False)\n",
    "sub_test.to_csv('../data/weka_subsample_test.csv', index=False) \n",
    "\n",
    "test_set.to_csv('../data/weka_test.csv', index=False)\n",
    "train_set.to_csv('../data/weka_train.csv', index=False)\n",
    "\n",
    "test_set = pd.read_csv('../data/weka_test.csv')\n",
    "y = test_set['class']\n",
    "test_set = test_set.drop(columns=['class'])\n",
    "test_set['class'] = y\n",
    "test_set.to_csv('../data/weka_test_reversed.csv', index=False)\"\"\""
   ]
  },
  {
   "cell_type": "markdown",
   "metadata": {},
   "source": [
    "### ii. Coefficient of Variation (CV)"
   ]
  },
  {
   "cell_type": "code",
   "execution_count": 43,
   "metadata": {},
   "outputs": [
    {
     "data": {
      "text/html": [
       "<div>\n",
       "<style scoped>\n",
       "    .dataframe tbody tr th:only-of-type {\n",
       "        vertical-align: middle;\n",
       "    }\n",
       "\n",
       "    .dataframe tbody tr th {\n",
       "        vertical-align: top;\n",
       "    }\n",
       "\n",
       "    .dataframe thead th {\n",
       "        text-align: right;\n",
       "    }\n",
       "</style>\n",
       "<table border=\"1\" class=\"dataframe\">\n",
       "  <thead>\n",
       "    <tr style=\"text-align: right;\">\n",
       "      <th></th>\n",
       "      <th>aa_000</th>\n",
       "      <th>ab_000</th>\n",
       "      <th>ac_000</th>\n",
       "      <th>ad_000</th>\n",
       "      <th>ae_000</th>\n",
       "      <th>af_000</th>\n",
       "      <th>ag_000</th>\n",
       "      <th>ag_001</th>\n",
       "      <th>ag_002</th>\n",
       "      <th>ag_003</th>\n",
       "      <th>...</th>\n",
       "      <th>ee_002</th>\n",
       "      <th>ee_003</th>\n",
       "      <th>ee_004</th>\n",
       "      <th>ee_005</th>\n",
       "      <th>ee_006</th>\n",
       "      <th>ee_007</th>\n",
       "      <th>ee_008</th>\n",
       "      <th>ee_009</th>\n",
       "      <th>ef_000</th>\n",
       "      <th>eg_000</th>\n",
       "    </tr>\n",
       "  </thead>\n",
       "  <tbody>\n",
       "    <tr>\n",
       "      <td>0</td>\n",
       "      <td>4.328579</td>\n",
       "      <td>2.178258</td>\n",
       "      <td>2.167639</td>\n",
       "      <td>206.72014</td>\n",
       "      <td>22.293524</td>\n",
       "      <td>18.208896</td>\n",
       "      <td>91.460052</td>\n",
       "      <td>42.084066</td>\n",
       "      <td>17.625793</td>\n",
       "      <td>8.753242</td>\n",
       "      <td>...</td>\n",
       "      <td>2.603596</td>\n",
       "      <td>2.573275</td>\n",
       "      <td>2.62539</td>\n",
       "      <td>2.858242</td>\n",
       "      <td>3.230988</td>\n",
       "      <td>4.885066</td>\n",
       "      <td>3.335015</td>\n",
       "      <td>5.753895</td>\n",
       "      <td>47.919228</td>\n",
       "      <td>45.65065</td>\n",
       "    </tr>\n",
       "  </tbody>\n",
       "</table>\n",
       "<p>1 rows × 170 columns</p>\n",
       "</div>"
      ],
      "text/plain": [
       "     aa_000    ab_000    ac_000     ad_000     ae_000     af_000     ag_000  \\\n",
       "0  4.328579  2.178258  2.167639  206.72014  22.293524  18.208896  91.460052   \n",
       "\n",
       "      ag_001     ag_002    ag_003  ...    ee_002    ee_003   ee_004    ee_005  \\\n",
       "0  42.084066  17.625793  8.753242  ...  2.603596  2.573275  2.62539  2.858242   \n",
       "\n",
       "     ee_006    ee_007    ee_008    ee_009     ef_000    eg_000  \n",
       "0  3.230988  4.885066  3.335015  5.753895  47.919228  45.65065  \n",
       "\n",
       "[1 rows x 170 columns]"
      ]
     },
     "execution_count": 43,
     "metadata": {},
     "output_type": "execute_result"
    }
   ],
   "source": [
    "cv = buffer.iloc[:, 1:].apply(lambda x: np.std(x) / np.mean(x))\n",
    "cv = pd.DataFrame(cv).T\n",
    "cv"
   ]
  },
  {
   "cell_type": "markdown",
   "metadata": {},
   "source": [
    "### iii. Correlation Matrix"
   ]
  },
  {
   "cell_type": "code",
   "execution_count": 44,
   "metadata": {},
   "outputs": [
    {
     "data": {
      "text/html": [
       "<div>\n",
       "<style scoped>\n",
       "    .dataframe tbody tr th:only-of-type {\n",
       "        vertical-align: middle;\n",
       "    }\n",
       "\n",
       "    .dataframe tbody tr th {\n",
       "        vertical-align: top;\n",
       "    }\n",
       "\n",
       "    .dataframe thead th {\n",
       "        text-align: right;\n",
       "    }\n",
       "</style>\n",
       "<table border=\"1\" class=\"dataframe\">\n",
       "  <thead>\n",
       "    <tr style=\"text-align: right;\">\n",
       "      <th></th>\n",
       "      <th>aa_000</th>\n",
       "      <th>ab_000</th>\n",
       "      <th>ac_000</th>\n",
       "      <th>ad_000</th>\n",
       "      <th>ae_000</th>\n",
       "      <th>af_000</th>\n",
       "      <th>ag_000</th>\n",
       "      <th>ag_001</th>\n",
       "      <th>ag_002</th>\n",
       "      <th>ag_003</th>\n",
       "      <th>...</th>\n",
       "      <th>ee_002</th>\n",
       "      <th>ee_003</th>\n",
       "      <th>ee_004</th>\n",
       "      <th>ee_005</th>\n",
       "      <th>ee_006</th>\n",
       "      <th>ee_007</th>\n",
       "      <th>ee_008</th>\n",
       "      <th>ee_009</th>\n",
       "      <th>ef_000</th>\n",
       "      <th>eg_000</th>\n",
       "    </tr>\n",
       "  </thead>\n",
       "  <tbody>\n",
       "    <tr>\n",
       "      <td>aa_000</td>\n",
       "      <td>1.000000</td>\n",
       "      <td>0.019725</td>\n",
       "      <td>-0.011658</td>\n",
       "      <td>-0.000541</td>\n",
       "      <td>0.025795</td>\n",
       "      <td>0.035994</td>\n",
       "      <td>0.011682</td>\n",
       "      <td>0.076378</td>\n",
       "      <td>0.195161</td>\n",
       "      <td>0.307443</td>\n",
       "      <td>...</td>\n",
       "      <td>0.414125</td>\n",
       "      <td>0.419912</td>\n",
       "      <td>0.409659</td>\n",
       "      <td>0.419780</td>\n",
       "      <td>0.425679</td>\n",
       "      <td>0.356969</td>\n",
       "      <td>0.259668</td>\n",
       "      <td>0.133764</td>\n",
       "      <td>0.006688</td>\n",
       "      <td>0.010330</td>\n",
       "    </tr>\n",
       "    <tr>\n",
       "      <td>ab_000</td>\n",
       "      <td>0.019725</td>\n",
       "      <td>1.000000</td>\n",
       "      <td>-0.010898</td>\n",
       "      <td>0.000066</td>\n",
       "      <td>0.024869</td>\n",
       "      <td>0.043276</td>\n",
       "      <td>0.000590</td>\n",
       "      <td>0.006547</td>\n",
       "      <td>0.023484</td>\n",
       "      <td>0.035696</td>\n",
       "      <td>...</td>\n",
       "      <td>0.025161</td>\n",
       "      <td>0.037052</td>\n",
       "      <td>0.028766</td>\n",
       "      <td>0.034201</td>\n",
       "      <td>0.023921</td>\n",
       "      <td>0.013598</td>\n",
       "      <td>0.002371</td>\n",
       "      <td>0.000506</td>\n",
       "      <td>0.046897</td>\n",
       "      <td>0.075683</td>\n",
       "    </tr>\n",
       "    <tr>\n",
       "      <td>ac_000</td>\n",
       "      <td>-0.011658</td>\n",
       "      <td>-0.010898</td>\n",
       "      <td>1.000000</td>\n",
       "      <td>-0.002030</td>\n",
       "      <td>-0.004769</td>\n",
       "      <td>-0.010612</td>\n",
       "      <td>0.015534</td>\n",
       "      <td>-0.002333</td>\n",
       "      <td>-0.009439</td>\n",
       "      <td>-0.022889</td>\n",
       "      <td>...</td>\n",
       "      <td>-0.009808</td>\n",
       "      <td>-0.006437</td>\n",
       "      <td>-0.007962</td>\n",
       "      <td>-0.008115</td>\n",
       "      <td>-0.014680</td>\n",
       "      <td>-0.018631</td>\n",
       "      <td>0.010435</td>\n",
       "      <td>0.017293</td>\n",
       "      <td>-0.006191</td>\n",
       "      <td>0.015826</td>\n",
       "    </tr>\n",
       "    <tr>\n",
       "      <td>ad_000</td>\n",
       "      <td>-0.000541</td>\n",
       "      <td>0.000066</td>\n",
       "      <td>-0.002030</td>\n",
       "      <td>1.000000</td>\n",
       "      <td>-0.000195</td>\n",
       "      <td>-0.000236</td>\n",
       "      <td>-0.000038</td>\n",
       "      <td>-0.000034</td>\n",
       "      <td>-0.000093</td>\n",
       "      <td>-0.000223</td>\n",
       "      <td>...</td>\n",
       "      <td>-0.000883</td>\n",
       "      <td>-0.000921</td>\n",
       "      <td>-0.000908</td>\n",
       "      <td>-0.000730</td>\n",
       "      <td>-0.000745</td>\n",
       "      <td>-0.000462</td>\n",
       "      <td>-0.000794</td>\n",
       "      <td>-0.000500</td>\n",
       "      <td>-0.000082</td>\n",
       "      <td>-0.000091</td>\n",
       "    </tr>\n",
       "    <tr>\n",
       "      <td>ae_000</td>\n",
       "      <td>0.025795</td>\n",
       "      <td>0.024869</td>\n",
       "      <td>-0.004769</td>\n",
       "      <td>-0.000195</td>\n",
       "      <td>1.000000</td>\n",
       "      <td>0.829986</td>\n",
       "      <td>-0.000441</td>\n",
       "      <td>-0.000609</td>\n",
       "      <td>0.001948</td>\n",
       "      <td>0.020678</td>\n",
       "      <td>...</td>\n",
       "      <td>0.012751</td>\n",
       "      <td>0.019441</td>\n",
       "      <td>0.012847</td>\n",
       "      <td>0.026437</td>\n",
       "      <td>0.066533</td>\n",
       "      <td>0.036619</td>\n",
       "      <td>-0.008393</td>\n",
       "      <td>-0.006952</td>\n",
       "      <td>0.063587</td>\n",
       "      <td>0.030854</td>\n",
       "    </tr>\n",
       "    <tr>\n",
       "      <td>...</td>\n",
       "      <td>...</td>\n",
       "      <td>...</td>\n",
       "      <td>...</td>\n",
       "      <td>...</td>\n",
       "      <td>...</td>\n",
       "      <td>...</td>\n",
       "      <td>...</td>\n",
       "      <td>...</td>\n",
       "      <td>...</td>\n",
       "      <td>...</td>\n",
       "      <td>...</td>\n",
       "      <td>...</td>\n",
       "      <td>...</td>\n",
       "      <td>...</td>\n",
       "      <td>...</td>\n",
       "      <td>...</td>\n",
       "      <td>...</td>\n",
       "      <td>...</td>\n",
       "      <td>...</td>\n",
       "      <td>...</td>\n",
       "      <td>...</td>\n",
       "    </tr>\n",
       "    <tr>\n",
       "      <td>ee_007</td>\n",
       "      <td>0.356969</td>\n",
       "      <td>0.013598</td>\n",
       "      <td>-0.018631</td>\n",
       "      <td>-0.000462</td>\n",
       "      <td>0.036619</td>\n",
       "      <td>0.046482</td>\n",
       "      <td>0.007631</td>\n",
       "      <td>0.068003</td>\n",
       "      <td>0.181967</td>\n",
       "      <td>0.475570</td>\n",
       "      <td>...</td>\n",
       "      <td>0.442199</td>\n",
       "      <td>0.432911</td>\n",
       "      <td>0.419633</td>\n",
       "      <td>0.380132</td>\n",
       "      <td>0.543449</td>\n",
       "      <td>1.000000</td>\n",
       "      <td>0.227098</td>\n",
       "      <td>0.063065</td>\n",
       "      <td>-0.000309</td>\n",
       "      <td>0.000946</td>\n",
       "    </tr>\n",
       "    <tr>\n",
       "      <td>ee_008</td>\n",
       "      <td>0.259668</td>\n",
       "      <td>0.002371</td>\n",
       "      <td>0.010435</td>\n",
       "      <td>-0.000794</td>\n",
       "      <td>-0.008393</td>\n",
       "      <td>-0.010843</td>\n",
       "      <td>0.000067</td>\n",
       "      <td>0.005353</td>\n",
       "      <td>0.009109</td>\n",
       "      <td>0.020684</td>\n",
       "      <td>...</td>\n",
       "      <td>0.442532</td>\n",
       "      <td>0.470574</td>\n",
       "      <td>0.448390</td>\n",
       "      <td>0.394020</td>\n",
       "      <td>0.365686</td>\n",
       "      <td>0.227098</td>\n",
       "      <td>1.000000</td>\n",
       "      <td>0.690147</td>\n",
       "      <td>-0.005173</td>\n",
       "      <td>-0.001950</td>\n",
       "    </tr>\n",
       "    <tr>\n",
       "      <td>ee_009</td>\n",
       "      <td>0.133764</td>\n",
       "      <td>0.000506</td>\n",
       "      <td>0.017293</td>\n",
       "      <td>-0.000500</td>\n",
       "      <td>-0.006952</td>\n",
       "      <td>-0.008539</td>\n",
       "      <td>-0.001103</td>\n",
       "      <td>-0.003540</td>\n",
       "      <td>-0.009089</td>\n",
       "      <td>-0.018164</td>\n",
       "      <td>...</td>\n",
       "      <td>0.224587</td>\n",
       "      <td>0.235844</td>\n",
       "      <td>0.220785</td>\n",
       "      <td>0.183844</td>\n",
       "      <td>0.158590</td>\n",
       "      <td>0.063065</td>\n",
       "      <td>0.690147</td>\n",
       "      <td>1.000000</td>\n",
       "      <td>-0.003168</td>\n",
       "      <td>-0.001059</td>\n",
       "    </tr>\n",
       "    <tr>\n",
       "      <td>ef_000</td>\n",
       "      <td>0.006688</td>\n",
       "      <td>0.046897</td>\n",
       "      <td>-0.006191</td>\n",
       "      <td>-0.000082</td>\n",
       "      <td>0.063587</td>\n",
       "      <td>0.093474</td>\n",
       "      <td>-0.000076</td>\n",
       "      <td>0.001140</td>\n",
       "      <td>0.005625</td>\n",
       "      <td>0.011036</td>\n",
       "      <td>...</td>\n",
       "      <td>0.003718</td>\n",
       "      <td>0.010177</td>\n",
       "      <td>0.002989</td>\n",
       "      <td>0.026924</td>\n",
       "      <td>0.005298</td>\n",
       "      <td>-0.000309</td>\n",
       "      <td>-0.005173</td>\n",
       "      <td>-0.003168</td>\n",
       "      <td>1.000000</td>\n",
       "      <td>0.222579</td>\n",
       "    </tr>\n",
       "    <tr>\n",
       "      <td>eg_000</td>\n",
       "      <td>0.010330</td>\n",
       "      <td>0.075683</td>\n",
       "      <td>0.015826</td>\n",
       "      <td>-0.000091</td>\n",
       "      <td>0.030854</td>\n",
       "      <td>0.044368</td>\n",
       "      <td>0.000156</td>\n",
       "      <td>0.003654</td>\n",
       "      <td>0.013414</td>\n",
       "      <td>0.010604</td>\n",
       "      <td>...</td>\n",
       "      <td>0.003999</td>\n",
       "      <td>0.006683</td>\n",
       "      <td>0.007236</td>\n",
       "      <td>0.008497</td>\n",
       "      <td>0.015273</td>\n",
       "      <td>0.000946</td>\n",
       "      <td>-0.001950</td>\n",
       "      <td>-0.001059</td>\n",
       "      <td>0.222579</td>\n",
       "      <td>1.000000</td>\n",
       "    </tr>\n",
       "  </tbody>\n",
       "</table>\n",
       "<p>170 rows × 170 columns</p>\n",
       "</div>"
      ],
      "text/plain": [
       "          aa_000    ab_000    ac_000    ad_000    ae_000    af_000    ag_000  \\\n",
       "aa_000  1.000000  0.019725 -0.011658 -0.000541  0.025795  0.035994  0.011682   \n",
       "ab_000  0.019725  1.000000 -0.010898  0.000066  0.024869  0.043276  0.000590   \n",
       "ac_000 -0.011658 -0.010898  1.000000 -0.002030 -0.004769 -0.010612  0.015534   \n",
       "ad_000 -0.000541  0.000066 -0.002030  1.000000 -0.000195 -0.000236 -0.000038   \n",
       "ae_000  0.025795  0.024869 -0.004769 -0.000195  1.000000  0.829986 -0.000441   \n",
       "...          ...       ...       ...       ...       ...       ...       ...   \n",
       "ee_007  0.356969  0.013598 -0.018631 -0.000462  0.036619  0.046482  0.007631   \n",
       "ee_008  0.259668  0.002371  0.010435 -0.000794 -0.008393 -0.010843  0.000067   \n",
       "ee_009  0.133764  0.000506  0.017293 -0.000500 -0.006952 -0.008539 -0.001103   \n",
       "ef_000  0.006688  0.046897 -0.006191 -0.000082  0.063587  0.093474 -0.000076   \n",
       "eg_000  0.010330  0.075683  0.015826 -0.000091  0.030854  0.044368  0.000156   \n",
       "\n",
       "          ag_001    ag_002    ag_003  ...    ee_002    ee_003    ee_004  \\\n",
       "aa_000  0.076378  0.195161  0.307443  ...  0.414125  0.419912  0.409659   \n",
       "ab_000  0.006547  0.023484  0.035696  ...  0.025161  0.037052  0.028766   \n",
       "ac_000 -0.002333 -0.009439 -0.022889  ... -0.009808 -0.006437 -0.007962   \n",
       "ad_000 -0.000034 -0.000093 -0.000223  ... -0.000883 -0.000921 -0.000908   \n",
       "ae_000 -0.000609  0.001948  0.020678  ...  0.012751  0.019441  0.012847   \n",
       "...          ...       ...       ...  ...       ...       ...       ...   \n",
       "ee_007  0.068003  0.181967  0.475570  ...  0.442199  0.432911  0.419633   \n",
       "ee_008  0.005353  0.009109  0.020684  ...  0.442532  0.470574  0.448390   \n",
       "ee_009 -0.003540 -0.009089 -0.018164  ...  0.224587  0.235844  0.220785   \n",
       "ef_000  0.001140  0.005625  0.011036  ...  0.003718  0.010177  0.002989   \n",
       "eg_000  0.003654  0.013414  0.010604  ...  0.003999  0.006683  0.007236   \n",
       "\n",
       "          ee_005    ee_006    ee_007    ee_008    ee_009    ef_000    eg_000  \n",
       "aa_000  0.419780  0.425679  0.356969  0.259668  0.133764  0.006688  0.010330  \n",
       "ab_000  0.034201  0.023921  0.013598  0.002371  0.000506  0.046897  0.075683  \n",
       "ac_000 -0.008115 -0.014680 -0.018631  0.010435  0.017293 -0.006191  0.015826  \n",
       "ad_000 -0.000730 -0.000745 -0.000462 -0.000794 -0.000500 -0.000082 -0.000091  \n",
       "ae_000  0.026437  0.066533  0.036619 -0.008393 -0.006952  0.063587  0.030854  \n",
       "...          ...       ...       ...       ...       ...       ...       ...  \n",
       "ee_007  0.380132  0.543449  1.000000  0.227098  0.063065 -0.000309  0.000946  \n",
       "ee_008  0.394020  0.365686  0.227098  1.000000  0.690147 -0.005173 -0.001950  \n",
       "ee_009  0.183844  0.158590  0.063065  0.690147  1.000000 -0.003168 -0.001059  \n",
       "ef_000  0.026924  0.005298 -0.000309 -0.005173 -0.003168  1.000000  0.222579  \n",
       "eg_000  0.008497  0.015273  0.000946 -0.001950 -0.001059  0.222579  1.000000  \n",
       "\n",
       "[170 rows x 170 columns]"
      ]
     },
     "execution_count": 44,
     "metadata": {},
     "output_type": "execute_result"
    }
   ],
   "source": [
    "buffer.iloc[:, 1:].corr()"
   ]
  },
  {
   "cell_type": "markdown",
   "metadata": {},
   "source": [
    "### iv. Plotting 13 Features with Highest CV\n",
    "**Analysis**: The features with the highest variation skew toward 0 (because the middle of the box plots represent the middle quartiles. Perhaps this means that these features are not important in determining the output."
   ]
  },
  {
   "cell_type": "code",
   "execution_count": 45,
   "metadata": {},
   "outputs": [
    {
     "data": {
      "image/png": "[encoded data removed]",
      "text/plain": [
       "<Figure size 432x288 with 1 Axes>"
      ]
     },
     "metadata": {
      "needs_background": "light"
     },
     "output_type": "display_data"
    },
    {
     "data": {
      "image/png": "[encoded data removed]",
      "text/plain": [
       "<Figure size 432x288 with 1 Axes>"
      ]
     },
     "metadata": {
      "needs_background": "light"
     },
     "output_type": "display_data"
    },
    {
     "data": {
      "image/png": "[encoded data removed]",
      "text/plain": [
       "<Figure size 432x288 with 1 Axes>"
      ]
     },
     "metadata": {
      "needs_background": "light"
     },
     "output_type": "display_data"
    },
    {
     "data": {
      "image/png": "[encoded data removed]",
      "text/plain": [
       "<Figure size 432x288 with 1 Axes>"
      ]
     },
     "metadata": {
      "needs_background": "light"
     },
     "output_type": "display_data"
    },
    {
     "data": {
      "image/png": "[encoded data removed]",
      "text/plain": [
       "<Figure size 432x288 with 1 Axes>"
      ]
     },
     "metadata": {
      "needs_background": "light"
     },
     "output_type": "display_data"
    },
    {
     "data": {
      "image/png": "[encoded data removed]",
      "text/plain": [
       "<Figure size 432x288 with 1 Axes>"
      ]
     },
     "metadata": {
      "needs_background": "light"
     },
     "output_type": "display_data"
    },
    {
     "data": {
      "image/png": "[encoded data removed]",
      "text/plain": [
       "<Figure size 432x288 with 1 Axes>"
      ]
     },
     "metadata": {
      "needs_background": "light"
     },
     "output_type": "display_data"
    },
    {
     "data": {
      "image/png": "[encoded data removed]",
      "text/plain": [
       "<Figure size 432x288 with 1 Axes>"
      ]
     },
     "metadata": {
      "needs_background": "light"
     },
     "output_type": "display_data"
    },
    {
     "data": {
      "image/png": "[encoded data removed]",
      "text/plain": [
       "<Figure size 432x288 with 1 Axes>"
      ]
     },
     "metadata": {
      "needs_background": "light"
     },
     "output_type": "display_data"
    },
    {
     "data": {
      "image/png": "[encoded data removed]",
      "text/plain": [
       "<Figure size 432x288 with 1 Axes>"
      ]
     },
     "metadata": {
      "needs_background": "light"
     },
     "output_type": "display_data"
    },
    {
     "data": {
      "image/png": "[encoded data removed]",
      "text/plain": [
       "<Figure size 432x288 with 1 Axes>"
      ]
     },
     "metadata": {
      "needs_background": "light"
     },
     "output_type": "display_data"
    }
   ],
   "source": [
    "num_highest = np.floor(np.sqrt(170))\n",
    "array = np.array(cv.iloc[0, :])\n",
    "highest_cv = array.argsort()[-11:][::-1]\n",
    "for i in highest_cv:\n",
    "    plt.figure()\n",
    "    sns.boxplot(buffer.iloc[:, i])"
   ]
  },
  {
   "cell_type": "markdown",
   "metadata": {},
   "source": [
    "### v. Analysis of Imbalance\n",
    "The data, both in the training and test datasets, are highly imbalanced."
   ]
  },
  {
   "cell_type": "code",
   "execution_count": 46,
   "metadata": {},
   "outputs": [
    {
     "name": "stdout",
     "output_type": "stream",
     "text": [
      "Total (Test + Train Combined): \n",
      "neg    74625\n",
      "pos     1375\n",
      "Name: class, dtype: int64\n",
      "Training Data: \n",
      "neg    59000\n",
      "pos     1000\n",
      "Name: class, dtype: int64\n",
      "Test Data: \n",
      "neg    15625\n",
      "pos      375\n",
      "Name: class, dtype: int64\n"
     ]
    }
   ],
   "source": [
    "print(\"Total (Test + Train Combined): \")\n",
    "print(buffer['class'].value_counts())\n",
    "\n",
    "\n",
    "print(\"Training Data: \")\n",
    "print(train_set['class'].value_counts())\n",
    "\n",
    "print(\"Test Data: \")\n",
    "print(test_set['class'].value_counts())"
   ]
  },
  {
   "cell_type": "markdown",
   "metadata": {},
   "source": [
    "### ASIDE: Below are relevant functions that I will call frequently\n",
    "1. **metrics_display(model, X, y)**:\n",
    "    - Prints out the misclassification rate, confusion matrix, ROC and AUC"
   ]
  },
  {
   "cell_type": "code",
   "execution_count": 66,
   "metadata": {},
   "outputs": [],
   "source": [
    "def metrics_display(model, X, y):\n",
    "    print(\"Misclassification Rate: \" + str(1-model.score(X, y)))\n",
    "\n",
    "    prediction = model.predict(X)\n",
    "\n",
    "    confusion_matrix = skm.confusion_matrix(y, prediction)\n",
    "    print(\"Confusion Matrix:\")\n",
    "    print(confusion_matrix)\n",
    "    \n",
    "    tn, fp, fn, tp = skm.confusion_matrix(y, prediction).ravel()\n",
    "    \n",
    "    print(\"TPR: \" + str(float(tp)/float(tp+fn)))\n",
    "\n",
    "    predict_prob = model.predict_proba(X)\n",
    "    positive_prob = predict_prob[:, 1]\n",
    "    fpr, tpr, _ = skm.roc_curve(y, positive_prob, pos_label='pos')\n",
    "\n",
    "    plt.plot(fpr, tpr)\n",
    "    plt.xlabel('False Positive Rate')\n",
    "    plt.ylabel('True Positive Rate')\n",
    "    plt.plot([0, 1], [0, 1], 'k--')\n",
    "    plt.xlim([-0.02, 1.0])\n",
    "    plt.ylim([0.0, 1.02])\n",
    "    plt.title(\"ROC Curve\")\n",
    "    plt.show()\n",
    "\n",
    "    auc = skm.auc(fpr, tpr)\n",
    "    print(\"Area Under Curve: \" + str(auc))"
   ]
  },
  {
   "cell_type": "markdown",
   "metadata": {},
   "source": [
    "## c) Random Forest (without compensating for class imbalance)\n",
    "\n",
    "**Comparison of Test Error vs. OOB Error**: \n",
    "    - Test error: 0.0089\n",
    "    - OOB Error: 0.0092\n",
    "The two errors are very similar. This is unsurprising, and in fact the hope is that OOB error will reflect test error. This means that in training and bagging our random forest, we got an accurate representation of what the test set will be like. As such, the tree performs just as well out of bag as it does with the test set"
   ]
  },
  {
   "cell_type": "code",
   "execution_count": 48,
   "metadata": {},
   "outputs": [],
   "source": [
    "train_X = train_set.drop(columns=['class'])\n",
    "train_y = train_set['class']\n",
    "\n",
    "test_X = test_set.drop(columns=['class'])\n",
    "test_y = test_set['class']"
   ]
  },
  {
   "cell_type": "code",
   "execution_count": 64,
   "metadata": {},
   "outputs": [
    {
     "name": "stderr",
     "output_type": "stream",
     "text": [
      "/opt/anaconda3/lib/python3.7/site-packages/sklearn/ensemble/forest.py:245: FutureWarning: The default value of n_estimators will change from 10 in version 0.20 to 100 in 0.22.\n",
      "  \"10 in version 0.20 to 100 in 0.22.\", FutureWarning)\n",
      "/opt/anaconda3/lib/python3.7/site-packages/sklearn/ensemble/forest.py:460: UserWarning: Some inputs do not have OOB scores. This probably means too few trees were used to compute any reliable oob estimates.\n",
      "  warn(\"Some inputs do not have OOB scores. \"\n",
      "/opt/anaconda3/lib/python3.7/site-packages/sklearn/ensemble/forest.py:465: RuntimeWarning: divide by zero encountered in true_divide\n",
      "  predictions[k].sum(axis=1)[:, np.newaxis])\n",
      "/opt/anaconda3/lib/python3.7/site-packages/sklearn/ensemble/forest.py:465: RuntimeWarning: invalid value encountered in true_divide\n",
      "  predictions[k].sum(axis=1)[:, np.newaxis])\n"
     ]
    },
    {
     "name": "stdout",
     "output_type": "stream",
     "text": [
      "Train Set Metrics:\n",
      "Misclassification Rate: 0.0006166666666667098\n",
      "Confusion Matrix:\n",
      "[[58999     1]\n",
      " [   36   964]]\n",
      "TPR: 0.964\n",
      "PPV: 0.9989637305699481\n"
     ]
    },
    {
     "data": {
      "image/png": "[encoded data removed]",
      "text/plain": [
       "<Figure size 432x288 with 1 Axes>"
      ]
     },
     "metadata": {
      "needs_background": "light"
     },
     "output_type": "display_data"
    },
    {
     "name": "stdout",
     "output_type": "stream",
     "text": [
      "Area Under Curve: 0.9999938305084746\n",
      "\n",
      "Test Set Metrics:\n",
      "Misclassification Rate: 0.008937500000000043\n",
      "Confusion Matrix:\n",
      "[[15606    19]\n",
      " [  124   251]]\n",
      "TPR: 0.6693333333333333\n",
      "PPV: 0.9296296296296296\n"
     ]
    },
    {
     "data": {
      "image/png": "[encoded data removed]",
      "text/plain": [
       "<Figure size 432x288 with 1 Axes>"
      ]
     },
     "metadata": {
      "needs_background": "light"
     },
     "output_type": "display_data"
    },
    {
     "name": "stdout",
     "output_type": "stream",
     "text": [
      "Area Under Curve: 0.9745769813333334\n",
      "\n",
      "Out of Bag Error Estimate: 0.00921666666666665\n"
     ]
    }
   ],
   "source": [
    "rfr = RandomForestClassifier(oob_score=True).fit(train_X, train_y)\n",
    "\n",
    "print(\"Train Set Metrics:\")\n",
    "metrics_display(rfr, train_X, train_y)\n",
    "\n",
    "print(\"\\nTest Set Metrics:\")\n",
    "metrics_display(rfr, test_X, test_y)\n",
    "\n",
    "print(\"\\nOut of Bag Error Estimate: \" + str(1-rfr.oob_score_))"
   ]
  },
  {
   "cell_type": "markdown",
   "metadata": {},
   "source": [
    "## d) Dealing with Class Imbalance in Random Forests\n",
    "### i. Downsampling the majority class to balance the pos/neg classes\n",
    "**Observations**: On face value, the misclassification rate seems to increase. However, notice from the confusion matrix that the misclassification rate on the positive class is significantly improved:\n",
    "    - TPR for Vanilla Random Forest (Test Set): 0.6693\n",
    "    - TPR for Downsampled Random Forest (Test Set): 0.986\n",
    "If we are only interested in predicting failures (i.e. positive class), then we can say that the downsampling approach is a significant improvement."
   ]
  },
  {
   "cell_type": "code",
   "execution_count": 65,
   "metadata": {},
   "outputs": [
    {
     "name": "stdout",
     "output_type": "stream",
     "text": [
      "Train Set Metrics:\n",
      "Misclassification Rate: 0.055916666666666615\n",
      "Confusion Matrix:\n",
      "[[55659  3341]\n",
      " [   14   986]]\n",
      "TPR: 0.986\n",
      "PPV: 0.22787150450658655\n"
     ]
    },
    {
     "data": {
      "image/png": "[encoded data removed]",
      "text/plain": [
       "<Figure size 432x288 with 1 Axes>"
      ]
     },
     "metadata": {
      "needs_background": "light"
     },
     "output_type": "display_data"
    },
    {
     "name": "stdout",
     "output_type": "stream",
     "text": [
      "Area Under Curve: 0.9955977033898304\n",
      "\n",
      "Test Set Metrics:\n",
      "Misclassification Rate: 0.053875000000000006\n",
      "Confusion Matrix:\n",
      "[[14770   855]\n",
      " [    7   368]]\n",
      "TPR: 0.9813333333333333\n",
      "PPV: 0.3008994276369583\n"
     ]
    },
    {
     "data": {
      "image/png": "[encoded data removed]",
      "text/plain": [
       "<Figure size 432x288 with 1 Axes>"
      ]
     },
     "metadata": {
      "needs_background": "light"
     },
     "output_type": "display_data"
    },
    {
     "name": "stdout",
     "output_type": "stream",
     "text": [
      "Area Under Curve: 0.9912128000000001\n",
      "\n",
      "Out of Bag Error Estimate: 0.055433333333333334\n"
     ]
    }
   ],
   "source": [
    "rfr = BalancedRandomForestClassifier(oob_score=True).fit(train_X, train_y)\n",
    "print(\"Train Set Metrics:\")\n",
    "metrics_display(rfr, train_X, train_y)\n",
    "\n",
    "print(\"\\nTest Set Metrics:\")\n",
    "metrics_display(rfr, test_X, test_y)\n",
    "\n",
    "print(\"\\nOut of Bag Error Estimate: \" + str(1-rfr.oob_score_))"
   ]
  },
  {
   "cell_type": "markdown",
   "metadata": {},
   "source": [
    "### ii. By applying class weights, adjusted by the number of occurrences (Another experiment)\n",
    "**Observations**: Not only did the misclassification rate go up, but the TPR went down, which means that applying class weights was not an effective means of adjusting for class imbalance\n",
    "    - TPR for Vanilla Random Forest (Test Set): 0.6693\n",
    "    - TPR for Weighted Random Forest (Test Set): 0.5222"
   ]
  },
  {
   "cell_type": "code",
   "execution_count": 67,
   "metadata": {},
   "outputs": [
    {
     "name": "stderr",
     "output_type": "stream",
     "text": [
      "/opt/anaconda3/lib/python3.7/site-packages/sklearn/ensemble/forest.py:245: FutureWarning: The default value of n_estimators will change from 10 in version 0.20 to 100 in 0.22.\n",
      "  \"10 in version 0.20 to 100 in 0.22.\", FutureWarning)\n",
      "/opt/anaconda3/lib/python3.7/site-packages/sklearn/ensemble/forest.py:460: UserWarning: Some inputs do not have OOB scores. This probably means too few trees were used to compute any reliable oob estimates.\n",
      "  warn(\"Some inputs do not have OOB scores. \"\n",
      "/opt/anaconda3/lib/python3.7/site-packages/sklearn/ensemble/forest.py:465: RuntimeWarning: divide by zero encountered in true_divide\n",
      "  predictions[k].sum(axis=1)[:, np.newaxis])\n",
      "/opt/anaconda3/lib/python3.7/site-packages/sklearn/ensemble/forest.py:465: RuntimeWarning: invalid value encountered in true_divide\n",
      "  predictions[k].sum(axis=1)[:, np.newaxis])\n"
     ]
    },
    {
     "name": "stdout",
     "output_type": "stream",
     "text": [
      "Train Set Metrics:\n",
      "Misclassification Rate: 0.0010000000000000009\n",
      "Confusion Matrix:\n",
      "[[58998     2]\n",
      " [   58   942]]\n",
      "TPR: 0.942\n"
     ]
    },
    {
     "data": {
      "image/png": "[encoded data removed]",
      "text/plain": [
       "<Figure size 432x288 with 1 Axes>"
      ]
     },
     "metadata": {
      "needs_background": "light"
     },
     "output_type": "display_data"
    },
    {
     "name": "stdout",
     "output_type": "stream",
     "text": [
      "Area Under Curve: 0.9999918644067797\n",
      "\n",
      "Test Set Metrics:\n",
      "Misclassification Rate: 0.012249999999999983\n",
      "Confusion Matrix:\n",
      "[[15608    17]\n",
      " [  179   196]]\n",
      "TPR: 0.5226666666666666\n"
     ]
    },
    {
     "data": {
      "image/png": "[encoded data removed]",
      "text/plain": [
       "<Figure size 432x288 with 1 Axes>"
      ]
     },
     "metadata": {
      "needs_background": "light"
     },
     "output_type": "display_data"
    },
    {
     "name": "stdout",
     "output_type": "stream",
     "text": [
      "Area Under Curve: 0.95707264\n",
      "\n",
      "Out of Bag Error Estimate: 0.01034999999999997\n"
     ]
    }
   ],
   "source": [
    "rfr = RandomForestClassifier(oob_score=True, class_weight='balanced').fit(train_X, train_y)\n",
    "\n",
    "print(\"Train Set Metrics:\")\n",
    "metrics_display(rfr, train_X, train_y)\n",
    "\n",
    "print(\"\\nTest Set Metrics:\")\n",
    "metrics_display(rfr, test_X, test_y)\n",
    "\n",
    "print(\"\\nOut of Bag Error Estimate: \" + str(1-rfr.oob_score_))"
   ]
  },
  {
   "cell_type": "markdown",
   "metadata": {},
   "source": [
    "## e) Model Trees\n",
    "\n",
    "**Explanation of Method**: I used the WEKA Python Wrapper to ubild a Logistic Model Tree using 10-fold cross validation. Passing in the entire training set proved to be time-consuming (I ran it for more than 20 hours and it still did not finish), so since my laptop was clearly wearing out, I decided to subsample. Since the classes were imbalanced, I took 15% of both the positive and negative classes so even the subsample reflected the ratio of majority:minority class."
   ]
  },
  {
   "cell_type": "code",
   "execution_count": 2,
   "metadata": {},
   "outputs": [
    {
     "name": "stderr",
     "output_type": "stream",
     "text": [
      "DEBUG:weka.core.jvm:Adding bundled jars\n",
      "DEBUG:weka.core.jvm:Classpath=['/opt/anaconda3/lib/python3.7/site-packages/javabridge/jars/rhino-1.7R4.jar', '/opt/anaconda3/lib/python3.7/site-packages/javabridge/jars/runnablequeue.jar', '/opt/anaconda3/lib/python3.7/site-packages/javabridge/jars/cpython.jar', '/opt/anaconda3/lib/python3.7/site-packages/weka/lib/python-weka-wrapper.jar', '/opt/anaconda3/lib/python3.7/site-packages/weka/lib/weka.jar']\n",
      "DEBUG:weka.core.jvm:MaxHeapSize=default\n",
      "DEBUG:weka.core.jvm:Package support enabled\n"
     ]
    }
   ],
   "source": [
    "import weka.core.jvm as jvm\n",
    "jvm.start(packages=True)"
   ]
  },
  {
   "cell_type": "code",
   "execution_count": 8,
   "metadata": {},
   "outputs": [],
   "source": [
    "from weka.classifiers import Classifier, Evaluation\n",
    "from weka.core.converters import Loader, Saver\n",
    "loader = Loader(classname=\"weka.core.converters.CSVLoader\")\n",
    "from weka.core.classes import Random\n",
    "import weka.plot.classifiers as plcls  # NB: matplotlib is required"
   ]
  },
  {
   "cell_type": "code",
   "execution_count": 9,
   "metadata": {},
   "outputs": [],
   "source": [
    "def weka_LMT(train_path, test_path, last):\n",
    "    train_set = loader.load_file(train_path)\n",
    "    test_set = loader.load_file(test_path)\n",
    "    if last:\n",
    "        train_set.class_is_last()\n",
    "        test_set.class_is_last()\n",
    "    else:\n",
    "        train_set.class_is_first()\n",
    "        test_set.class_is_first()\n",
    "    \n",
    "    classifier = Classifier(classname=\"weka.classifiers.trees.LMT\")\n",
    "    evl = Evaluation(train_set)\n",
    "    evl.crossvalidate_model(classifier, train_set, 10, Random(1))\n",
    "    print(evl.summary(title=\"cross-validation\"))\n",
    "\n",
    "    classifier.build_classifier(train_set)\n",
    "    \n",
    "    evl_test = Evaluation(test_set)\n",
    "    evl_test.test_model(classifier, test_set)\n",
    "    print(evl_test.summary(title=\"test\"))\n",
    "\n",
    "    print(evl_test.confusion_matrix)\n",
    "    print(evl_test.area_under_roc)\n",
    "    plcls.plot_roc(evl_test, class_index=[0, 1], wait=True)"
   ]
  },
  {
   "cell_type": "code",
   "execution_count": 44,
   "metadata": {},
   "outputs": [
    {
     "name": "stdout",
     "output_type": "stream",
     "text": [
      "cross-validation\n",
      "Correctly Classified Instances        8901               98.9    %\n",
      "Incorrectly Classified Instances        99                1.1    %\n",
      "Kappa statistic                          0.6064\n",
      "Mean absolute error                      0.0155\n",
      "Root mean squared error                  0.0956\n",
      "Relative absolute error                 47.1092 %\n",
      "Root relative squared error             74.6531 %\n",
      "Total Number of Instances             9000     \n",
      "\n",
      "test\n",
      "Correctly Classified Instances       15767               98.5438 %\n",
      "Incorrectly Classified Instances       233                1.4563 %\n",
      "Kappa statistic                          0.6798\n",
      "Mean absolute error                      0.0162\n",
      "Root mean squared error                  0.1132\n",
      "Relative absolute error                 35.4231 %\n",
      "Root relative squared error             74.7989 %\n",
      "Total Number of Instances            16000     \n",
      "\n",
      "[[15511.   114.]\n",
      " [  119.   256.]]\n",
      "<bound method Evaluation.area_under_roc of weka.classifiers.Evaluation@54befcea>\n"
     ]
    },
    {
     "data": {
      "image/png": "[encoded data removed]",
      "text/plain": [
       "<Figure size 432x288 with 1 Axes>"
      ]
     },
     "metadata": {
      "needs_background": "light"
     },
     "output_type": "display_data"
    }
   ],
   "source": [
    "weka_LMT('../data/weka_subsample_train.csv', '../data/weka_test.csv', False)"
   ]
  },
  {
   "cell_type": "markdown",
   "metadata": {},
   "source": [
    "## f) Model Trees with Balanced Training Set"
   ]
  },
  {
   "cell_type": "code",
   "execution_count": 44,
   "metadata": {},
   "outputs": [],
   "source": [
    "from imblearn.over_sampling import SMOTE\n",
    "\n",
    "def smote_apply(input_file, output_file, pct):\n",
    "    train_set = pd.read_csv('../data/weka_train.csv')\n",
    "\n",
    "    train_X = train_set.drop(columns=['class'])\n",
    "    train_y = train_set['class']\n",
    "\n",
    "    smote = SMOTE(sampling_strategy=1.0)\n",
    "    trainX_smote, trainy_smote = smote.fit_resample(train_X, train_y)\n",
    "    \n",
    "    trainX_smote = pd.DataFrame(trainX_smote, columns=train_X.columns)\n",
    "    trainy_smote = pd.DataFrame(trainy_smote, columns=['class'])\n",
    "\n",
    "    train_smote = trainX_smote\n",
    "    train_smote['class'] = trainy_smote\n",
    "\n",
    "    train_smote.to_csv('../data/weka_train_smote.csv', index=False)\n",
    "    \n",
    "    sub_train_smote = subsample_balanced(float(pct), train_smote)\n",
    "    sub_train_smote.to_csv('../data/weka_train_smote_subsample.csv', index=False)"
   ]
  },
  {
   "cell_type": "code",
   "execution_count": 6,
   "metadata": {},
   "outputs": [],
   "source": [
    "from imblearn.under_sampling import RandomUnderSampler\n",
    "\n",
    "def down_sample(ratio):\n",
    "    train_set = pd.read_csv('../data/weka_train.csv')\n",
    "\n",
    "    train_X = train_set.drop(columns=['class'])\n",
    "    train_y = train_set['class']\n",
    "\n",
    "    downsample = RandomUnderSampler(sampling_strategy=ratio)\n",
    "    trainX_smote, trainy_smote = downsample.fit_resample(train_X, train_y)\n",
    "    \n",
    "    trainX_smote = pd.DataFrame(trainX_smote, columns=train_X.columns)\n",
    "    trainy_smote = pd.DataFrame(trainy_smote, columns=['class'])\n",
    "\n",
    "    train_smote = trainX_smote\n",
    "    train_smote['class'] = trainy_smote\n",
    "    \n",
    "    train_smote.to_csv('../data/weka_train_downsample1.csv', index=False)\n",
    "    \n",
    "down_sample(0.16666666)"
   ]
  },
  {
   "cell_type": "markdown",
   "metadata": {},
   "source": [
    "### i. SMOTE (subsampled)\n",
    "I employed the same method (LMT with 10-fold cross validation), this time with a balanced training set. \n",
    "\n",
    "SMOTE on the entire dataset took way too long (I ran it for over a day). Instead, I used SMOTE to upsample the minority class, then picked a balanced subsample of 10%. This means that I took an even 50:50 from both classes, but just took 10% of the total dataset.\n",
    "\n",
    "Also, the original SMOTE dataset could not be uploaded to Github because it took more than 200MB.\n",
    "\n",
    "**Discussion of Results: The SMOTE model did better in predicting the positive class.**\n",
    "\n",
    "Test Errors:\n",
    "    - Unbalanced: 0.0145\n",
    "    - SMOTE: 0.043\n",
    "True Positive Rate:\n",
    "    - Unbalanced: 0.683\n",
    "    - **SMOTE: 0.952**\n",
    "    \n",
    "Naively, if we look at just test errors, SMOTE did worse (3 percentage points worse). But we presumably care more about predicting failures, in which case the SMOTE method prevailed.\n",
    "\n",
    "#### **Refer to the cells at the end of the notebook for a more comprehensive analysis/comparison**"
   ]
  },
  {
   "cell_type": "code",
   "execution_count": 13,
   "metadata": {},
   "outputs": [],
   "source": [
    "train_set_smote = loader.load_file('../data/weka_train_smote_subsample.csv')\n",
    "train_set_smote.class_is_last()\n",
    "test_set = loader.load_file('../data/weka_test_reversed.csv')\n",
    "test_set.class_is_last()"
   ]
  },
  {
   "cell_type": "code",
   "execution_count": 6,
   "metadata": {},
   "outputs": [
    {
     "name": "stdout",
     "output_type": "stream",
     "text": [
      "cross-validation\n",
      "Correctly Classified Instances       11522               97.6441 %\n",
      "Incorrectly Classified Instances       278                2.3559 %\n",
      "Kappa statistic                          0.9529\n",
      "Mean absolute error                      0.0336\n",
      "Root mean squared error                  0.1388\n",
      "Relative absolute error                  6.7151 %\n",
      "Root relative squared error             27.7538 %\n",
      "Total Number of Instances            11800     \n",
      "\n"
     ]
    }
   ],
   "source": [
    "classifier = Classifier(classname=\"weka.classifiers.trees.LMT\")\n",
    "eval_smote = Evaluation(train_set_smote)\n",
    "eval_smote.crossvalidate_model(classifier, train_set_smote, 10, Random(1))\n",
    "print(eval_smote.summary(title=\"cross-validation\"))\n",
    "\n",
    "classifier.build_classifier(train_set_smote)"
   ]
  },
  {
   "cell_type": "code",
   "execution_count": 24,
   "metadata": {},
   "outputs": [
    {
     "name": "stdout",
     "output_type": "stream",
     "text": [
      "test\n",
      "Correctly Classified Instances       15312               95.7    %\n",
      "Incorrectly Classified Instances       688                4.3    %\n",
      "Kappa statistic                          0.4918\n",
      "Mean absolute error                      0.0621\n",
      "Root mean squared error                  0.1864\n",
      "Relative absolute error                135.4699 %\n",
      "Root relative squared error            123.204  %\n",
      "Total Number of Instances            16000     \n",
      "\n",
      "[[14955.   670.]\n",
      " [   18.   357.]]\n",
      "<bound method Evaluation.area_under_roc of weka.classifiers.Evaluation@6bdc7421>\n"
     ]
    },
    {
     "data": {
      "image/png": "[encoded data removed]",
      "text/plain": [
       "<Figure size 432x288 with 1 Axes>"
      ]
     },
     "metadata": {
      "needs_background": "light"
     },
     "output_type": "display_data"
    }
   ],
   "source": [
    "evl_test_smote = Evaluation(test_set)\n",
    "evl_test_smote.test_model(classifier, test_set)\n",
    "print(evl_test_smote.summary(title=\"test\"))\n",
    "\n",
    "print(evl_test_smote.confusion_matrix)\n",
    "print(evl_test_smote.area_under_roc)\n",
    "plcls.plot_roc(evl_test_smote, class_index=[0, 1], wait=True)"
   ]
  },
  {
   "cell_type": "markdown",
   "metadata": {},
   "source": [
    "### ii. Downsampling (1:6 ratio)\n",
    "As per the footnote description, I downsapled the majority (neg) class to 6,000. This makes a slightly less unbalanced training data with a 1:6 ratio\n",
    "\n",
    "**Discussion of Results**: Using this training set is arguably one of the better ones. This is because it achieves a relatively low test error rate (0.0155) while also accuratively predicting positive classes."
   ]
  },
  {
   "cell_type": "code",
   "execution_count": 10,
   "metadata": {},
   "outputs": [
    {
     "name": "stdout",
     "output_type": "stream",
     "text": [
      "cross-validation\n",
      "Correctly Classified Instances        6763               96.6143 %\n",
      "Incorrectly Classified Instances       237                3.3857 %\n",
      "Kappa statistic                          0.8597\n",
      "Mean absolute error                      0.0472\n",
      "Root mean squared error                  0.1652\n",
      "Relative absolute error                 19.2522 %\n",
      "Root relative squared error             47.2132 %\n",
      "Total Number of Instances             7000     \n",
      "\n",
      "test\n",
      "Correctly Classified Instances       15751               98.4437 %\n",
      "Incorrectly Classified Instances       249                1.5562 %\n",
      "Kappa statistic                          0.7159\n",
      "Mean absolute error                      0.0329\n",
      "Root mean squared error                  0.114 \n",
      "Relative absolute error                 71.741  %\n",
      "Root relative squared error             75.3663 %\n",
      "Total Number of Instances            16000     \n",
      "\n",
      "[[15425.   200.]\n",
      " [   49.   326.]]\n",
      "<bound method Evaluation.area_under_roc of weka.classifiers.Evaluation@6385f7cd>\n"
     ]
    },
    {
     "data": {
      "image/png": "[encoded data removed]",
      "text/plain": [
       "<Figure size 432x288 with 1 Axes>"
      ]
     },
     "metadata": {
      "needs_background": "light"
     },
     "output_type": "display_data"
    }
   ],
   "source": [
    "weka_LMT('../data/weka_train_downsample1.csv', '../data/weka_test_reversed.csv', True)"
   ]
  },
  {
   "cell_type": "markdown",
   "metadata": {},
   "source": [
    "## Evaluation of e and f) Comparison of All Methods\n",
    "\n",
    "From the table below, there are clearly tradeoffs to all the methods. \n",
    "    - Unbalanced dataset has a pretty decent/equal recall and precision score at about 0.68\n",
    "    - SMOTE did exceptionally well in recall but poorly in precision. This is perhaps because I subsampled only 10% of the data. Nonetheless, the results were still pretty satisfactory\n",
    "    - Downsampling to 6,000 neg datapoints balances recall and precision the best. It has the highest F1 score, and a pretty decent recall compared to SMOTE\n",
    "    \n",
    "Ultimately, which model is best depends on the need. If we only care about predicting failures accurately (having enough resources to deal with a lot of false positives), then SMOTE could be good. On the other hand, if we also don't want a lot of false positives, downsampling might be better."
   ]
  },
  {
   "cell_type": "code",
   "execution_count": 12,
   "metadata": {},
   "outputs": [
    {
     "name": "stdout",
     "output_type": "stream",
     "text": [
      "                                               Model    Recall  Precision  \\\n",
      "0           Unbalanced Dataset (15% from each class)  0.682667   0.691892   \n",
      "1                        SMOTE (10% from each class)  0.952000   0.347614   \n",
      "2  Downsampling (6,000 & 1,000 from neg and pos c...  0.869333   0.619772   \n",
      "\n",
      "         F1  \n",
      "0  0.687248  \n",
      "1  0.509272  \n",
      "2  0.723640  \n"
     ]
    }
   ],
   "source": [
    "def calculate_metrics(model, tp, fp, fn):\n",
    "    tp = float(tp)\n",
    "    fp = float(fp)\n",
    "    fn = float(fn)\n",
    "    tpr = tp / (tp + fn)\n",
    "    precision = tp / (tp + fp)\n",
    "    f1 = 2 * (precision * tpr) / (precision + tpr)\n",
    "    \n",
    "    return [model, tpr, precision, f1]\n",
    "\n",
    "simple_list=[]\n",
    "simple_list.append(calculate_metrics('Unbalanced Dataset (15% from each class)', 256, 114, 119))\n",
    "simple_list.append(calculate_metrics('SMOTE (10% from each class)', 357, 670, 18))\n",
    "simple_list.append(calculate_metrics('Downsampling (6,000 & 1,000 from neg and pos class)', 326, 200, 49))\n",
    "\n",
    "results_LMT = pd.DataFrame(simple_list, columns=['Model', 'Recall', 'Precision', 'F1'])\n",
    "print(results_LMT)"
   ]
  },
  {
   "cell_type": "code",
   "execution_count": 18,
   "metadata": {},
   "outputs": [],
   "source": [
    "jvm.stop()"
   ]
  },
  {
   "cell_type": "markdown",
   "metadata": {},
   "source": [
    "# 3. ISLR 6.8.3\n",
    "![alt text](3.png \"Solutions for 6.8.3\")\n",
    "\n",
    "# 4. ISLR 6.8.5\n",
    "![alt text](4a.png \"Solutions for 6.8.5\")\n",
    "![alt text](4b.png \"Solutions for 6.8.5\")\n",
    "\n",
    "# 5. ISLR 8.4.5\n",
    "![alt text](5.png \"Solutions for 8.4.5\")\n",
    "\n",
    "# 6. ISLR 9.7.3\n",
    "![alt text](6.png \"Solutions for 9.7.3\")\n",
    "\n",
    "\n",
    "## For questions 3-6, sometimes Github doesn't display the alt_text. Just in case, you can find the answers in the notebook/ folder under 3, 4a, 4b, 5, 6."
   ]
  }
 ],
 "metadata": {
  "kernelspec": {
   "display_name": "Python 3",
   "language": "python",
   "name": "python3"
  },
  "language_info": {
   "codemirror_mode": {
    "name": "ipython",
    "version": 3
   },
   "file_extension": ".py",
   "mimetype": "text/x-python",
   "name": "python",
   "nbconvert_exporter": "python",
   "pygments_lexer": "ipython3",
   "version": "3.7.4"
  }
 },
 "nbformat": 4,
 "nbformat_minor": 2
}
